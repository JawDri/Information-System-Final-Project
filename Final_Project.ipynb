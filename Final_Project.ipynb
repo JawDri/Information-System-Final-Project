{
  "nbformat": 4,
  "nbformat_minor": 0,
  "metadata": {
    "colab": {
      "name": "Steg_Hackaton.ipynb",
      "provenance": [],
      "collapsed_sections": [],
      "toc_visible": true
    },
    "kernelspec": {
      "name": "python3",
      "display_name": "Python 3"
    },
    "accelerator": "GPU",
    "widgets": {
      "application/vnd.jupyter.widget-state+json": {
        "67b2c6b745464ba0b00f9eb657eaf800": {
          "model_module": "@jupyter-widgets/controls",
          "model_name": "IntProgressModel",
          "state": {
            "_view_name": "ProgressView",
            "style": "IPY_MODEL_4cd93f457d414e90aba9def878a00e97",
            "_dom_classes": [],
            "description": "Processing: ",
            "_model_name": "IntProgressModel",
            "bar_style": "",
            "max": 13,
            "_view_module": "@jupyter-widgets/controls",
            "_model_module_version": "1.5.0",
            "value": 12,
            "_view_count": null,
            "_view_module_version": "1.5.0",
            "orientation": "horizontal",
            "min": 0,
            "description_tooltip": null,
            "_model_module": "@jupyter-widgets/controls",
            "layout": "IPY_MODEL_2147109eddea48968564fb4c3c350574"
          }
        },
        "4cd93f457d414e90aba9def878a00e97": {
          "model_module": "@jupyter-widgets/controls",
          "model_name": "ProgressStyleModel",
          "state": {
            "_view_name": "StyleView",
            "_model_name": "ProgressStyleModel",
            "description_width": "",
            "_view_module": "@jupyter-widgets/base",
            "_model_module_version": "1.5.0",
            "_view_count": null,
            "_view_module_version": "1.2.0",
            "bar_color": null,
            "_model_module": "@jupyter-widgets/controls"
          }
        },
        "2147109eddea48968564fb4c3c350574": {
          "model_module": "@jupyter-widgets/base",
          "model_name": "LayoutModel",
          "state": {
            "_view_name": "LayoutView",
            "grid_template_rows": null,
            "right": null,
            "justify_content": null,
            "_view_module": "@jupyter-widgets/base",
            "overflow": null,
            "_model_module_version": "1.2.0",
            "_view_count": null,
            "flex_flow": null,
            "width": null,
            "min_width": null,
            "border": null,
            "align_items": null,
            "bottom": null,
            "_model_module": "@jupyter-widgets/base",
            "top": null,
            "grid_column": null,
            "overflow_y": null,
            "overflow_x": null,
            "grid_auto_flow": null,
            "grid_area": null,
            "grid_template_columns": null,
            "flex": null,
            "_model_name": "LayoutModel",
            "justify_items": null,
            "grid_row": null,
            "max_height": null,
            "align_content": null,
            "visibility": null,
            "align_self": null,
            "height": null,
            "min_height": null,
            "padding": null,
            "grid_auto_rows": null,
            "grid_gap": null,
            "max_width": null,
            "order": null,
            "_view_module_version": "1.2.0",
            "grid_template_areas": null,
            "object_position": null,
            "object_fit": null,
            "grid_auto_columns": null,
            "margin": null,
            "display": null,
            "left": null
          }
        },
        "11d5f498d03d42e3878410fe3e76d3e1": {
          "model_module": "@jupyter-widgets/controls",
          "model_name": "TextModel",
          "state": {
            "_view_name": "TextView",
            "style": "IPY_MODEL_ee0bc513d5364cb99f727f2486f21686",
            "_dom_classes": [],
            "description": "",
            "_model_name": "TextModel",
            "placeholder": "​",
            "_view_module": "@jupyter-widgets/controls",
            "_model_module_version": "1.5.0",
            "value": "Following data types have been inferred automatically, if they are correct press enter to continue or type 'quit' otherwise.",
            "_view_count": null,
            "disabled": false,
            "_view_module_version": "1.5.0",
            "continuous_update": true,
            "description_tooltip": null,
            "_model_module": "@jupyter-widgets/controls",
            "layout": "IPY_MODEL_f3867845615d4919818203d74cd43a01"
          }
        },
        "ee0bc513d5364cb99f727f2486f21686": {
          "model_module": "@jupyter-widgets/controls",
          "model_name": "DescriptionStyleModel",
          "state": {
            "_view_name": "StyleView",
            "_model_name": "DescriptionStyleModel",
            "description_width": "",
            "_view_module": "@jupyter-widgets/base",
            "_model_module_version": "1.5.0",
            "_view_count": null,
            "_view_module_version": "1.2.0",
            "_model_module": "@jupyter-widgets/controls"
          }
        },
        "f3867845615d4919818203d74cd43a01": {
          "model_module": "@jupyter-widgets/base",
          "model_name": "LayoutModel",
          "state": {
            "_view_name": "LayoutView",
            "grid_template_rows": null,
            "right": null,
            "justify_content": null,
            "_view_module": "@jupyter-widgets/base",
            "overflow": null,
            "_model_module_version": "1.2.0",
            "_view_count": null,
            "flex_flow": null,
            "width": "100%",
            "min_width": null,
            "border": null,
            "align_items": null,
            "bottom": null,
            "_model_module": "@jupyter-widgets/base",
            "top": null,
            "grid_column": null,
            "overflow_y": null,
            "overflow_x": null,
            "grid_auto_flow": null,
            "grid_area": null,
            "grid_template_columns": null,
            "flex": null,
            "_model_name": "LayoutModel",
            "justify_items": null,
            "grid_row": null,
            "max_height": null,
            "align_content": null,
            "visibility": null,
            "align_self": null,
            "height": null,
            "min_height": null,
            "padding": null,
            "grid_auto_rows": null,
            "grid_gap": null,
            "max_width": null,
            "order": null,
            "_view_module_version": "1.2.0",
            "grid_template_areas": null,
            "object_position": null,
            "object_fit": null,
            "grid_auto_columns": null,
            "margin": null,
            "display": null,
            "left": null
          }
        },
        "9a44089beb42497ab6a92c123e33478f": {
          "model_module": "@jupyter-widgets/controls",
          "model_name": "IntProgressModel",
          "state": {
            "_view_name": "ProgressView",
            "style": "IPY_MODEL_912c077381544e47a353ec6fe824cf0d",
            "_dom_classes": [],
            "description": "Processing: ",
            "_model_name": "IntProgressModel",
            "bar_style": "",
            "max": 170,
            "_view_module": "@jupyter-widgets/controls",
            "_model_module_version": "1.5.0",
            "value": 170,
            "_view_count": null,
            "_view_module_version": "1.5.0",
            "orientation": "horizontal",
            "min": 0,
            "description_tooltip": null,
            "_model_module": "@jupyter-widgets/controls",
            "layout": "IPY_MODEL_0ff4b1b70d43446285769a8e9d3eee19"
          }
        },
        "912c077381544e47a353ec6fe824cf0d": {
          "model_module": "@jupyter-widgets/controls",
          "model_name": "ProgressStyleModel",
          "state": {
            "_view_name": "StyleView",
            "_model_name": "ProgressStyleModel",
            "description_width": "",
            "_view_module": "@jupyter-widgets/base",
            "_model_module_version": "1.5.0",
            "_view_count": null,
            "_view_module_version": "1.2.0",
            "bar_color": null,
            "_model_module": "@jupyter-widgets/controls"
          }
        },
        "0ff4b1b70d43446285769a8e9d3eee19": {
          "model_module": "@jupyter-widgets/base",
          "model_name": "LayoutModel",
          "state": {
            "_view_name": "LayoutView",
            "grid_template_rows": null,
            "right": null,
            "justify_content": null,
            "_view_module": "@jupyter-widgets/base",
            "overflow": null,
            "_model_module_version": "1.2.0",
            "_view_count": null,
            "flex_flow": null,
            "width": null,
            "min_width": null,
            "border": null,
            "align_items": null,
            "bottom": null,
            "_model_module": "@jupyter-widgets/base",
            "top": null,
            "grid_column": null,
            "overflow_y": null,
            "overflow_x": null,
            "grid_auto_flow": null,
            "grid_area": null,
            "grid_template_columns": null,
            "flex": null,
            "_model_name": "LayoutModel",
            "justify_items": null,
            "grid_row": null,
            "max_height": null,
            "align_content": null,
            "visibility": null,
            "align_self": null,
            "height": null,
            "min_height": null,
            "padding": null,
            "grid_auto_rows": null,
            "grid_gap": null,
            "max_width": null,
            "order": null,
            "_view_module_version": "1.2.0",
            "grid_template_areas": null,
            "object_position": null,
            "object_fit": null,
            "grid_auto_columns": null,
            "margin": null,
            "display": null,
            "left": null
          }
        },
        "395eafb9914e4f87a33b49bebb49f8a2": {
          "model_module": "@jupyter-widgets/controls",
          "model_name": "IntProgressModel",
          "state": {
            "_view_name": "ProgressView",
            "style": "IPY_MODEL_7c40614b19e4442a81ea6da887afc28a",
            "_dom_classes": [],
            "description": "Processing: ",
            "_model_name": "IntProgressModel",
            "bar_style": "",
            "max": 14,
            "_view_module": "@jupyter-widgets/controls",
            "_model_module_version": "1.5.0",
            "value": 14,
            "_view_count": null,
            "_view_module_version": "1.5.0",
            "orientation": "horizontal",
            "min": 0,
            "description_tooltip": null,
            "_model_module": "@jupyter-widgets/controls",
            "layout": "IPY_MODEL_a74eca3a5d2b44be9b87bb61047dbaf0"
          }
        },
        "7c40614b19e4442a81ea6da887afc28a": {
          "model_module": "@jupyter-widgets/controls",
          "model_name": "ProgressStyleModel",
          "state": {
            "_view_name": "StyleView",
            "_model_name": "ProgressStyleModel",
            "description_width": "",
            "_view_module": "@jupyter-widgets/base",
            "_model_module_version": "1.5.0",
            "_view_count": null,
            "_view_module_version": "1.2.0",
            "bar_color": null,
            "_model_module": "@jupyter-widgets/controls"
          }
        },
        "a74eca3a5d2b44be9b87bb61047dbaf0": {
          "model_module": "@jupyter-widgets/base",
          "model_name": "LayoutModel",
          "state": {
            "_view_name": "LayoutView",
            "grid_template_rows": null,
            "right": null,
            "justify_content": null,
            "_view_module": "@jupyter-widgets/base",
            "overflow": null,
            "_model_module_version": "1.2.0",
            "_view_count": null,
            "flex_flow": null,
            "width": null,
            "min_width": null,
            "border": null,
            "align_items": null,
            "bottom": null,
            "_model_module": "@jupyter-widgets/base",
            "top": null,
            "grid_column": null,
            "overflow_y": null,
            "overflow_x": null,
            "grid_auto_flow": null,
            "grid_area": null,
            "grid_template_columns": null,
            "flex": null,
            "_model_name": "LayoutModel",
            "justify_items": null,
            "grid_row": null,
            "max_height": null,
            "align_content": null,
            "visibility": null,
            "align_self": null,
            "height": null,
            "min_height": null,
            "padding": null,
            "grid_auto_rows": null,
            "grid_gap": null,
            "max_width": null,
            "order": null,
            "_view_module_version": "1.2.0",
            "grid_template_areas": null,
            "object_position": null,
            "object_fit": null,
            "grid_auto_columns": null,
            "margin": null,
            "display": null,
            "left": null
          }
        },
        "fe640d054ec0427b97c74a037ef989c4": {
          "model_module": "@jupyter-widgets/controls",
          "model_name": "IntProgressModel",
          "state": {
            "_view_name": "ProgressView",
            "style": "IPY_MODEL_71c582128cb54f349f9951c3c634615c",
            "_dom_classes": [],
            "description": "Processing: ",
            "_model_name": "IntProgressModel",
            "bar_style": "",
            "max": 16,
            "_view_module": "@jupyter-widgets/controls",
            "_model_module_version": "1.5.0",
            "value": 16,
            "_view_count": null,
            "_view_module_version": "1.5.0",
            "orientation": "horizontal",
            "min": 0,
            "description_tooltip": null,
            "_model_module": "@jupyter-widgets/controls",
            "layout": "IPY_MODEL_d31c3db03cfb420bb9ceb3b7636a5396"
          }
        },
        "71c582128cb54f349f9951c3c634615c": {
          "model_module": "@jupyter-widgets/controls",
          "model_name": "ProgressStyleModel",
          "state": {
            "_view_name": "StyleView",
            "_model_name": "ProgressStyleModel",
            "description_width": "",
            "_view_module": "@jupyter-widgets/base",
            "_model_module_version": "1.5.0",
            "_view_count": null,
            "_view_module_version": "1.2.0",
            "bar_color": null,
            "_model_module": "@jupyter-widgets/controls"
          }
        },
        "d31c3db03cfb420bb9ceb3b7636a5396": {
          "model_module": "@jupyter-widgets/base",
          "model_name": "LayoutModel",
          "state": {
            "_view_name": "LayoutView",
            "grid_template_rows": null,
            "right": null,
            "justify_content": null,
            "_view_module": "@jupyter-widgets/base",
            "overflow": null,
            "_model_module_version": "1.2.0",
            "_view_count": null,
            "flex_flow": null,
            "width": null,
            "min_width": null,
            "border": null,
            "align_items": null,
            "bottom": null,
            "_model_module": "@jupyter-widgets/base",
            "top": null,
            "grid_column": null,
            "overflow_y": null,
            "overflow_x": null,
            "grid_auto_flow": null,
            "grid_area": null,
            "grid_template_columns": null,
            "flex": null,
            "_model_name": "LayoutModel",
            "justify_items": null,
            "grid_row": null,
            "max_height": null,
            "align_content": null,
            "visibility": null,
            "align_self": null,
            "height": null,
            "min_height": null,
            "padding": null,
            "grid_auto_rows": null,
            "grid_gap": null,
            "max_width": null,
            "order": null,
            "_view_module_version": "1.2.0",
            "grid_template_areas": null,
            "object_position": null,
            "object_fit": null,
            "grid_auto_columns": null,
            "margin": null,
            "display": null,
            "left": null
          }
        }
      }
    }
  },
  "cells": [
    {
      "cell_type": "markdown",
      "metadata": {
        "id": "Ol6izdb_L0jT",
        "colab_type": "text"
      },
      "source": [
        "![picture](https://drive.google.com/uc?id=1g6CKfxXBbpiOPH9u6_s5obm5QHyK0C27)\n",
        "\n"
      ]
    },
    {
      "cell_type": "markdown",
      "metadata": {
        "id": "4YIs0SwxeMLd",
        "colab_type": "text"
      },
      "source": [
        "![picture](https://drive.google.com/uc?id=1CMZynkTLrNZUFatYqce2gf4Z5nYM5CtR)"
      ]
    },
    {
      "cell_type": "markdown",
      "metadata": {
        "id": "e51o7jMWQC0Z",
        "colab_type": "text"
      },
      "source": [
        "##Imports"
      ]
    },
    {
      "cell_type": "code",
      "metadata": {
        "id": "ILaVfupuvLvo",
        "colab_type": "code",
        "colab": {}
      },
      "source": [
        "import numpy as np\n",
        "import pandas as pd\n",
        "import matplotlib.pyplot as plt\n",
        "import seaborn as sns"
      ],
      "execution_count": 0,
      "outputs": []
    },
    {
      "cell_type": "markdown",
      "metadata": {
        "id": "GWyB1Y9bQI8K",
        "colab_type": "text"
      },
      "source": [
        "##Load Data"
      ]
    },
    {
      "cell_type": "code",
      "metadata": {
        "id": "g2Q4YyCG2PRk",
        "colab_type": "code",
        "outputId": "5cdace7c-d7a2-4052-d00b-3f4c6b6a5724",
        "colab": {
          "base_uri": "https://localhost:8080/",
          "height": 70
        }
      },
      "source": [
        "client = pd.read_csv('/content/drive/My Drive/CLIENT.csv')\n",
        "client_consom = pd.read_csv('/content/drive/My Drive/CLIENT_CONSOMMATION_UR62.csv')"
      ],
      "execution_count": 0,
      "outputs": [
        {
          "output_type": "stream",
          "text": [
            "/usr/local/lib/python3.6/dist-packages/IPython/core/interactiveshell.py:2718: DtypeWarning: Columns (1) have mixed types.Specify dtype option on import or set low_memory=False.\n",
            "  interactivity=interactivity, compiler=compiler, result=result)\n"
          ],
          "name": "stderr"
        }
      ]
    },
    {
      "cell_type": "markdown",
      "metadata": {
        "id": "fn-BoDEWQObr",
        "colab_type": "text"
      },
      "source": [
        "##Split the Data"
      ]
    },
    {
      "cell_type": "code",
      "metadata": {
        "id": "IVdgMZdf2wv1",
        "colab_type": "code",
        "colab": {}
      },
      "source": [
        "client_consom = pd.DataFrame(data= [x[0].split() for x in client_consom.values ] , columns =client_consom.iloc[0].index[0].split()+['unnamed'])"
      ],
      "execution_count": 0,
      "outputs": []
    },
    {
      "cell_type": "code",
      "metadata": {
        "id": "GyZCUQ7_7u6p",
        "colab_type": "code",
        "colab": {}
      },
      "source": [
        "client = pd.DataFrame(data= [x[0].split() for x in client.values ] , columns =client.iloc[0].index[0].split())"
      ],
      "execution_count": 0,
      "outputs": []
    },
    {
      "cell_type": "markdown",
      "metadata": {
        "id": "bx3EFVGOQbPj",
        "colab_type": "text"
      },
      "source": [
        "##View the Data"
      ]
    },
    {
      "cell_type": "code",
      "metadata": {
        "id": "WKtiCXtN7nt1",
        "colab_type": "code",
        "outputId": "48a94f8d-fa86-40c3-b970-4004a23a0cac",
        "colab": {
          "base_uri": "https://localhost:8080/",
          "height": 215
        }
      },
      "source": [
        "client_consom.head()"
      ],
      "execution_count": 0,
      "outputs": [
        {
          "output_type": "execute_result",
          "data": {
            "text/html": [
              "<div>\n",
              "<style scoped>\n",
              "    .dataframe tbody tr th:only-of-type {\n",
              "        vertical-align: middle;\n",
              "    }\n",
              "\n",
              "    .dataframe tbody tr th {\n",
              "        vertical-align: top;\n",
              "    }\n",
              "\n",
              "    .dataframe thead th {\n",
              "        text-align: right;\n",
              "    }\n",
              "</style>\n",
              "<table border=\"1\" class=\"dataframe\">\n",
              "  <thead>\n",
              "    <tr style=\"text-align: right;\">\n",
              "      <th></th>\n",
              "      <th>CF_AB_CODE</th>\n",
              "      <th>CF_AB_REF</th>\n",
              "      <th>CF_FACT_DATFACT</th>\n",
              "      <th>RC_BTTARIF_CODE</th>\n",
              "      <th>BT_CONSO_NUMCPTR</th>\n",
              "      <th>RC_BT_SCPTR_CODE</th>\n",
              "      <th>RC_CCPTEUR_CODE</th>\n",
              "      <th>RC_BT_ERLV_CODE</th>\n",
              "      <th>BT_CONSO_COEFF</th>\n",
              "      <th>BT_CONSO_CONSO1</th>\n",
              "      <th>BT_CONSO_CONSO2</th>\n",
              "      <th>BT_CONSO_CONSO3</th>\n",
              "      <th>BT_CONSO_CONSO4</th>\n",
              "      <th>BT_CONSO_AINDEX</th>\n",
              "      <th>BT_CONSO_NINDEX</th>\n",
              "      <th>BT_CONSO_NBRMOIS</th>\n",
              "      <th>unnamed</th>\n",
              "    </tr>\n",
              "  </thead>\n",
              "  <tbody>\n",
              "    <tr>\n",
              "      <th>0</th>\n",
              "      <td>BT</td>\n",
              "      <td>253127000</td>\n",
              "      <td>04/05/2007</td>\n",
              "      <td>10</td>\n",
              "      <td>7665294</td>\n",
              "      <td>0</td>\n",
              "      <td>202</td>\n",
              "      <td>6</td>\n",
              "      <td>1</td>\n",
              "      <td>200</td>\n",
              "      <td>400</td>\n",
              "      <td>0</td>\n",
              "      <td>0</td>\n",
              "      <td>21400</td>\n",
              "      <td>22000</td>\n",
              "      <td>4</td>\n",
              "      <td>None</td>\n",
              "    </tr>\n",
              "    <tr>\n",
              "      <th>1</th>\n",
              "      <td>BT</td>\n",
              "      <td>253127000</td>\n",
              "      <td>29/08/2007</td>\n",
              "      <td>10</td>\n",
              "      <td>7665294</td>\n",
              "      <td>0</td>\n",
              "      <td>202</td>\n",
              "      <td>6</td>\n",
              "      <td>1</td>\n",
              "      <td>200</td>\n",
              "      <td>82</td>\n",
              "      <td>0</td>\n",
              "      <td>0</td>\n",
              "      <td>22000</td>\n",
              "      <td>22282</td>\n",
              "      <td>4</td>\n",
              "      <td>None</td>\n",
              "    </tr>\n",
              "    <tr>\n",
              "      <th>2</th>\n",
              "      <td>BT</td>\n",
              "      <td>253127000</td>\n",
              "      <td>05/05/2008</td>\n",
              "      <td>10</td>\n",
              "      <td>7665294</td>\n",
              "      <td>0</td>\n",
              "      <td>202</td>\n",
              "      <td>6</td>\n",
              "      <td>1</td>\n",
              "      <td>200</td>\n",
              "      <td>200</td>\n",
              "      <td>0</td>\n",
              "      <td>0</td>\n",
              "      <td>22700</td>\n",
              "      <td>23100</td>\n",
              "      <td>4</td>\n",
              "      <td>None</td>\n",
              "    </tr>\n",
              "    <tr>\n",
              "      <th>3</th>\n",
              "      <td>BT</td>\n",
              "      <td>253127000</td>\n",
              "      <td>02/01/2009</td>\n",
              "      <td>10</td>\n",
              "      <td>7665294</td>\n",
              "      <td>0</td>\n",
              "      <td>202</td>\n",
              "      <td>6</td>\n",
              "      <td>1</td>\n",
              "      <td>200</td>\n",
              "      <td>431</td>\n",
              "      <td>0</td>\n",
              "      <td>0</td>\n",
              "      <td>23641</td>\n",
              "      <td>24272</td>\n",
              "      <td>4</td>\n",
              "      <td>None</td>\n",
              "    </tr>\n",
              "    <tr>\n",
              "      <th>4</th>\n",
              "      <td>BT</td>\n",
              "      <td>253127000</td>\n",
              "      <td>05/05/2009</td>\n",
              "      <td>10</td>\n",
              "      <td>7665294</td>\n",
              "      <td>0</td>\n",
              "      <td>202</td>\n",
              "      <td>6</td>\n",
              "      <td>1</td>\n",
              "      <td>200</td>\n",
              "      <td>353</td>\n",
              "      <td>0</td>\n",
              "      <td>0</td>\n",
              "      <td>24272</td>\n",
              "      <td>24825</td>\n",
              "      <td>4</td>\n",
              "      <td>None</td>\n",
              "    </tr>\n",
              "  </tbody>\n",
              "</table>\n",
              "</div>"
            ],
            "text/plain": [
              "  CF_AB_CODE  CF_AB_REF  ... BT_CONSO_NBRMOIS unnamed\n",
              "0         BT  253127000  ...                4    None\n",
              "1         BT  253127000  ...                4    None\n",
              "2         BT  253127000  ...                4    None\n",
              "3         BT  253127000  ...                4    None\n",
              "4         BT  253127000  ...                4    None\n",
              "\n",
              "[5 rows x 17 columns]"
            ]
          },
          "metadata": {
            "tags": []
          },
          "execution_count": 28
        }
      ]
    },
    {
      "cell_type": "code",
      "metadata": {
        "id": "zeOXGTO072Pb",
        "colab_type": "code",
        "outputId": "8122f5c5-d65f-43b1-da52-13209971a3ac",
        "colab": {
          "base_uri": "https://localhost:8080/",
          "height": 215
        }
      },
      "source": [
        "client.head()"
      ],
      "execution_count": 0,
      "outputs": [
        {
          "output_type": "execute_result",
          "data": {
            "text/html": [
              "<div>\n",
              "<style scoped>\n",
              "    .dataframe tbody tr th:only-of-type {\n",
              "        vertical-align: middle;\n",
              "    }\n",
              "\n",
              "    .dataframe tbody tr th {\n",
              "        vertical-align: top;\n",
              "    }\n",
              "\n",
              "    .dataframe thead th {\n",
              "        text-align: right;\n",
              "    }\n",
              "</style>\n",
              "<table border=\"1\" class=\"dataframe\">\n",
              "  <thead>\n",
              "    <tr style=\"text-align: right;\">\n",
              "      <th></th>\n",
              "      <th>RC_UR_CODE</th>\n",
              "      <th>CF_AB_CODE</th>\n",
              "      <th>CF_AB_REF</th>\n",
              "      <th>RC_CATEG_CODE</th>\n",
              "      <th>RC_COMMUNE_CODE</th>\n",
              "      <th>CF_AB_DAT_CREATION</th>\n",
              "      <th>CF_AB_SOLDE_FINAL</th>\n",
              "      <th>CF_AB_MENSUALISE</th>\n",
              "      <th>CF_AB_RELANCE</th>\n",
              "      <th>FRAUDE</th>\n",
              "    </tr>\n",
              "  </thead>\n",
              "  <tbody>\n",
              "    <tr>\n",
              "      <th>0</th>\n",
              "      <td>60</td>\n",
              "      <td>BT</td>\n",
              "      <td>000010010</td>\n",
              "      <td>11</td>\n",
              "      <td>0101</td>\n",
              "      <td>15/01/2009</td>\n",
              "      <td>299704</td>\n",
              "      <td>0</td>\n",
              "      <td>1</td>\n",
              "      <td>0</td>\n",
              "    </tr>\n",
              "    <tr>\n",
              "      <th>1</th>\n",
              "      <td>60</td>\n",
              "      <td>BT</td>\n",
              "      <td>000010020</td>\n",
              "      <td>11</td>\n",
              "      <td>0101</td>\n",
              "      <td>29/04/2014</td>\n",
              "      <td>0</td>\n",
              "      <td>0</td>\n",
              "      <td>0</td>\n",
              "      <td>0</td>\n",
              "    </tr>\n",
              "    <tr>\n",
              "      <th>2</th>\n",
              "      <td>60</td>\n",
              "      <td>BT</td>\n",
              "      <td>000110020</td>\n",
              "      <td>11</td>\n",
              "      <td>0101</td>\n",
              "      <td>23/12/2013</td>\n",
              "      <td>636432</td>\n",
              "      <td>0</td>\n",
              "      <td>1</td>\n",
              "      <td>0</td>\n",
              "    </tr>\n",
              "    <tr>\n",
              "      <th>3</th>\n",
              "      <td>60</td>\n",
              "      <td>BT</td>\n",
              "      <td>000110050</td>\n",
              "      <td>51</td>\n",
              "      <td>0101</td>\n",
              "      <td>08/10/2004</td>\n",
              "      <td>523661</td>\n",
              "      <td>0</td>\n",
              "      <td>0</td>\n",
              "      <td>0</td>\n",
              "    </tr>\n",
              "    <tr>\n",
              "      <th>4</th>\n",
              "      <td>60</td>\n",
              "      <td>BT</td>\n",
              "      <td>000110070</td>\n",
              "      <td>51</td>\n",
              "      <td>0101</td>\n",
              "      <td>08/10/2008</td>\n",
              "      <td>218691</td>\n",
              "      <td>0</td>\n",
              "      <td>0</td>\n",
              "      <td>0</td>\n",
              "    </tr>\n",
              "  </tbody>\n",
              "</table>\n",
              "</div>"
            ],
            "text/plain": [
              "  RC_UR_CODE CF_AB_CODE  CF_AB_REF  ... CF_AB_MENSUALISE CF_AB_RELANCE FRAUDE\n",
              "0         60         BT  000010010  ...                0             1      0\n",
              "1         60         BT  000010020  ...                0             0      0\n",
              "2         60         BT  000110020  ...                0             1      0\n",
              "3         60         BT  000110050  ...                0             0      0\n",
              "4         60         BT  000110070  ...                0             0      0\n",
              "\n",
              "[5 rows x 10 columns]"
            ]
          },
          "metadata": {
            "tags": []
          },
          "execution_count": 29
        }
      ]
    },
    {
      "cell_type": "markdown",
      "metadata": {
        "id": "V4HH7-wgQwYT",
        "colab_type": "text"
      },
      "source": [
        "##Data Processing"
      ]
    },
    {
      "cell_type": "markdown",
      "metadata": {
        "id": "YWATU_2LSFRr",
        "colab_type": "text"
      },
      "source": [
        "###client_consom"
      ]
    },
    {
      "cell_type": "code",
      "metadata": {
        "id": "zvPl29x-_J04",
        "colab_type": "code",
        "colab": {}
      },
      "source": [
        "# Create new feature : GAS > 29 / ELECTRICITY IN [9,29]\n",
        "def f(x):\n",
        "  if int(x) > 29:\n",
        "    return 1\n",
        "  else:\n",
        "    return 0\n",
        "\n",
        "client_consom['counter_type'] = client_consom['RC_BTTARIF_CODE'].apply(f)"
      ],
      "execution_count": 0,
      "outputs": []
    },
    {
      "cell_type": "code",
      "metadata": {
        "id": "gSjUCISFjbSK",
        "colab_type": "code",
        "colab": {}
      },
      "source": [
        "#Delete useless features\n",
        "client_consom.drop(['CF_AB_CODE','RC_CCPTEUR_CODE','RC_BT_ERLV_CODE','unnamed','RC_BTTARIF_CODE'], axis = 1, inplace= True)"
      ],
      "execution_count": 0,
      "outputs": []
    },
    {
      "cell_type": "code",
      "metadata": {
        "id": "R-WGzXiihDka",
        "colab_type": "code",
        "outputId": "458097bf-3185-4d32-aaa0-6fdc246c5cba",
        "colab": {
          "base_uri": "https://localhost:8080/",
          "height": 373
        }
      },
      "source": [
        "# view missing data\n",
        "total = client_consom.isnull().sum().sort_values(ascending=False)\n",
        "percent = (client_consom.isnull().sum()/client_consom.isnull().count()).sort_values(ascending=False)\n",
        "missing_data = pd.concat([total, percent], axis=1, keys=['Total', 'Percent'])\n",
        "missing_data.head(11)"
      ],
      "execution_count": 0,
      "outputs": [
        {
          "output_type": "execute_result",
          "data": {
            "text/html": [
              "<div>\n",
              "<style scoped>\n",
              "    .dataframe tbody tr th:only-of-type {\n",
              "        vertical-align: middle;\n",
              "    }\n",
              "\n",
              "    .dataframe tbody tr th {\n",
              "        vertical-align: top;\n",
              "    }\n",
              "\n",
              "    .dataframe thead th {\n",
              "        text-align: right;\n",
              "    }\n",
              "</style>\n",
              "<table border=\"1\" class=\"dataframe\">\n",
              "  <thead>\n",
              "    <tr style=\"text-align: right;\">\n",
              "      <th></th>\n",
              "      <th>Total</th>\n",
              "      <th>Percent</th>\n",
              "    </tr>\n",
              "  </thead>\n",
              "  <tbody>\n",
              "    <tr>\n",
              "      <th>BT_CONSO_NBRMOIS</th>\n",
              "      <td>341</td>\n",
              "      <td>0.000325</td>\n",
              "    </tr>\n",
              "    <tr>\n",
              "      <th>BT_CONSO_NINDEX</th>\n",
              "      <td>341</td>\n",
              "      <td>0.000325</td>\n",
              "    </tr>\n",
              "    <tr>\n",
              "      <th>BT_CONSO_AINDEX</th>\n",
              "      <td>341</td>\n",
              "      <td>0.000325</td>\n",
              "    </tr>\n",
              "    <tr>\n",
              "      <th>BT_CONSO_CONSO4</th>\n",
              "      <td>341</td>\n",
              "      <td>0.000325</td>\n",
              "    </tr>\n",
              "    <tr>\n",
              "      <th>BT_CONSO_CONSO3</th>\n",
              "      <td>341</td>\n",
              "      <td>0.000325</td>\n",
              "    </tr>\n",
              "    <tr>\n",
              "      <th>BT_CONSO_CONSO2</th>\n",
              "      <td>341</td>\n",
              "      <td>0.000325</td>\n",
              "    </tr>\n",
              "    <tr>\n",
              "      <th>BT_CONSO_CONSO1</th>\n",
              "      <td>341</td>\n",
              "      <td>0.000325</td>\n",
              "    </tr>\n",
              "    <tr>\n",
              "      <th>BT_CONSO_COEFF</th>\n",
              "      <td>28</td>\n",
              "      <td>0.000027</td>\n",
              "    </tr>\n",
              "    <tr>\n",
              "      <th>RC_BT_SCPTR_CODE</th>\n",
              "      <td>28</td>\n",
              "      <td>0.000027</td>\n",
              "    </tr>\n",
              "    <tr>\n",
              "      <th>BT_CONSO_NUMCPTR</th>\n",
              "      <td>28</td>\n",
              "      <td>0.000027</td>\n",
              "    </tr>\n",
              "    <tr>\n",
              "      <th>counter_type</th>\n",
              "      <td>0</td>\n",
              "      <td>0.000000</td>\n",
              "    </tr>\n",
              "  </tbody>\n",
              "</table>\n",
              "</div>"
            ],
            "text/plain": [
              "                  Total   Percent\n",
              "BT_CONSO_NBRMOIS    341  0.000325\n",
              "BT_CONSO_NINDEX     341  0.000325\n",
              "BT_CONSO_AINDEX     341  0.000325\n",
              "BT_CONSO_CONSO4     341  0.000325\n",
              "BT_CONSO_CONSO3     341  0.000325\n",
              "BT_CONSO_CONSO2     341  0.000325\n",
              "BT_CONSO_CONSO1     341  0.000325\n",
              "BT_CONSO_COEFF       28  0.000027\n",
              "RC_BT_SCPTR_CODE     28  0.000027\n",
              "BT_CONSO_NUMCPTR     28  0.000027\n",
              "counter_type          0  0.000000"
            ]
          },
          "metadata": {
            "tags": []
          },
          "execution_count": 32
        }
      ]
    },
    {
      "cell_type": "code",
      "metadata": {
        "id": "5IVXmEv3isai",
        "colab_type": "code",
        "colab": {}
      },
      "source": [
        "#Drop nan values\n",
        "client_consom.dropna(axis = 0, inplace= True)"
      ],
      "execution_count": 0,
      "outputs": []
    },
    {
      "cell_type": "code",
      "metadata": {
        "id": "zB7CGTnTg2Wc",
        "colab_type": "code",
        "colab": {}
      },
      "source": [
        "#change type of some variables\n",
        "client_consom.BT_CONSO_NINDEX = client_consom.BT_CONSO_NINDEX.astype(int)\n",
        "client_consom.BT_CONSO_AINDEX = client_consom.BT_CONSO_AINDEX.astype(int)"
      ],
      "execution_count": 0,
      "outputs": []
    },
    {
      "cell_type": "code",
      "metadata": {
        "id": "A6DY80-3gXJn",
        "colab_type": "code",
        "colab": {}
      },
      "source": [
        "#create new variable consumption\n",
        "client_consom['consumption'] = client_consom.BT_CONSO_NINDEX - client_consom.BT_CONSO_AINDEX"
      ],
      "execution_count": 0,
      "outputs": []
    },
    {
      "cell_type": "code",
      "metadata": {
        "id": "50yV90F6-Q-O",
        "colab_type": "code",
        "colab": {}
      },
      "source": [
        "#Delete those two variables after creating the variable consumption\n",
        "client_consom.drop(['BT_CONSO_NINDEX','BT_CONSO_AINDEX' ], axis = 1, inplace= True)"
      ],
      "execution_count": 0,
      "outputs": []
    },
    {
      "cell_type": "code",
      "metadata": {
        "id": "se0DY4Uu-LfY",
        "colab_type": "code",
        "colab": {}
      },
      "source": [
        "# change the names of the variables to get better understanding of the variables\n",
        "cols0 = ['client_id', 'invoice_date',\n",
        "         'counter_number','counter_statue','counter_coefficient',\n",
        "         'consommation_level_1','consommation_level_2',\n",
        "         'consommation_level_3','consommation_level_4','months_number','counter_type', 'consumption']\n",
        "\n",
        "client_consom.columns = cols0"
      ],
      "execution_count": 0,
      "outputs": []
    },
    {
      "cell_type": "code",
      "metadata": {
        "id": "1YAztJG0HSdb",
        "colab_type": "code",
        "colab": {}
      },
      "source": [
        "#Extract the year and the month and delete the variable\n",
        "client_consom['invoice_date'] = pd.to_datetime(client_consom['invoice_date'])\n",
        "client_consom['year'] = client_consom['invoice_date'].dt.year\n",
        "client_consom['month'] = client_consom['invoice_date'].dt.month\n",
        "client_consom.drop('invoice_date', axis = 1, inplace= True)"
      ],
      "execution_count": 0,
      "outputs": []
    },
    {
      "cell_type": "code",
      "metadata": {
        "id": "iVCq8QvvLY7q",
        "colab_type": "code",
        "outputId": "a467f7bc-4733-4717-89c6-2cb0349a5649",
        "colab": {
          "base_uri": "https://localhost:8080/",
          "height": 302
        }
      },
      "source": [
        "client_consom.counter_statue.value_counts()"
      ],
      "execution_count": 0,
      "outputs": [
        {
          "output_type": "execute_result",
          "data": {
            "text/plain": [
              "0         1018372\n",
              "1           18935\n",
              "5            8405\n",
              "COFFRE       1090\n",
              "COF           734\n",
              "4             265\n",
              "3             180\n",
              "C             110\n",
              "COFR           85\n",
              "2              13\n",
              "COFRE          10\n",
              "cof            10\n",
              "cofr            9\n",
              "coffr           8\n",
              "769             6\n",
              "coof            2\n",
              "Name: counter_statue, dtype: int64"
            ]
          },
          "metadata": {
            "tags": []
          },
          "execution_count": 39
        }
      ]
    },
    {
      "cell_type": "code",
      "metadata": {
        "id": "siefIhB_LeFN",
        "colab_type": "code",
        "colab": {}
      },
      "source": [
        "# delete unknown data\n",
        "client_consom = client_consom[client_consom.counter_statue != 'cof']\n",
        "client_consom = client_consom[client_consom.counter_statue != 'cofr']\n",
        "client_consom = client_consom[client_consom.counter_statue != 'coffr']\n",
        "client_consom = client_consom[client_consom.counter_statue != '769']\n",
        "client_consom = client_consom[client_consom.counter_statue != 'coof']\n",
        "client_consom = client_consom[client_consom.counter_statue != 'COF']\n",
        "client_consom = client_consom[client_consom.counter_statue != 'COFR']\n",
        "client_consom = client_consom[client_consom.counter_statue != 'COFRE']\n",
        "client_consom = client_consom[client_consom.counter_statue != 'C']\n",
        "client_consom = client_consom[client_consom.counter_statue != 'COFFRE']"
      ],
      "execution_count": 0,
      "outputs": []
    },
    {
      "cell_type": "code",
      "metadata": {
        "id": "7Bj5Y-8tXv3G",
        "colab_type": "code",
        "outputId": "8643e652-ff1f-4d1c-979d-04462ee3ac8b",
        "colab": {
          "base_uri": "https://localhost:8080/",
          "height": 390
        }
      },
      "source": [
        "# change the type of variables to integer\n",
        "for i in ['consumption','counter_type','counter_coefficient','counter_statue', \n",
        "          'consommation_level_1','consommation_level_2', 'consommation_level_3', 'consommation_level_4','months_number']:\n",
        "  client_consom[i]=client_consom[i].apply(int)\n",
        "\n",
        "# Plot the heatmap to see correlation between variables\n",
        "corr=client_consom.corr()\n",
        "sns.heatmap(corr, annot=True, fmt='0.2f')\n",
        "\n",
        "\n",
        "#as we can see there's poor correlation between variables"
      ],
      "execution_count": 0,
      "outputs": [
        {
          "output_type": "execute_result",
          "data": {
            "text/plain": [
              "<matplotlib.axes._subplots.AxesSubplot at 0x7f4445fa4198>"
            ]
          },
          "metadata": {
            "tags": []
          },
          "execution_count": 41
        },
        {
          "output_type": "display_data",
          "data": {
            "image/png": "[encoded data removed]",
            "text/plain": [
              "<Figure size 432x288 with 2 Axes>"
            ]
          },
          "metadata": {
            "tags": [],
            "needs_background": "light"
          }
        }
      ]
    },
    {
      "cell_type": "code",
      "metadata": {
        "id": "_N513HUlbNTr",
        "colab_type": "code",
        "outputId": "65e1da37-1d27-4520-b4e6-ffd8638d5cd0",
        "colab": {
          "base_uri": "https://localhost:8080/",
          "height": 256
        }
      },
      "source": [
        "plt.figure(figsize=(28, 5))\n",
        "plt.subplot(1, 4, 1)\n",
        "plt.hist(client_consom.consommation_level_1)\n",
        "plt.title('consommation_level_1')\n",
        "plt.subplot(1, 4, 2)\n",
        "plt.hist(client_consom.consommation_level_2)\n",
        "plt.title('consommation_level_2')\n",
        "plt.subplot(1, 4, 3)\n",
        "plt.hist(client_consom.consommation_level_3)\n",
        "plt.title('consommation_level_3')\n",
        "plt.subplot(1, 4, 4)\n",
        "plt.hist(client_consom.consommation_level_4)\n",
        "plt.title('consommation_level_4')\n",
        "\n",
        "# as we can see here, most of the consommation level are 0 or near 0\n",
        "# for each level of consommation we can notice the existing of few huge values\n",
        "#we can consider those big values as outliers : related to the overconsommation"
      ],
      "execution_count": 0,
      "outputs": [
        {
          "output_type": "execute_result",
          "data": {
            "text/plain": [
              "Text(0.5, 1.0, 'consommation_level_4')"
            ]
          },
          "metadata": {
            "tags": []
          },
          "execution_count": 42
        },
        {
          "output_type": "display_data",
          "data": {
            "image/png": "[encoded data removed]",
            "text/plain": [
              "<Figure size 2016x360 with 4 Axes>"
            ]
          },
          "metadata": {
            "tags": [],
            "needs_background": "light"
          }
        }
      ]
    },
    {
      "cell_type": "code",
      "metadata": {
        "id": "8IlcvcPm6Nj4",
        "colab_type": "code",
        "outputId": "90cea647-c74d-499d-e502-d9b5e273f2c5",
        "colab": {
          "base_uri": "https://localhost:8080/",
          "height": 101
        }
      },
      "source": [
        "client_consom.counter_coefficient.value_counts()\n",
        "# it is clear that 99% of counter_coefficients are 1. So this variable is useless"
      ],
      "execution_count": 0,
      "outputs": [
        {
          "output_type": "execute_result",
          "data": {
            "text/plain": [
              "1    1045962\n",
              "2        123\n",
              "3         82\n",
              "0          3\n",
              "Name: counter_coefficient, dtype: int64"
            ]
          },
          "metadata": {
            "tags": []
          },
          "execution_count": 43
        }
      ]
    },
    {
      "cell_type": "code",
      "metadata": {
        "id": "NX-YYpdOEgPr",
        "colab_type": "code",
        "outputId": "94d41bea-0810-4041-92ac-f921369c9d1b",
        "colab": {
          "base_uri": "https://localhost:8080/",
          "height": 156
        }
      },
      "source": [
        "client_consom.head(3)"
      ],
      "execution_count": 0,
      "outputs": [
        {
          "output_type": "execute_result",
          "data": {
            "text/html": [
              "<div>\n",
              "<style scoped>\n",
              "    .dataframe tbody tr th:only-of-type {\n",
              "        vertical-align: middle;\n",
              "    }\n",
              "\n",
              "    .dataframe tbody tr th {\n",
              "        vertical-align: top;\n",
              "    }\n",
              "\n",
              "    .dataframe thead th {\n",
              "        text-align: right;\n",
              "    }\n",
              "</style>\n",
              "<table border=\"1\" class=\"dataframe\">\n",
              "  <thead>\n",
              "    <tr style=\"text-align: right;\">\n",
              "      <th></th>\n",
              "      <th>client_id</th>\n",
              "      <th>counter_number</th>\n",
              "      <th>counter_statue</th>\n",
              "      <th>counter_coefficient</th>\n",
              "      <th>consommation_level_1</th>\n",
              "      <th>consommation_level_2</th>\n",
              "      <th>consommation_level_3</th>\n",
              "      <th>consommation_level_4</th>\n",
              "      <th>months_number</th>\n",
              "      <th>counter_type</th>\n",
              "      <th>consumption</th>\n",
              "      <th>year</th>\n",
              "      <th>month</th>\n",
              "    </tr>\n",
              "  </thead>\n",
              "  <tbody>\n",
              "    <tr>\n",
              "      <th>0</th>\n",
              "      <td>253127000</td>\n",
              "      <td>7665294</td>\n",
              "      <td>0</td>\n",
              "      <td>1</td>\n",
              "      <td>200</td>\n",
              "      <td>400</td>\n",
              "      <td>0</td>\n",
              "      <td>0</td>\n",
              "      <td>4</td>\n",
              "      <td>0</td>\n",
              "      <td>600</td>\n",
              "      <td>2007</td>\n",
              "      <td>4</td>\n",
              "    </tr>\n",
              "    <tr>\n",
              "      <th>1</th>\n",
              "      <td>253127000</td>\n",
              "      <td>7665294</td>\n",
              "      <td>0</td>\n",
              "      <td>1</td>\n",
              "      <td>200</td>\n",
              "      <td>82</td>\n",
              "      <td>0</td>\n",
              "      <td>0</td>\n",
              "      <td>4</td>\n",
              "      <td>0</td>\n",
              "      <td>282</td>\n",
              "      <td>2007</td>\n",
              "      <td>8</td>\n",
              "    </tr>\n",
              "    <tr>\n",
              "      <th>2</th>\n",
              "      <td>253127000</td>\n",
              "      <td>7665294</td>\n",
              "      <td>0</td>\n",
              "      <td>1</td>\n",
              "      <td>200</td>\n",
              "      <td>200</td>\n",
              "      <td>0</td>\n",
              "      <td>0</td>\n",
              "      <td>4</td>\n",
              "      <td>0</td>\n",
              "      <td>400</td>\n",
              "      <td>2008</td>\n",
              "      <td>5</td>\n",
              "    </tr>\n",
              "  </tbody>\n",
              "</table>\n",
              "</div>"
            ],
            "text/plain": [
              "   client_id counter_number  counter_statue  ...  consumption  year  month\n",
              "0  253127000        7665294               0  ...          600  2007      4\n",
              "1  253127000        7665294               0  ...          282  2007      8\n",
              "2  253127000        7665294               0  ...          400  2008      5\n",
              "\n",
              "[3 rows x 13 columns]"
            ]
          },
          "metadata": {
            "tags": []
          },
          "execution_count": 44
        }
      ]
    },
    {
      "cell_type": "markdown",
      "metadata": {
        "id": "DIh3Wp4ETTvA",
        "colab_type": "text"
      },
      "source": [
        "###client"
      ]
    },
    {
      "cell_type": "code",
      "metadata": {
        "id": "_Ii8DZkN81QE",
        "colab_type": "code",
        "colab": {}
      },
      "source": [
        "#drop useless variables\n",
        "client.drop(['CF_AB_CODE','CF_AB_SOLDE_FINAL','CF_AB_MENSUALISE','CF_AB_RELANCE','CF_AB_DAT_CREATION'], axis = 1, inplace= True)"
      ],
      "execution_count": 0,
      "outputs": []
    },
    {
      "cell_type": "code",
      "metadata": {
        "id": "wR1dPL2F9fZ-",
        "colab_type": "code",
        "colab": {}
      },
      "source": [
        "## change the names of the variables to get better understanding of the variables\n",
        "cols1 = ['district', 'client_id','client_catg','region','target']\n",
        "client.columns = cols1"
      ],
      "execution_count": 0,
      "outputs": []
    },
    {
      "cell_type": "code",
      "metadata": {
        "id": "bQRL_vXOkNOa",
        "colab_type": "code",
        "outputId": "a51e7593-a28d-4fc3-b5fb-796bad201f44",
        "colab": {
          "base_uri": "https://localhost:8080/",
          "height": 195
        }
      },
      "source": [
        "# view missing data\n",
        "total = client.isnull().sum().sort_values(ascending=False)\n",
        "percent = (client.isnull().sum()/client.isnull().count()).sort_values(ascending=False)\n",
        "missing_data = pd.concat([total, percent], axis=1, keys=['Total', 'Percent'])\n",
        "missing_data.head(11)"
      ],
      "execution_count": 0,
      "outputs": [
        {
          "output_type": "execute_result",
          "data": {
            "text/html": [
              "<div>\n",
              "<style scoped>\n",
              "    .dataframe tbody tr th:only-of-type {\n",
              "        vertical-align: middle;\n",
              "    }\n",
              "\n",
              "    .dataframe tbody tr th {\n",
              "        vertical-align: top;\n",
              "    }\n",
              "\n",
              "    .dataframe thead th {\n",
              "        text-align: right;\n",
              "    }\n",
              "</style>\n",
              "<table border=\"1\" class=\"dataframe\">\n",
              "  <thead>\n",
              "    <tr style=\"text-align: right;\">\n",
              "      <th></th>\n",
              "      <th>Total</th>\n",
              "      <th>Percent</th>\n",
              "    </tr>\n",
              "  </thead>\n",
              "  <tbody>\n",
              "    <tr>\n",
              "      <th>target</th>\n",
              "      <td>165597</td>\n",
              "      <td>0.241193</td>\n",
              "    </tr>\n",
              "    <tr>\n",
              "      <th>region</th>\n",
              "      <td>0</td>\n",
              "      <td>0.000000</td>\n",
              "    </tr>\n",
              "    <tr>\n",
              "      <th>client_catg</th>\n",
              "      <td>0</td>\n",
              "      <td>0.000000</td>\n",
              "    </tr>\n",
              "    <tr>\n",
              "      <th>client_id</th>\n",
              "      <td>0</td>\n",
              "      <td>0.000000</td>\n",
              "    </tr>\n",
              "    <tr>\n",
              "      <th>district</th>\n",
              "      <td>0</td>\n",
              "      <td>0.000000</td>\n",
              "    </tr>\n",
              "  </tbody>\n",
              "</table>\n",
              "</div>"
            ],
            "text/plain": [
              "              Total   Percent\n",
              "target       165597  0.241193\n",
              "region            0  0.000000\n",
              "client_catg       0  0.000000\n",
              "client_id         0  0.000000\n",
              "district          0  0.000000"
            ]
          },
          "metadata": {
            "tags": []
          },
          "execution_count": 47
        }
      ]
    },
    {
      "cell_type": "code",
      "metadata": {
        "id": "nzkGnDRNk0LU",
        "colab_type": "code",
        "colab": {}
      },
      "source": [
        "# drop the missing data in the target\n",
        "client.dropna(inplace=True)"
      ],
      "execution_count": 0,
      "outputs": []
    },
    {
      "cell_type": "code",
      "metadata": {
        "id": "LR_PW5VdkiYx",
        "colab_type": "code",
        "outputId": "d3f9b14f-4340-4786-ee0b-3541fdee2456",
        "colab": {
          "base_uri": "https://localhost:8080/",
          "height": 101
        }
      },
      "source": [
        "# view the categories of the target \n",
        "client.target.value_counts()"
      ],
      "execution_count": 0,
      "outputs": [
        {
          "output_type": "execute_result",
          "data": {
            "text/plain": [
              "0    510125\n",
              "1     10762\n",
              "2        67\n",
              "3        25\n",
              "Name: target, dtype: int64"
            ]
          },
          "metadata": {
            "tags": []
          },
          "execution_count": 49
        }
      ]
    },
    {
      "cell_type": "code",
      "metadata": {
        "id": "jGFJXqGL6W7s",
        "colab_type": "code",
        "outputId": "0406ef82-4c07-4365-86fd-6eb4fd2c618a",
        "colab": {
          "base_uri": "https://localhost:8080/",
          "height": 279
        }
      },
      "source": [
        "client['target'].value_counts().plot(kind='bar')\n",
        "\n",
        "#from this plot we can notice that the data is highly umbalanced\n",
        "# we have to apply the techniques that we learnt in the class during the modeling\n",
        "# to get good results"
      ],
      "execution_count": 0,
      "outputs": [
        {
          "output_type": "execute_result",
          "data": {
            "text/plain": [
              "<matplotlib.axes._subplots.AxesSubplot at 0x7f445e517588>"
            ]
          },
          "metadata": {
            "tags": []
          },
          "execution_count": 50
        },
        {
          "output_type": "display_data",
          "data": {
            "image/png": "[encoded data removed]",
            "text/plain": [
              "<Figure size 432x288 with 1 Axes>"
            ]
          },
          "metadata": {
            "tags": [],
            "needs_background": "light"
          }
        }
      ]
    },
    {
      "cell_type": "code",
      "metadata": {
        "id": "d1Y34yMhleGM",
        "colab_type": "code",
        "colab": {}
      },
      "source": [
        "# catogories =  1 : ELECTRICITY / 2 : GAS / 3 : ELECTRICITY & GAS\n",
        "# drop the observations of 2 & 3\n",
        "client = client[client.target != '2']\n",
        "client = client[client.target != '3']"
      ],
      "execution_count": 0,
      "outputs": []
    },
    {
      "cell_type": "code",
      "metadata": {
        "id": "QOgLAmu3iQHr",
        "colab_type": "code",
        "outputId": "8c95634c-ed38-4b97-a650-b31f5a0b8af6",
        "colab": {
          "base_uri": "https://localhost:8080/",
          "height": 265
        }
      },
      "source": [
        "#plot the client_catg\n",
        "client['client_catg'].value_counts().plot(kind='pie')\n",
        "\n",
        "# as we can see that most of the client are ordinary"
      ],
      "execution_count": 0,
      "outputs": [
        {
          "output_type": "execute_result",
          "data": {
            "text/plain": [
              "<matplotlib.axes._subplots.AxesSubplot at 0x7f443f41ada0>"
            ]
          },
          "metadata": {
            "tags": []
          },
          "execution_count": 52
        },
        {
          "output_type": "display_data",
          "data": {
            "image/png": "[encoded data removed]",
            "text/plain": [
              "<Figure size 432x288 with 1 Axes>"
            ]
          },
          "metadata": {
            "tags": []
          }
        }
      ]
    },
    {
      "cell_type": "code",
      "metadata": {
        "id": "q9U_6ux7k81q",
        "colab_type": "code",
        "outputId": "ac8d66d3-e633-40f7-c7a3-2381666d41c8",
        "colab": {
          "base_uri": "https://localhost:8080/",
          "height": 282
        }
      },
      "source": [
        "#let's see the number of fraudulent invoice in each category of clients\n",
        "\n",
        "x=np.array([11,12,13])\n",
        "y1=[client[client.client_catg=='11']['target'].value_counts()[0],client[client.client_catg=='12']['target'].value_counts()[0],client[client.client_catg=='51']['target'].value_counts()[0]]\n",
        "y2=[client[client.client_catg=='11']['target'].value_counts()[1],client[client.client_catg=='12']['target'].value_counts()[1],client[client.client_catg=='51']['target'].value_counts()[1]]\n",
        "width=0.1\n",
        "plt.bar(x - width/2, y1, width, label='0')\n",
        "plt.bar(x + width/2, y2, width, label='1')\n",
        "plt.legend()"
      ],
      "execution_count": 0,
      "outputs": [
        {
          "output_type": "execute_result",
          "data": {
            "text/plain": [
              "<matplotlib.legend.Legend at 0x7f4442c9ab00>"
            ]
          },
          "metadata": {
            "tags": []
          },
          "execution_count": 53
        },
        {
          "output_type": "display_data",
          "data": {
            "image/png": "[encoded data removed]",
            "text/plain": [
              "<Figure size 432x288 with 1 Axes>"
            ]
          },
          "metadata": {
            "tags": [],
            "needs_background": "light"
          }
        }
      ]
    },
    {
      "cell_type": "code",
      "metadata": {
        "id": "CU9aNJHv7O5Q",
        "colab_type": "code",
        "outputId": "c556c9c7-c48b-4a73-a3e7-a78a1529a96b",
        "colab": {
          "base_uri": "https://localhost:8080/",
          "height": 290
        }
      },
      "source": [
        "plt.figure(figsize=(25, 5))\n",
        "plt.subplot(1,2,1)\n",
        "client['district'].value_counts().plot(kind='bar')\n",
        "plt.title('district')\n",
        "plt.subplot(1,2,2)\n",
        "client['region'].value_counts().plot(kind='bar')\n",
        "plt.title('region')\n",
        "\n",
        "# we see that there's a lot of district and region\n",
        "# but you will see after joing the two dataset the majority of our clients come from the same district and region"
      ],
      "execution_count": 0,
      "outputs": [
        {
          "output_type": "execute_result",
          "data": {
            "text/plain": [
              "Text(0.5, 1.0, 'region')"
            ]
          },
          "metadata": {
            "tags": []
          },
          "execution_count": 54
        },
        {
          "output_type": "display_data",
          "data": {
            "image/png": "[encoded data removed]",
            "text/plain": [
              "<Figure size 1800x360 with 2 Axes>"
            ]
          },
          "metadata": {
            "tags": [],
            "needs_background": "light"
          }
        }
      ]
    },
    {
      "cell_type": "markdown",
      "metadata": {
        "id": "yq6CRUKPRN6l",
        "colab_type": "text"
      },
      "source": [
        "### prepare data for the join"
      ]
    },
    {
      "cell_type": "markdown",
      "metadata": {
        "id": "tSfHwlTdTLvU",
        "colab_type": "text"
      },
      "source": [
        "Now, we will do some transformation on the client_consom dataframe to make it ready for the join with the client dataframe."
      ]
    },
    {
      "cell_type": "code",
      "metadata": {
        "id": "UMrMm300Ejaj",
        "colab_type": "code",
        "outputId": "9c4911da-5e13-49bf-f48e-1ac0ba420305",
        "colab": {
          "base_uri": "https://localhost:8080/",
          "height": 136
        }
      },
      "source": [
        "client.head(3)"
      ],
      "execution_count": 0,
      "outputs": [
        {
          "output_type": "execute_result",
          "data": {
            "text/html": [
              "<div>\n",
              "<style scoped>\n",
              "    .dataframe tbody tr th:only-of-type {\n",
              "        vertical-align: middle;\n",
              "    }\n",
              "\n",
              "    .dataframe tbody tr th {\n",
              "        vertical-align: top;\n",
              "    }\n",
              "\n",
              "    .dataframe thead th {\n",
              "        text-align: right;\n",
              "    }\n",
              "</style>\n",
              "<table border=\"1\" class=\"dataframe\">\n",
              "  <thead>\n",
              "    <tr style=\"text-align: right;\">\n",
              "      <th></th>\n",
              "      <th>district</th>\n",
              "      <th>client_id</th>\n",
              "      <th>client_catg</th>\n",
              "      <th>region</th>\n",
              "      <th>target</th>\n",
              "    </tr>\n",
              "  </thead>\n",
              "  <tbody>\n",
              "    <tr>\n",
              "      <th>0</th>\n",
              "      <td>60</td>\n",
              "      <td>000010010</td>\n",
              "      <td>11</td>\n",
              "      <td>0101</td>\n",
              "      <td>0</td>\n",
              "    </tr>\n",
              "    <tr>\n",
              "      <th>1</th>\n",
              "      <td>60</td>\n",
              "      <td>000010020</td>\n",
              "      <td>11</td>\n",
              "      <td>0101</td>\n",
              "      <td>0</td>\n",
              "    </tr>\n",
              "    <tr>\n",
              "      <th>2</th>\n",
              "      <td>60</td>\n",
              "      <td>000110020</td>\n",
              "      <td>11</td>\n",
              "      <td>0101</td>\n",
              "      <td>0</td>\n",
              "    </tr>\n",
              "  </tbody>\n",
              "</table>\n",
              "</div>"
            ],
            "text/plain": [
              "  district  client_id client_catg region target\n",
              "0       60  000010010          11   0101      0\n",
              "1       60  000010020          11   0101      0\n",
              "2       60  000110020          11   0101      0"
            ]
          },
          "metadata": {
            "tags": []
          },
          "execution_count": 55
        }
      ]
    },
    {
      "cell_type": "code",
      "metadata": {
        "id": "l5eJPU1ijD9r",
        "colab_type": "code",
        "outputId": "a809abd4-2079-429d-c3e2-bd20757be794",
        "colab": {
          "base_uri": "https://localhost:8080/",
          "height": 156
        }
      },
      "source": [
        "client_consom.head(3)"
      ],
      "execution_count": 0,
      "outputs": [
        {
          "output_type": "execute_result",
          "data": {
            "text/html": [
              "<div>\n",
              "<style scoped>\n",
              "    .dataframe tbody tr th:only-of-type {\n",
              "        vertical-align: middle;\n",
              "    }\n",
              "\n",
              "    .dataframe tbody tr th {\n",
              "        vertical-align: top;\n",
              "    }\n",
              "\n",
              "    .dataframe thead th {\n",
              "        text-align: right;\n",
              "    }\n",
              "</style>\n",
              "<table border=\"1\" class=\"dataframe\">\n",
              "  <thead>\n",
              "    <tr style=\"text-align: right;\">\n",
              "      <th></th>\n",
              "      <th>client_id</th>\n",
              "      <th>counter_number</th>\n",
              "      <th>counter_statue</th>\n",
              "      <th>counter_coefficient</th>\n",
              "      <th>consommation_level_1</th>\n",
              "      <th>consommation_level_2</th>\n",
              "      <th>consommation_level_3</th>\n",
              "      <th>consommation_level_4</th>\n",
              "      <th>months_number</th>\n",
              "      <th>counter_type</th>\n",
              "      <th>consumption</th>\n",
              "      <th>year</th>\n",
              "      <th>month</th>\n",
              "    </tr>\n",
              "  </thead>\n",
              "  <tbody>\n",
              "    <tr>\n",
              "      <th>0</th>\n",
              "      <td>253127000</td>\n",
              "      <td>7665294</td>\n",
              "      <td>0</td>\n",
              "      <td>1</td>\n",
              "      <td>200</td>\n",
              "      <td>400</td>\n",
              "      <td>0</td>\n",
              "      <td>0</td>\n",
              "      <td>4</td>\n",
              "      <td>0</td>\n",
              "      <td>600</td>\n",
              "      <td>2007</td>\n",
              "      <td>4</td>\n",
              "    </tr>\n",
              "    <tr>\n",
              "      <th>1</th>\n",
              "      <td>253127000</td>\n",
              "      <td>7665294</td>\n",
              "      <td>0</td>\n",
              "      <td>1</td>\n",
              "      <td>200</td>\n",
              "      <td>82</td>\n",
              "      <td>0</td>\n",
              "      <td>0</td>\n",
              "      <td>4</td>\n",
              "      <td>0</td>\n",
              "      <td>282</td>\n",
              "      <td>2007</td>\n",
              "      <td>8</td>\n",
              "    </tr>\n",
              "    <tr>\n",
              "      <th>2</th>\n",
              "      <td>253127000</td>\n",
              "      <td>7665294</td>\n",
              "      <td>0</td>\n",
              "      <td>1</td>\n",
              "      <td>200</td>\n",
              "      <td>200</td>\n",
              "      <td>0</td>\n",
              "      <td>0</td>\n",
              "      <td>4</td>\n",
              "      <td>0</td>\n",
              "      <td>400</td>\n",
              "      <td>2008</td>\n",
              "      <td>5</td>\n",
              "    </tr>\n",
              "  </tbody>\n",
              "</table>\n",
              "</div>"
            ],
            "text/plain": [
              "   client_id counter_number  counter_statue  ...  consumption  year  month\n",
              "0  253127000        7665294               0  ...          600  2007      4\n",
              "1  253127000        7665294               0  ...          282  2007      8\n",
              "2  253127000        7665294               0  ...          400  2008      5\n",
              "\n",
              "[3 rows x 13 columns]"
            ]
          },
          "metadata": {
            "tags": []
          },
          "execution_count": 56
        }
      ]
    },
    {
      "cell_type": "code",
      "metadata": {
        "id": "u9XTrwV5qBgM",
        "colab_type": "code",
        "colab": {}
      },
      "source": [
        "#Cast the counter_number to not facing some problems during the join\n",
        "client_consom.counter_number = client_consom.counter_number.astype(str)"
      ],
      "execution_count": 0,
      "outputs": []
    },
    {
      "cell_type": "code",
      "metadata": {
        "id": "7VFY3EI7koO6",
        "colab_type": "code",
        "colab": {}
      },
      "source": [
        "#Applying statistical operations to all the observations grouped by the counter_number and creating new unique features to each counter\n",
        "new=client_consom.groupby('counter_number')['counter_statue'].agg([np.min, np.mean, np.median, np.max, np.std, np.var, np.sum])\n",
        "new.columns = ['counter_statue_min','counter_statue_mean','counter_statue_median','counter_statue_max', 'counter_statue_std', 'counter_statue_var', 'counter_statue_sum']\n",
        "client_consom = pd.merge(client_consom,new,how='left',left_on='counter_number',right_on='counter_number')\n",
        "\n",
        "new=client_consom.groupby('counter_number')['consommation_level_1'].agg([np.min, np.mean, np.median, np.max, np.std, np.var, np.sum])\n",
        "new.columns = ['consommation_level_1_min','consommation_level_1_mean','consommation_level_1_median','consommation_level_1_max', 'consommation_level_1_std', 'cconsommation_level_1_var', 'consommation_level_1_sum']\n",
        "client_consom = pd.merge(client_consom,new,how='left',left_on='counter_number',right_on='counter_number')\n",
        "\n",
        "new=client_consom.groupby('counter_number')['consommation_level_2'].agg([np.min, np.mean, np.median, np.max, np.std, np.var, np.sum])\n",
        "new.columns = ['consommation_level_2_min','consommation_level_2_mean','consommation_level_2_median','cconsommation_level_2_max', 'consommation_level_2_std', 'consommation_level_2_var', 'consommation_level_2_sum']\n",
        "client_consom = pd.merge(client_consom,new,how='left',left_on='counter_number',right_on='counter_number')\n",
        "\n",
        "new=client_consom.groupby('counter_number')['consommation_level_3'].agg([np.min, np.mean, np.median, np.max, np.std, np.var, np.sum])\n",
        "new.columns = ['consommation_level_3_min','consommation_level_3_mean','consommation_level_3_median','consommation_level_3_max', 'consommation_level_3_std', 'consommation_level_3_var', 'consommation_level_3_sum']\n",
        "client_consom = pd.merge(client_consom,new,how='left',left_on='counter_number',right_on='counter_number')\n",
        "\n",
        "new=client_consom.groupby('counter_number')['consommation_level_4'].agg([np.min, np.mean, np.median, np.max, np.std, np.var, np.sum])\n",
        "new.columns = ['consommation_level_4_min','consommation_level_4_mean','consommation_level_4_median','consommation_level_4_max', 'consommation_level_4_std', 'consommation_level_4_var', 'consommation_level_4_sum']\n",
        "client_consom = pd.merge(client_consom,new,how='left',left_on='counter_number',right_on='counter_number')\n",
        "\n",
        "new=client_consom.groupby('counter_number')['months_number'].agg([np.min, np.mean, np.median, np.max, np.std, np.var, np.sum])\n",
        "new.columns = ['cmonths_number_min','months_number_mean','months_number_median','months_number_max', 'months_number_std', 'months_number_var', 'months_number_sum']\n",
        "client_consom = pd.merge(client_consom,new,how='left',left_on='counter_number',right_on='counter_number')\n",
        "\n",
        "new=client_consom.groupby('counter_number')['counter_type'].agg([np.min, np.mean, np.median, np.max, np.std, np.var, np.sum])\n",
        "new.columns = ['counter_type_min','counter_type_mean','counter_type_median','counter_type_max', 'counter_type_std', 'counter_type_var', 'counter_type_sum']\n",
        "client_consom = pd.merge(client_consom,new,how='left',left_on='counter_number',right_on='counter_number')\n",
        "\n",
        "new=client_consom.groupby('counter_number')['consumption'].agg([np.min, np.mean, np.median, np.max, np.std, np.var, np.sum])\n",
        "new.columns = ['consumption_min','consumption_mean','consumption_median','consumption_max', 'consumption_std', 'consumption_var', 'consumption_sum']\n",
        "client_consom = pd.merge(client_consom,new,how='left',left_on='counter_number',right_on='counter_number')\n",
        "\n",
        "new=client_consom.groupby('counter_number')['year'].agg([np.min, np.mean, np.median, np.max, np.std, np.var, np.sum])\n",
        "new.columns = ['year_min','year_mean','year_median','year_max', 'year_std', 'year_var', 'year_sum']\n",
        "client_consom = pd.merge(client_consom,new,how='left',left_on='counter_number',right_on='counter_number')\n",
        "\n",
        "new=client_consom.groupby('counter_number')['month'].agg([np.min, np.mean, np.median, np.max, np.std, np.var, np.sum])\n",
        "new.columns = ['month_min','month_mean','month_median','month_max', 'month_std', 'month_var', 'month_sum']\n",
        "client_consom = pd.merge(client_consom,new,how='left',left_on='counter_number',right_on='counter_number')"
      ],
      "execution_count": 0,
      "outputs": []
    },
    {
      "cell_type": "code",
      "metadata": {
        "id": "CtgN0Ol3m77r",
        "colab_type": "code",
        "colab": {}
      },
      "source": [
        "#Fill nans with 0\n",
        "client_consom.fillna(0, inplace= True)"
      ],
      "execution_count": 0,
      "outputs": []
    },
    {
      "cell_type": "code",
      "metadata": {
        "id": "PQtjrOVdnpOt",
        "colab_type": "code",
        "colab": {}
      },
      "source": [
        "#Drop original features after creating new unique features to each counter\n",
        "client_consom.drop(['counter_statue','counter_coefficient','consommation_level_1','consommation_level_2','consommation_level_3','consommation_level_4','months_number','counter_type','consumption','month','year'], axis = 1, inplace = True)\n"
      ],
      "execution_count": 0,
      "outputs": []
    },
    {
      "cell_type": "code",
      "metadata": {
        "id": "SydTaX_hoX7E",
        "colab_type": "code",
        "outputId": "ef157ebc-d712-4e18-9eed-6a8a19fcdebb",
        "colab": {
          "base_uri": "https://localhost:8080/",
          "height": 156
        }
      },
      "source": [
        "client_consom.head(3)"
      ],
      "execution_count": 0,
      "outputs": [
        {
          "output_type": "execute_result",
          "data": {
            "text/html": [
              "<div>\n",
              "<style scoped>\n",
              "    .dataframe tbody tr th:only-of-type {\n",
              "        vertical-align: middle;\n",
              "    }\n",
              "\n",
              "    .dataframe tbody tr th {\n",
              "        vertical-align: top;\n",
              "    }\n",
              "\n",
              "    .dataframe thead th {\n",
              "        text-align: right;\n",
              "    }\n",
              "</style>\n",
              "<table border=\"1\" class=\"dataframe\">\n",
              "  <thead>\n",
              "    <tr style=\"text-align: right;\">\n",
              "      <th></th>\n",
              "      <th>client_id</th>\n",
              "      <th>counter_number</th>\n",
              "      <th>counter_statue_min</th>\n",
              "      <th>counter_statue_mean</th>\n",
              "      <th>counter_statue_median</th>\n",
              "      <th>counter_statue_max</th>\n",
              "      <th>counter_statue_std</th>\n",
              "      <th>counter_statue_var</th>\n",
              "      <th>counter_statue_sum</th>\n",
              "      <th>consommation_level_1_min</th>\n",
              "      <th>consommation_level_1_mean</th>\n",
              "      <th>consommation_level_1_median</th>\n",
              "      <th>consommation_level_1_max</th>\n",
              "      <th>consommation_level_1_std</th>\n",
              "      <th>cconsommation_level_1_var</th>\n",
              "      <th>consommation_level_1_sum</th>\n",
              "      <th>consommation_level_2_min</th>\n",
              "      <th>consommation_level_2_mean</th>\n",
              "      <th>consommation_level_2_median</th>\n",
              "      <th>cconsommation_level_2_max</th>\n",
              "      <th>consommation_level_2_std</th>\n",
              "      <th>consommation_level_2_var</th>\n",
              "      <th>consommation_level_2_sum</th>\n",
              "      <th>consommation_level_3_min</th>\n",
              "      <th>consommation_level_3_mean</th>\n",
              "      <th>consommation_level_3_median</th>\n",
              "      <th>consommation_level_3_max</th>\n",
              "      <th>consommation_level_3_std</th>\n",
              "      <th>consommation_level_3_var</th>\n",
              "      <th>consommation_level_3_sum</th>\n",
              "      <th>consommation_level_4_min</th>\n",
              "      <th>consommation_level_4_mean</th>\n",
              "      <th>consommation_level_4_median</th>\n",
              "      <th>consommation_level_4_max</th>\n",
              "      <th>consommation_level_4_std</th>\n",
              "      <th>consommation_level_4_var</th>\n",
              "      <th>consommation_level_4_sum</th>\n",
              "      <th>cmonths_number_min</th>\n",
              "      <th>months_number_mean</th>\n",
              "      <th>months_number_median</th>\n",
              "      <th>months_number_max</th>\n",
              "      <th>months_number_std</th>\n",
              "      <th>months_number_var</th>\n",
              "      <th>months_number_sum</th>\n",
              "      <th>counter_type_min</th>\n",
              "      <th>counter_type_mean</th>\n",
              "      <th>counter_type_median</th>\n",
              "      <th>counter_type_max</th>\n",
              "      <th>counter_type_std</th>\n",
              "      <th>counter_type_var</th>\n",
              "      <th>counter_type_sum</th>\n",
              "      <th>consumption_min</th>\n",
              "      <th>consumption_mean</th>\n",
              "      <th>consumption_median</th>\n",
              "      <th>consumption_max</th>\n",
              "      <th>consumption_std</th>\n",
              "      <th>consumption_var</th>\n",
              "      <th>consumption_sum</th>\n",
              "      <th>year_min</th>\n",
              "      <th>year_mean</th>\n",
              "      <th>year_median</th>\n",
              "      <th>year_max</th>\n",
              "      <th>year_std</th>\n",
              "      <th>year_var</th>\n",
              "      <th>year_sum</th>\n",
              "      <th>month_min</th>\n",
              "      <th>month_mean</th>\n",
              "      <th>month_median</th>\n",
              "      <th>month_max</th>\n",
              "      <th>month_std</th>\n",
              "      <th>month_var</th>\n",
              "      <th>month_sum</th>\n",
              "    </tr>\n",
              "  </thead>\n",
              "  <tbody>\n",
              "    <tr>\n",
              "      <th>0</th>\n",
              "      <td>253127000</td>\n",
              "      <td>7665294</td>\n",
              "      <td>0</td>\n",
              "      <td>0.5</td>\n",
              "      <td>0.0</td>\n",
              "      <td>5</td>\n",
              "      <td>1.581139</td>\n",
              "      <td>2.5</td>\n",
              "      <td>5</td>\n",
              "      <td>175</td>\n",
              "      <td>197.5</td>\n",
              "      <td>200.0</td>\n",
              "      <td>200</td>\n",
              "      <td>7.905694</td>\n",
              "      <td>62.5</td>\n",
              "      <td>1975</td>\n",
              "      <td>0</td>\n",
              "      <td>305.9</td>\n",
              "      <td>329.0</td>\n",
              "      <td>717</td>\n",
              "      <td>199.92468</td>\n",
              "      <td>39969.877778</td>\n",
              "      <td>3059</td>\n",
              "      <td>0</td>\n",
              "      <td>0.0</td>\n",
              "      <td>0.0</td>\n",
              "      <td>0</td>\n",
              "      <td>0.0</td>\n",
              "      <td>0.0</td>\n",
              "      <td>0</td>\n",
              "      <td>0</td>\n",
              "      <td>0.0</td>\n",
              "      <td>0.0</td>\n",
              "      <td>0</td>\n",
              "      <td>0.0</td>\n",
              "      <td>0.0</td>\n",
              "      <td>0</td>\n",
              "      <td>2</td>\n",
              "      <td>3.8</td>\n",
              "      <td>4.0</td>\n",
              "      <td>4</td>\n",
              "      <td>0.632456</td>\n",
              "      <td>0.4</td>\n",
              "      <td>38</td>\n",
              "      <td>0</td>\n",
              "      <td>0.0</td>\n",
              "      <td>0.0</td>\n",
              "      <td>0</td>\n",
              "      <td>0.0</td>\n",
              "      <td>0.0</td>\n",
              "      <td>0</td>\n",
              "      <td>175</td>\n",
              "      <td>503.4</td>\n",
              "      <td>529.0</td>\n",
              "      <td>917</td>\n",
              "      <td>204.283681</td>\n",
              "      <td>41731.822222</td>\n",
              "      <td>5034</td>\n",
              "      <td>2006</td>\n",
              "      <td>2007.8</td>\n",
              "      <td>2008.0</td>\n",
              "      <td>2009</td>\n",
              "      <td>1.032796</td>\n",
              "      <td>1.066667</td>\n",
              "      <td>20078</td>\n",
              "      <td>2</td>\n",
              "      <td>4.6</td>\n",
              "      <td>4.5</td>\n",
              "      <td>8</td>\n",
              "      <td>2.633122</td>\n",
              "      <td>6.933333</td>\n",
              "      <td>46</td>\n",
              "    </tr>\n",
              "    <tr>\n",
              "      <th>1</th>\n",
              "      <td>253127000</td>\n",
              "      <td>7665294</td>\n",
              "      <td>0</td>\n",
              "      <td>0.5</td>\n",
              "      <td>0.0</td>\n",
              "      <td>5</td>\n",
              "      <td>1.581139</td>\n",
              "      <td>2.5</td>\n",
              "      <td>5</td>\n",
              "      <td>175</td>\n",
              "      <td>197.5</td>\n",
              "      <td>200.0</td>\n",
              "      <td>200</td>\n",
              "      <td>7.905694</td>\n",
              "      <td>62.5</td>\n",
              "      <td>1975</td>\n",
              "      <td>0</td>\n",
              "      <td>305.9</td>\n",
              "      <td>329.0</td>\n",
              "      <td>717</td>\n",
              "      <td>199.92468</td>\n",
              "      <td>39969.877778</td>\n",
              "      <td>3059</td>\n",
              "      <td>0</td>\n",
              "      <td>0.0</td>\n",
              "      <td>0.0</td>\n",
              "      <td>0</td>\n",
              "      <td>0.0</td>\n",
              "      <td>0.0</td>\n",
              "      <td>0</td>\n",
              "      <td>0</td>\n",
              "      <td>0.0</td>\n",
              "      <td>0.0</td>\n",
              "      <td>0</td>\n",
              "      <td>0.0</td>\n",
              "      <td>0.0</td>\n",
              "      <td>0</td>\n",
              "      <td>2</td>\n",
              "      <td>3.8</td>\n",
              "      <td>4.0</td>\n",
              "      <td>4</td>\n",
              "      <td>0.632456</td>\n",
              "      <td>0.4</td>\n",
              "      <td>38</td>\n",
              "      <td>0</td>\n",
              "      <td>0.0</td>\n",
              "      <td>0.0</td>\n",
              "      <td>0</td>\n",
              "      <td>0.0</td>\n",
              "      <td>0.0</td>\n",
              "      <td>0</td>\n",
              "      <td>175</td>\n",
              "      <td>503.4</td>\n",
              "      <td>529.0</td>\n",
              "      <td>917</td>\n",
              "      <td>204.283681</td>\n",
              "      <td>41731.822222</td>\n",
              "      <td>5034</td>\n",
              "      <td>2006</td>\n",
              "      <td>2007.8</td>\n",
              "      <td>2008.0</td>\n",
              "      <td>2009</td>\n",
              "      <td>1.032796</td>\n",
              "      <td>1.066667</td>\n",
              "      <td>20078</td>\n",
              "      <td>2</td>\n",
              "      <td>4.6</td>\n",
              "      <td>4.5</td>\n",
              "      <td>8</td>\n",
              "      <td>2.633122</td>\n",
              "      <td>6.933333</td>\n",
              "      <td>46</td>\n",
              "    </tr>\n",
              "    <tr>\n",
              "      <th>2</th>\n",
              "      <td>253127000</td>\n",
              "      <td>7665294</td>\n",
              "      <td>0</td>\n",
              "      <td>0.5</td>\n",
              "      <td>0.0</td>\n",
              "      <td>5</td>\n",
              "      <td>1.581139</td>\n",
              "      <td>2.5</td>\n",
              "      <td>5</td>\n",
              "      <td>175</td>\n",
              "      <td>197.5</td>\n",
              "      <td>200.0</td>\n",
              "      <td>200</td>\n",
              "      <td>7.905694</td>\n",
              "      <td>62.5</td>\n",
              "      <td>1975</td>\n",
              "      <td>0</td>\n",
              "      <td>305.9</td>\n",
              "      <td>329.0</td>\n",
              "      <td>717</td>\n",
              "      <td>199.92468</td>\n",
              "      <td>39969.877778</td>\n",
              "      <td>3059</td>\n",
              "      <td>0</td>\n",
              "      <td>0.0</td>\n",
              "      <td>0.0</td>\n",
              "      <td>0</td>\n",
              "      <td>0.0</td>\n",
              "      <td>0.0</td>\n",
              "      <td>0</td>\n",
              "      <td>0</td>\n",
              "      <td>0.0</td>\n",
              "      <td>0.0</td>\n",
              "      <td>0</td>\n",
              "      <td>0.0</td>\n",
              "      <td>0.0</td>\n",
              "      <td>0</td>\n",
              "      <td>2</td>\n",
              "      <td>3.8</td>\n",
              "      <td>4.0</td>\n",
              "      <td>4</td>\n",
              "      <td>0.632456</td>\n",
              "      <td>0.4</td>\n",
              "      <td>38</td>\n",
              "      <td>0</td>\n",
              "      <td>0.0</td>\n",
              "      <td>0.0</td>\n",
              "      <td>0</td>\n",
              "      <td>0.0</td>\n",
              "      <td>0.0</td>\n",
              "      <td>0</td>\n",
              "      <td>175</td>\n",
              "      <td>503.4</td>\n",
              "      <td>529.0</td>\n",
              "      <td>917</td>\n",
              "      <td>204.283681</td>\n",
              "      <td>41731.822222</td>\n",
              "      <td>5034</td>\n",
              "      <td>2006</td>\n",
              "      <td>2007.8</td>\n",
              "      <td>2008.0</td>\n",
              "      <td>2009</td>\n",
              "      <td>1.032796</td>\n",
              "      <td>1.066667</td>\n",
              "      <td>20078</td>\n",
              "      <td>2</td>\n",
              "      <td>4.6</td>\n",
              "      <td>4.5</td>\n",
              "      <td>8</td>\n",
              "      <td>2.633122</td>\n",
              "      <td>6.933333</td>\n",
              "      <td>46</td>\n",
              "    </tr>\n",
              "  </tbody>\n",
              "</table>\n",
              "</div>"
            ],
            "text/plain": [
              "   client_id counter_number  ...  month_var  month_sum\n",
              "0  253127000        7665294  ...   6.933333         46\n",
              "1  253127000        7665294  ...   6.933333         46\n",
              "2  253127000        7665294  ...   6.933333         46\n",
              "\n",
              "[3 rows x 72 columns]"
            ]
          },
          "metadata": {
            "tags": []
          },
          "execution_count": 61
        }
      ]
    },
    {
      "cell_type": "code",
      "metadata": {
        "id": "-8o_oGgIoiHn",
        "colab_type": "code",
        "colab": {}
      },
      "source": [
        "#After droping original features, all the observations related to a specific counter are equal\n",
        "#So drop duplicates and keep one observation per counter\n",
        "client_consom.drop_duplicates(inplace= True, ignore_index= True)"
      ],
      "execution_count": 0,
      "outputs": []
    },
    {
      "cell_type": "code",
      "metadata": {
        "id": "nTFhMYFEpWHd",
        "colab_type": "code",
        "colab": {}
      },
      "source": [
        "#Some deeper preprocessing and cleaning\n",
        "client_consom = client_consom[client_consom.counter_number != 'FICTIF']\n",
        "client_consom = client_consom[client_consom.counter_number != 'FICT']\n",
        "client_consom = client_consom[client_consom.counter_number != 'fictif']\n",
        "client_consom = client_consom[client_consom.counter_number != 'J']\n",
        "client_consom = client_consom[client_consom.counter_number != 'J/C']\n",
        "client_consom = client_consom[client_consom.counter_number != 'Fictif']\n",
        "client_consom = client_consom[client_consom.counter_number != 'jc']\n",
        "client_consom = client_consom[client_consom.counter_number != 'j/c']\n",
        "client_consom = client_consom[client_consom.counter_number != 'fitif']\n",
        "client_consom = client_consom[client_consom.counter_number != 'fioctif']\n",
        "client_consom = client_consom[client_consom.counter_number != 'fict']\n",
        "client_consom = client_consom[client_consom.counter_number != 'ficif']\n",
        "client_consom = client_consom[client_consom.counter_number != 'fectif']\n",
        "client_consom = client_consom[client_consom.counter_number != '/COFFRET']\n",
        "client_consom = client_consom[client_consom.counter_number != 'J.COFF']"
      ],
      "execution_count": 0,
      "outputs": []
    },
    {
      "cell_type": "code",
      "metadata": {
        "id": "N4X8Adt_sbz1",
        "colab_type": "code",
        "colab": {}
      },
      "source": [
        "# merge the two datasets via the client_id variable\n",
        "train = pd.merge(client, client_consom, on='client_id', how='right')"
      ],
      "execution_count": 0,
      "outputs": []
    },
    {
      "cell_type": "code",
      "metadata": {
        "id": "LAL0QsI7xNBf",
        "colab_type": "code",
        "colab": {}
      },
      "source": [
        "#Drop nans created after joining\n",
        "train.dropna(inplace= True)"
      ],
      "execution_count": 0,
      "outputs": []
    },
    {
      "cell_type": "code",
      "metadata": {
        "id": "4c8TRfxm7dus",
        "colab_type": "code",
        "outputId": "8073674b-5118-486e-ba4f-2229bfe5c5e0",
        "colab": {
          "base_uri": "https://localhost:8080/",
          "height": 84
        }
      },
      "source": [
        "train.region.value_counts()\n",
        "# it is clear that 99% of regions are 0301. So this variable is useless"
      ],
      "execution_count": 0,
      "outputs": [
        {
          "output_type": "execute_result",
          "data": {
            "text/plain": [
              "0301    46508\n",
              "0302       42\n",
              "0303        5\n",
              "Name: region, dtype: int64"
            ]
          },
          "metadata": {
            "tags": []
          },
          "execution_count": 66
        }
      ]
    },
    {
      "cell_type": "code",
      "metadata": {
        "id": "PZejX-eD7fwf",
        "colab_type": "code",
        "outputId": "9da30a27-0d90-4e26-80c1-7b55b8812ff1",
        "colab": {
          "base_uri": "https://localhost:8080/",
          "height": 50
        }
      },
      "source": [
        "train.district.value_counts()\n",
        "# it is clear that 100% of districts are 62. So this variable is useless"
      ],
      "execution_count": 0,
      "outputs": [
        {
          "output_type": "execute_result",
          "data": {
            "text/plain": [
              "62    46555\n",
              "Name: district, dtype: int64"
            ]
          },
          "metadata": {
            "tags": []
          },
          "execution_count": 67
        }
      ]
    },
    {
      "cell_type": "code",
      "metadata": {
        "id": "lP5TKQoe7pxR",
        "colab_type": "code",
        "colab": {}
      },
      "source": [
        "#Drop useless varibales\n",
        "train.drop(['district', 'region'], axis = 1, inplace = True)"
      ],
      "execution_count": 0,
      "outputs": []
    },
    {
      "cell_type": "code",
      "metadata": {
        "id": "M2m-FunC4yvP",
        "colab_type": "code",
        "outputId": "8b48aea0-b74a-4265-93b9-366d1dbecbfe",
        "colab": {
          "base_uri": "https://localhost:8080/",
          "height": 34
        }
      },
      "source": [
        "#We created 70 new features\n",
        "print(train.shape)"
      ],
      "execution_count": 0,
      "outputs": [
        {
          "output_type": "stream",
          "text": [
            "(46555, 74)\n"
          ],
          "name": "stdout"
        }
      ]
    },
    {
      "cell_type": "code",
      "metadata": {
        "id": "CNK_u3B8x0BV",
        "colab_type": "code",
        "colab": {}
      },
      "source": [
        "#Set the counter_number as index cuz we are going to make classification on it\n",
        "train.set_index('counter_number', inplace = True)"
      ],
      "execution_count": 0,
      "outputs": []
    },
    {
      "cell_type": "code",
      "metadata": {
        "id": "9Z6qa5Rvtzjo",
        "colab_type": "code",
        "outputId": "f22b0016-a1e6-426c-cafd-bd03d9a64732",
        "colab": {
          "base_uri": "https://localhost:8080/",
          "height": 67
        }
      },
      "source": [
        "train.target.value_counts()\n",
        "# It's clear that our data is highly umbalaced\n",
        "#So we will be doing some techniques to handle this problem"
      ],
      "execution_count": 0,
      "outputs": [
        {
          "output_type": "execute_result",
          "data": {
            "text/plain": [
              "0    45801\n",
              "1      754\n",
              "Name: target, dtype: int64"
            ]
          },
          "metadata": {
            "tags": []
          },
          "execution_count": 71
        }
      ]
    },
    {
      "cell_type": "code",
      "metadata": {
        "id": "hTIAf6UH0zaC",
        "colab_type": "code",
        "colab": {}
      },
      "source": [
        "#Cast the target to integer\n",
        "train.target= train.target.astype(int)\n",
        "#Cast the client_catg to integer\n",
        "train.client_catg = train.client_catg.astype(int)"
      ],
      "execution_count": 0,
      "outputs": []
    },
    {
      "cell_type": "markdown",
      "metadata": {
        "id": "b8TUUfPWjqWy",
        "colab_type": "text"
      },
      "source": [
        "###Add data with target = 1"
      ]
    },
    {
      "cell_type": "markdown",
      "metadata": {
        "id": "LbeAIStRjvPn",
        "colab_type": "text"
      },
      "source": [
        "We extracted rows with target = 1 from the other datasets to make the data a bit balanced"
      ]
    },
    {
      "cell_type": "code",
      "metadata": {
        "id": "4GwCC3PRj4sM",
        "colab_type": "code",
        "outputId": "70cd5ba7-9510-44b1-d2a7-a9b636beae38",
        "colab": {
          "base_uri": "https://localhost:8080/",
          "height": 245
        }
      },
      "source": [
        "train = train.reset_index()\n",
        "train_1 = pd.read_csv('/content/drive/My Drive/Target_1.csv')\n",
        "train = pd.concat([train,train_1])\n",
        "train = train.sample(frac=1).set_index('counter_number')\n",
        "train.head()"
      ],
      "execution_count": 0,
      "outputs": [
        {
          "output_type": "execute_result",
          "data": {
            "text/html": [
              "<div>\n",
              "<style scoped>\n",
              "    .dataframe tbody tr th:only-of-type {\n",
              "        vertical-align: middle;\n",
              "    }\n",
              "\n",
              "    .dataframe tbody tr th {\n",
              "        vertical-align: top;\n",
              "    }\n",
              "\n",
              "    .dataframe thead th {\n",
              "        text-align: right;\n",
              "    }\n",
              "</style>\n",
              "<table border=\"1\" class=\"dataframe\">\n",
              "  <thead>\n",
              "    <tr style=\"text-align: right;\">\n",
              "      <th></th>\n",
              "      <th>client_id</th>\n",
              "      <th>client_catg</th>\n",
              "      <th>target</th>\n",
              "      <th>counter_statue_min</th>\n",
              "      <th>counter_statue_mean</th>\n",
              "      <th>counter_statue_median</th>\n",
              "      <th>counter_statue_max</th>\n",
              "      <th>counter_statue_std</th>\n",
              "      <th>counter_statue_var</th>\n",
              "      <th>counter_statue_sum</th>\n",
              "      <th>consommation_level_1_min</th>\n",
              "      <th>consommation_level_1_mean</th>\n",
              "      <th>consommation_level_1_median</th>\n",
              "      <th>consommation_level_1_max</th>\n",
              "      <th>consommation_level_1_std</th>\n",
              "      <th>cconsommation_level_1_var</th>\n",
              "      <th>consommation_level_1_sum</th>\n",
              "      <th>consommation_level_2_min</th>\n",
              "      <th>consommation_level_2_mean</th>\n",
              "      <th>consommation_level_2_median</th>\n",
              "      <th>cconsommation_level_2_max</th>\n",
              "      <th>consommation_level_2_std</th>\n",
              "      <th>consommation_level_2_var</th>\n",
              "      <th>consommation_level_2_sum</th>\n",
              "      <th>consommation_level_3_min</th>\n",
              "      <th>consommation_level_3_mean</th>\n",
              "      <th>consommation_level_3_median</th>\n",
              "      <th>consommation_level_3_max</th>\n",
              "      <th>consommation_level_3_std</th>\n",
              "      <th>consommation_level_3_var</th>\n",
              "      <th>consommation_level_3_sum</th>\n",
              "      <th>consommation_level_4_min</th>\n",
              "      <th>consommation_level_4_mean</th>\n",
              "      <th>consommation_level_4_median</th>\n",
              "      <th>consommation_level_4_max</th>\n",
              "      <th>consommation_level_4_std</th>\n",
              "      <th>consommation_level_4_var</th>\n",
              "      <th>consommation_level_4_sum</th>\n",
              "      <th>cmonths_number_min</th>\n",
              "      <th>months_number_mean</th>\n",
              "      <th>months_number_median</th>\n",
              "      <th>months_number_max</th>\n",
              "      <th>months_number_std</th>\n",
              "      <th>months_number_var</th>\n",
              "      <th>months_number_sum</th>\n",
              "      <th>counter_type_min</th>\n",
              "      <th>counter_type_mean</th>\n",
              "      <th>counter_type_median</th>\n",
              "      <th>counter_type_max</th>\n",
              "      <th>counter_type_std</th>\n",
              "      <th>counter_type_var</th>\n",
              "      <th>counter_type_sum</th>\n",
              "      <th>consumption_min</th>\n",
              "      <th>consumption_mean</th>\n",
              "      <th>consumption_median</th>\n",
              "      <th>consumption_max</th>\n",
              "      <th>consumption_std</th>\n",
              "      <th>consumption_var</th>\n",
              "      <th>consumption_sum</th>\n",
              "      <th>year_min</th>\n",
              "      <th>year_mean</th>\n",
              "      <th>year_median</th>\n",
              "      <th>year_max</th>\n",
              "      <th>year_std</th>\n",
              "      <th>year_var</th>\n",
              "      <th>year_sum</th>\n",
              "      <th>month_min</th>\n",
              "      <th>month_mean</th>\n",
              "      <th>month_median</th>\n",
              "      <th>month_max</th>\n",
              "      <th>month_std</th>\n",
              "      <th>month_var</th>\n",
              "      <th>month_sum</th>\n",
              "    </tr>\n",
              "    <tr>\n",
              "      <th>counter_number</th>\n",
              "      <th></th>\n",
              "      <th></th>\n",
              "      <th></th>\n",
              "      <th></th>\n",
              "      <th></th>\n",
              "      <th></th>\n",
              "      <th></th>\n",
              "      <th></th>\n",
              "      <th></th>\n",
              "      <th></th>\n",
              "      <th></th>\n",
              "      <th></th>\n",
              "      <th></th>\n",
              "      <th></th>\n",
              "      <th></th>\n",
              "      <th></th>\n",
              "      <th></th>\n",
              "      <th></th>\n",
              "      <th></th>\n",
              "      <th></th>\n",
              "      <th></th>\n",
              "      <th></th>\n",
              "      <th></th>\n",
              "      <th></th>\n",
              "      <th></th>\n",
              "      <th></th>\n",
              "      <th></th>\n",
              "      <th></th>\n",
              "      <th></th>\n",
              "      <th></th>\n",
              "      <th></th>\n",
              "      <th></th>\n",
              "      <th></th>\n",
              "      <th></th>\n",
              "      <th></th>\n",
              "      <th></th>\n",
              "      <th></th>\n",
              "      <th></th>\n",
              "      <th></th>\n",
              "      <th></th>\n",
              "      <th></th>\n",
              "      <th></th>\n",
              "      <th></th>\n",
              "      <th></th>\n",
              "      <th></th>\n",
              "      <th></th>\n",
              "      <th></th>\n",
              "      <th></th>\n",
              "      <th></th>\n",
              "      <th></th>\n",
              "      <th></th>\n",
              "      <th></th>\n",
              "      <th></th>\n",
              "      <th></th>\n",
              "      <th></th>\n",
              "      <th></th>\n",
              "      <th></th>\n",
              "      <th></th>\n",
              "      <th></th>\n",
              "      <th></th>\n",
              "      <th></th>\n",
              "      <th></th>\n",
              "      <th></th>\n",
              "      <th></th>\n",
              "      <th></th>\n",
              "      <th></th>\n",
              "      <th></th>\n",
              "      <th></th>\n",
              "      <th></th>\n",
              "      <th></th>\n",
              "      <th></th>\n",
              "      <th></th>\n",
              "      <th></th>\n",
              "    </tr>\n",
              "  </thead>\n",
              "  <tbody>\n",
              "    <tr>\n",
              "      <th>8634518</th>\n",
              "      <td>253381000</td>\n",
              "      <td>11</td>\n",
              "      <td>0</td>\n",
              "      <td>0</td>\n",
              "      <td>0.000000</td>\n",
              "      <td>0.0</td>\n",
              "      <td>0</td>\n",
              "      <td>0.000000</td>\n",
              "      <td>0.000000</td>\n",
              "      <td>0</td>\n",
              "      <td>0</td>\n",
              "      <td>508.937500</td>\n",
              "      <td>496.5</td>\n",
              "      <td>1163</td>\n",
              "      <td>339.091820</td>\n",
              "      <td>114983.262500</td>\n",
              "      <td>8143</td>\n",
              "      <td>0</td>\n",
              "      <td>0.000000</td>\n",
              "      <td>0.0</td>\n",
              "      <td>0</td>\n",
              "      <td>0.000000</td>\n",
              "      <td>0.000000</td>\n",
              "      <td>0</td>\n",
              "      <td>0</td>\n",
              "      <td>0.000000</td>\n",
              "      <td>0.0</td>\n",
              "      <td>0</td>\n",
              "      <td>0.000000</td>\n",
              "      <td>0.000000</td>\n",
              "      <td>0</td>\n",
              "      <td>0</td>\n",
              "      <td>0.000000</td>\n",
              "      <td>0.0</td>\n",
              "      <td>0</td>\n",
              "      <td>0.000000</td>\n",
              "      <td>0.000000</td>\n",
              "      <td>0</td>\n",
              "      <td>4</td>\n",
              "      <td>4.750000</td>\n",
              "      <td>4.0</td>\n",
              "      <td>12</td>\n",
              "      <td>2.175623</td>\n",
              "      <td>4.733333</td>\n",
              "      <td>76</td>\n",
              "      <td>0</td>\n",
              "      <td>0.0</td>\n",
              "      <td>0.0</td>\n",
              "      <td>0</td>\n",
              "      <td>0.0</td>\n",
              "      <td>0.0</td>\n",
              "      <td>0</td>\n",
              "      <td>0</td>\n",
              "      <td>508.937500</td>\n",
              "      <td>496.5</td>\n",
              "      <td>1163</td>\n",
              "      <td>339.091820</td>\n",
              "      <td>1.149833e+05</td>\n",
              "      <td>8143</td>\n",
              "      <td>2006</td>\n",
              "      <td>2008.750000</td>\n",
              "      <td>2008.5</td>\n",
              "      <td>2013</td>\n",
              "      <td>2.175623</td>\n",
              "      <td>4.733333</td>\n",
              "      <td>32140</td>\n",
              "      <td>3</td>\n",
              "      <td>7.625000</td>\n",
              "      <td>8.0</td>\n",
              "      <td>12</td>\n",
              "      <td>3.030402</td>\n",
              "      <td>9.183333</td>\n",
              "      <td>122</td>\n",
              "    </tr>\n",
              "    <tr>\n",
              "      <th>64137</th>\n",
              "      <td>254496500</td>\n",
              "      <td>11</td>\n",
              "      <td>0</td>\n",
              "      <td>0</td>\n",
              "      <td>0.000000</td>\n",
              "      <td>0.0</td>\n",
              "      <td>0</td>\n",
              "      <td>0.000000</td>\n",
              "      <td>0.000000</td>\n",
              "      <td>0</td>\n",
              "      <td>21</td>\n",
              "      <td>168.392857</td>\n",
              "      <td>146.0</td>\n",
              "      <td>407</td>\n",
              "      <td>108.939106</td>\n",
              "      <td>11867.728836</td>\n",
              "      <td>4715</td>\n",
              "      <td>0</td>\n",
              "      <td>0.000000</td>\n",
              "      <td>0.0</td>\n",
              "      <td>0</td>\n",
              "      <td>0.000000</td>\n",
              "      <td>0.000000</td>\n",
              "      <td>0</td>\n",
              "      <td>0</td>\n",
              "      <td>0.000000</td>\n",
              "      <td>0.0</td>\n",
              "      <td>0</td>\n",
              "      <td>0.000000</td>\n",
              "      <td>0.000000</td>\n",
              "      <td>0</td>\n",
              "      <td>0</td>\n",
              "      <td>0.000000</td>\n",
              "      <td>0.0</td>\n",
              "      <td>0</td>\n",
              "      <td>0.000000</td>\n",
              "      <td>0.000000</td>\n",
              "      <td>0</td>\n",
              "      <td>2</td>\n",
              "      <td>4.214286</td>\n",
              "      <td>4.0</td>\n",
              "      <td>8</td>\n",
              "      <td>1.133893</td>\n",
              "      <td>1.285714</td>\n",
              "      <td>118</td>\n",
              "      <td>0</td>\n",
              "      <td>0.0</td>\n",
              "      <td>0.0</td>\n",
              "      <td>0</td>\n",
              "      <td>0.0</td>\n",
              "      <td>0.0</td>\n",
              "      <td>0</td>\n",
              "      <td>21</td>\n",
              "      <td>168.392857</td>\n",
              "      <td>146.0</td>\n",
              "      <td>407</td>\n",
              "      <td>108.939106</td>\n",
              "      <td>1.186773e+04</td>\n",
              "      <td>4715</td>\n",
              "      <td>2005</td>\n",
              "      <td>2011.000000</td>\n",
              "      <td>2011.0</td>\n",
              "      <td>2017</td>\n",
              "      <td>3.485419</td>\n",
              "      <td>12.148148</td>\n",
              "      <td>56308</td>\n",
              "      <td>1</td>\n",
              "      <td>5.607143</td>\n",
              "      <td>5.5</td>\n",
              "      <td>12</td>\n",
              "      <td>3.034850</td>\n",
              "      <td>9.210317</td>\n",
              "      <td>157</td>\n",
              "    </tr>\n",
              "    <tr>\n",
              "      <th>4238192</th>\n",
              "      <td>215884890</td>\n",
              "      <td>11</td>\n",
              "      <td>1</td>\n",
              "      <td>0</td>\n",
              "      <td>0.000000</td>\n",
              "      <td>0.0</td>\n",
              "      <td>0</td>\n",
              "      <td>0.000000</td>\n",
              "      <td>0.000000</td>\n",
              "      <td>0</td>\n",
              "      <td>9</td>\n",
              "      <td>324.818182</td>\n",
              "      <td>183.0</td>\n",
              "      <td>1395</td>\n",
              "      <td>346.629298</td>\n",
              "      <td>120151.870130</td>\n",
              "      <td>7146</td>\n",
              "      <td>0</td>\n",
              "      <td>0.000000</td>\n",
              "      <td>0.0</td>\n",
              "      <td>0</td>\n",
              "      <td>0.000000</td>\n",
              "      <td>0.000000</td>\n",
              "      <td>0</td>\n",
              "      <td>0</td>\n",
              "      <td>0.000000</td>\n",
              "      <td>0.0</td>\n",
              "      <td>0</td>\n",
              "      <td>0.000000</td>\n",
              "      <td>0.000000</td>\n",
              "      <td>0</td>\n",
              "      <td>0</td>\n",
              "      <td>0.000000</td>\n",
              "      <td>0.0</td>\n",
              "      <td>0</td>\n",
              "      <td>0.000000</td>\n",
              "      <td>0.000000</td>\n",
              "      <td>0</td>\n",
              "      <td>2</td>\n",
              "      <td>4.545455</td>\n",
              "      <td>4.0</td>\n",
              "      <td>10</td>\n",
              "      <td>1.765470</td>\n",
              "      <td>3.116883</td>\n",
              "      <td>100</td>\n",
              "      <td>1</td>\n",
              "      <td>1.0</td>\n",
              "      <td>1.0</td>\n",
              "      <td>1</td>\n",
              "      <td>0.0</td>\n",
              "      <td>0.0</td>\n",
              "      <td>22</td>\n",
              "      <td>9</td>\n",
              "      <td>324.818182</td>\n",
              "      <td>183.0</td>\n",
              "      <td>1395</td>\n",
              "      <td>346.629298</td>\n",
              "      <td>1.201519e+05</td>\n",
              "      <td>7146</td>\n",
              "      <td>2011</td>\n",
              "      <td>2014.909091</td>\n",
              "      <td>2015.0</td>\n",
              "      <td>2019</td>\n",
              "      <td>2.328071</td>\n",
              "      <td>5.419913</td>\n",
              "      <td>44328</td>\n",
              "      <td>1</td>\n",
              "      <td>7.272727</td>\n",
              "      <td>8.0</td>\n",
              "      <td>12</td>\n",
              "      <td>3.119552</td>\n",
              "      <td>9.731602</td>\n",
              "      <td>160</td>\n",
              "    </tr>\n",
              "    <tr>\n",
              "      <th>12558</th>\n",
              "      <td>257744161</td>\n",
              "      <td>11</td>\n",
              "      <td>0</td>\n",
              "      <td>0</td>\n",
              "      <td>0.111111</td>\n",
              "      <td>0.0</td>\n",
              "      <td>1</td>\n",
              "      <td>0.323381</td>\n",
              "      <td>0.104575</td>\n",
              "      <td>2</td>\n",
              "      <td>0</td>\n",
              "      <td>180.944444</td>\n",
              "      <td>107.0</td>\n",
              "      <td>663</td>\n",
              "      <td>201.081626</td>\n",
              "      <td>40433.820261</td>\n",
              "      <td>3257</td>\n",
              "      <td>0</td>\n",
              "      <td>0.000000</td>\n",
              "      <td>0.0</td>\n",
              "      <td>0</td>\n",
              "      <td>0.000000</td>\n",
              "      <td>0.000000</td>\n",
              "      <td>0</td>\n",
              "      <td>0</td>\n",
              "      <td>0.000000</td>\n",
              "      <td>0.0</td>\n",
              "      <td>0</td>\n",
              "      <td>0.000000</td>\n",
              "      <td>0.000000</td>\n",
              "      <td>0</td>\n",
              "      <td>0</td>\n",
              "      <td>0.000000</td>\n",
              "      <td>0.0</td>\n",
              "      <td>0</td>\n",
              "      <td>0.000000</td>\n",
              "      <td>0.000000</td>\n",
              "      <td>0</td>\n",
              "      <td>2</td>\n",
              "      <td>4.333333</td>\n",
              "      <td>4.0</td>\n",
              "      <td>8</td>\n",
              "      <td>1.414214</td>\n",
              "      <td>2.000000</td>\n",
              "      <td>78</td>\n",
              "      <td>1</td>\n",
              "      <td>1.0</td>\n",
              "      <td>1.0</td>\n",
              "      <td>1</td>\n",
              "      <td>0.0</td>\n",
              "      <td>0.0</td>\n",
              "      <td>18</td>\n",
              "      <td>0</td>\n",
              "      <td>180.944444</td>\n",
              "      <td>107.0</td>\n",
              "      <td>663</td>\n",
              "      <td>201.081626</td>\n",
              "      <td>4.043382e+04</td>\n",
              "      <td>3257</td>\n",
              "      <td>2013</td>\n",
              "      <td>2016.111111</td>\n",
              "      <td>2016.0</td>\n",
              "      <td>2019</td>\n",
              "      <td>1.906302</td>\n",
              "      <td>3.633987</td>\n",
              "      <td>36290</td>\n",
              "      <td>3</td>\n",
              "      <td>6.777778</td>\n",
              "      <td>7.0</td>\n",
              "      <td>11</td>\n",
              "      <td>3.490416</td>\n",
              "      <td>12.183007</td>\n",
              "      <td>122</td>\n",
              "    </tr>\n",
              "    <tr>\n",
              "      <th>181596</th>\n",
              "      <td>256142900</td>\n",
              "      <td>11</td>\n",
              "      <td>0</td>\n",
              "      <td>0</td>\n",
              "      <td>0.000000</td>\n",
              "      <td>0.0</td>\n",
              "      <td>0</td>\n",
              "      <td>0.000000</td>\n",
              "      <td>0.000000</td>\n",
              "      <td>0</td>\n",
              "      <td>400</td>\n",
              "      <td>1214.692308</td>\n",
              "      <td>939.0</td>\n",
              "      <td>3200</td>\n",
              "      <td>963.919031</td>\n",
              "      <td>929139.897436</td>\n",
              "      <td>15791</td>\n",
              "      <td>0</td>\n",
              "      <td>261.538462</td>\n",
              "      <td>0.0</td>\n",
              "      <td>1600</td>\n",
              "      <td>596.571401</td>\n",
              "      <td>355897.435897</td>\n",
              "      <td>3400</td>\n",
              "      <td>0</td>\n",
              "      <td>133.384615</td>\n",
              "      <td>0.0</td>\n",
              "      <td>1241</td>\n",
              "      <td>350.884724</td>\n",
              "      <td>123120.089744</td>\n",
              "      <td>1734</td>\n",
              "      <td>0</td>\n",
              "      <td>5.538462</td>\n",
              "      <td>0.0</td>\n",
              "      <td>72</td>\n",
              "      <td>19.969207</td>\n",
              "      <td>398.769231</td>\n",
              "      <td>72</td>\n",
              "      <td>2</td>\n",
              "      <td>5.538462</td>\n",
              "      <td>4.0</td>\n",
              "      <td>16</td>\n",
              "      <td>4.909436</td>\n",
              "      <td>24.102564</td>\n",
              "      <td>72</td>\n",
              "      <td>0</td>\n",
              "      <td>0.0</td>\n",
              "      <td>0.0</td>\n",
              "      <td>0</td>\n",
              "      <td>0.0</td>\n",
              "      <td>0.0</td>\n",
              "      <td>0</td>\n",
              "      <td>437</td>\n",
              "      <td>1615.153846</td>\n",
              "      <td>982.0</td>\n",
              "      <td>6041</td>\n",
              "      <td>1764.506864</td>\n",
              "      <td>3.113484e+06</td>\n",
              "      <td>20997</td>\n",
              "      <td>2005</td>\n",
              "      <td>2010.153846</td>\n",
              "      <td>2009.0</td>\n",
              "      <td>2018</td>\n",
              "      <td>4.119995</td>\n",
              "      <td>16.974359</td>\n",
              "      <td>26132</td>\n",
              "      <td>3</td>\n",
              "      <td>6.769231</td>\n",
              "      <td>7.0</td>\n",
              "      <td>12</td>\n",
              "      <td>3.394943</td>\n",
              "      <td>11.525641</td>\n",
              "      <td>88</td>\n",
              "    </tr>\n",
              "  </tbody>\n",
              "</table>\n",
              "</div>"
            ],
            "text/plain": [
              "                client_id  client_catg  target  ...  month_std  month_var  month_sum\n",
              "counter_number                                  ...                                 \n",
              "8634518         253381000           11       0  ...   3.030402   9.183333        122\n",
              "64137           254496500           11       0  ...   3.034850   9.210317        157\n",
              "4238192         215884890           11       1  ...   3.119552   9.731602        160\n",
              "12558           257744161           11       0  ...   3.490416  12.183007        122\n",
              "181596          256142900           11       0  ...   3.394943  11.525641         88\n",
              "\n",
              "[5 rows x 73 columns]"
            ]
          },
          "metadata": {
            "tags": []
          },
          "execution_count": 73
        }
      ]
    },
    {
      "cell_type": "code",
      "metadata": {
        "id": "DOWVbPPAkiLy",
        "colab_type": "code",
        "outputId": "2b946851-a1e2-41ed-e635-604a7415655a",
        "colab": {
          "base_uri": "https://localhost:8080/",
          "height": 67
        }
      },
      "source": [
        "train.target.value_counts()"
      ],
      "execution_count": 0,
      "outputs": [
        {
          "output_type": "execute_result",
          "data": {
            "text/plain": [
              "0    45801\n",
              "1     6307\n",
              "Name: target, dtype: int64"
            ]
          },
          "metadata": {
            "tags": []
          },
          "execution_count": 74
        }
      ]
    },
    {
      "cell_type": "markdown",
      "metadata": {
        "id": "lDkzaesbJNAW",
        "colab_type": "text"
      },
      "source": [
        "#*Modeling/Evaluation*"
      ]
    },
    {
      "cell_type": "markdown",
      "metadata": {
        "id": "DTqCrQb-Ip-X",
        "colab_type": "text"
      },
      "source": [
        "In this section we will be presenting the supervised and unsupervised approachs with different machine learning models and deep learning implementations."
      ]
    },
    {
      "cell_type": "markdown",
      "metadata": {
        "id": "tZjw2EmLw8Pw",
        "colab_type": "text"
      },
      "source": [
        "#Supervised Approach"
      ]
    },
    {
      "cell_type": "code",
      "metadata": {
        "id": "XBQLdvq0w9PT",
        "colab_type": "code",
        "colab": {}
      },
      "source": [
        "#We just made this quick supervised approach to get a glance about the problem's results"
      ],
      "execution_count": 0,
      "outputs": []
    },
    {
      "cell_type": "code",
      "metadata": {
        "id": "qAzOfsg4xBvb",
        "colab_type": "code",
        "outputId": "43d0028a-3570-4ef5-98ea-d14c598bc019",
        "colab": {
          "base_uri": "https://localhost:8080/",
          "height": 34
        }
      },
      "source": [
        "# split training and testing datasets\n",
        "y = train.target\n",
        "train.drop(['client_id', 'target'], axis = 1, inplace= True)\n",
        "from sklearn.model_selection import train_test_split\n",
        "X_train, X_test, y_train, y_test = train_test_split(train, y, test_size = 0.2, random_state = 32, stratify=y)\n",
        "X_train.shape,X_test.shape,y_train.shape,y_test.shape"
      ],
      "execution_count": 0,
      "outputs": [
        {
          "output_type": "execute_result",
          "data": {
            "text/plain": [
              "((41686, 71), (10422, 71), (41686,), (10422,))"
            ]
          },
          "metadata": {
            "tags": []
          },
          "execution_count": 76
        }
      ]
    },
    {
      "cell_type": "markdown",
      "metadata": {
        "id": "7lYo_4BS5szN",
        "colab_type": "text"
      },
      "source": [
        "####Data Resampling: SMOTETomek"
      ]
    },
    {
      "cell_type": "code",
      "metadata": {
        "id": "XP5-OUN3xcoe",
        "colab_type": "code",
        "outputId": "849265b4-838a-4653-c050-1509778a1cef",
        "colab": {
          "base_uri": "https://localhost:8080/",
          "height": 188
        }
      },
      "source": [
        "#Create new datasets by resampling the number of samples in the minority and majority of classes\n",
        "from collections import Counter\n",
        "from imblearn.combine import SMOTETomek\n",
        "X_resampled,y_resampled = SMOTETomek(random_state = 32).fit_sample(X_train.values,y_train.values.ravel())\n",
        "print('Resampled training dataset shape %s' % Counter(y_resampled))"
      ],
      "execution_count": 0,
      "outputs": [
        {
          "output_type": "stream",
          "text": [
            "/usr/local/lib/python3.6/dist-packages/sklearn/externals/six.py:31: FutureWarning: The module is deprecated in version 0.21 and will be removed in version 0.23 since we've dropped support for Python 2.7. Please rely on the official version of six (https://pypi.org/project/six/).\n",
            "  \"(https://pypi.org/project/six/).\", FutureWarning)\n",
            "/usr/local/lib/python3.6/dist-packages/sklearn/utils/deprecation.py:144: FutureWarning: The sklearn.neighbors.base module is  deprecated in version 0.22 and will be removed in version 0.24. The corresponding classes / functions should instead be imported from sklearn.neighbors. Anything that cannot be imported from sklearn.neighbors is now part of the private API.\n",
            "  warnings.warn(message, FutureWarning)\n",
            "/usr/local/lib/python3.6/dist-packages/sklearn/utils/deprecation.py:87: FutureWarning: Function safe_indexing is deprecated; safe_indexing is deprecated in version 0.22 and will be removed in version 0.24.\n",
            "  warnings.warn(msg, category=FutureWarning)\n"
          ],
          "name": "stderr"
        },
        {
          "output_type": "stream",
          "text": [
            "Resampled training dataset shape Counter({0: 35468, 1: 35468})\n"
          ],
          "name": "stdout"
        },
        {
          "output_type": "stream",
          "text": [
            "/usr/local/lib/python3.6/dist-packages/sklearn/utils/deprecation.py:87: FutureWarning: Function safe_indexing is deprecated; safe_indexing is deprecated in version 0.22 and will be removed in version 0.24.\n",
            "  warnings.warn(msg, category=FutureWarning)\n"
          ],
          "name": "stderr"
        }
      ]
    },
    {
      "cell_type": "markdown",
      "metadata": {
        "id": "u_GNohzLPSeA",
        "colab_type": "text"
      },
      "source": [
        "##Machine Learning Approach"
      ]
    },
    {
      "cell_type": "code",
      "metadata": {
        "id": "RSaDIo8Nxf_6",
        "colab_type": "code",
        "colab": {}
      },
      "source": [
        "#Create the models\n",
        "\n",
        "from sklearn.pipeline import Pipeline\n",
        "from sklearn.linear_model import LogisticRegression\n",
        "from sklearn.neighbors import KNeighborsClassifier\n",
        "from sklearn.tree import DecisionTreeClassifier\n",
        "from sklearn.ensemble import RandomForestClassifier, GradientBoostingClassifier\n",
        "from xgboost import XGBClassifier\n",
        "pipelines = []\n",
        "params = []\n",
        "names = []\n",
        "#Notice that we tried to balance the data via using the clf__class_weight parameter in the models\n",
        "\n",
        "pipelines.append(Pipeline([('clf', LogisticRegression())])) ### LogisticRegression\n",
        "params.append({'clf__penalty':['l2'],'clf__C':[1.0], 'clf__solver':['lbfgs'], 'clf__class_weight': ['balanced']})\n",
        "names.append('LogisticRegression') \n",
        "pipelines.append(Pipeline([('clf', KNeighborsClassifier())])) ## KNeighborsClassifier\n",
        "params.append({'clf__n_neighbors':[5],'clf__leaf_size':[30], 'clf__metric':['minkowski']})\n",
        "names.append('KNeighborsClassifier') \n",
        "pipelines.append(Pipeline([('clf', DecisionTreeClassifier())])) ## DecisionTreeClassifier\n",
        "params.append({'clf__max_features': [None], 'clf__min_samples_split': [2], 'clf__min_samples_leaf':[1],\n",
        "              'clf__class_weight': ['balanced']})\n",
        "names.append('DecisionTreeClassifier') \n",
        "pipelines.append(Pipeline([('clf', RandomForestClassifier())])) ## RandomForestClassifier\n",
        "params.append({'clf__n_estimators':[100], 'clf__min_samples_leaf':[1],'clf__min_samples_split':[2],\n",
        "               'clf__class_weight': ['balanced']})\n",
        "names.append('RandomForestClassifier') \n",
        "pipelines.append(Pipeline([('clf', GradientBoostingClassifier())])) ## GradientBoostingClassifier\n",
        "params.append({'clf__learning_rate': [0.1], 'clf__min_samples_split': [2],'clf__min_samples_leaf': [1],\n",
        "               'clf__max_depth':[3],'clf__max_features':[None],'clf__subsample':[1.0],'clf__n_estimators':[100]\n",
        "    })\n",
        "names.append('GradientBoostingClassifier')\n",
        "pipelines.append(Pipeline([('clf', XGBClassifier())])) ## XGBClassifier\n",
        "params.append({'clf__learning_rate': [0.1],'clf__n_estimators':[100],'clf__min_child_weight': [1],'clf__gamma': [0],\n",
        "               'clf__subsample': [1],'clf__colsample_bytree': [1],'clf__max_depth': [10]})\n",
        "names.append('XGBClassifier')"
      ],
      "execution_count": 0,
      "outputs": []
    },
    {
      "cell_type": "code",
      "metadata": {
        "id": "zd6XghmHyHfd",
        "colab_type": "code",
        "outputId": "25be6435-9518-4b5c-f9bf-0af46b81c819",
        "colab": {
          "base_uri": "https://localhost:8080/",
          "height": 440
        }
      },
      "source": [
        "#Fit the models\n",
        "#Using StratifiedkFold can help in case of umbalanced data\n",
        "#In case of umbalaced data, reliable metrics are f1_score, precision_recall_curve, auc.\n",
        "\n",
        "from sklearn.model_selection import StratifiedKFold, GridSearchCV, cross_val_score \n",
        " \n",
        "def model(pipeline, parameters, name, X, y):    \n",
        "    cv = StratifiedKFold(n_splits=10, shuffle=True, random_state=32)\n",
        "\n",
        "    grid_obj = GridSearchCV(estimator=pipeline, param_grid=parameters, cv=cv, scoring='f1', n_jobs=-1)\n",
        "    grid_obj.fit(X,y)  \n",
        "\n",
        "    print(name, 'F1-measure:', grid_obj.best_score_)\n",
        "    estimator = grid_obj.best_estimator_\n",
        "    estimator.fit(X,y) # train on all training dataset\n",
        "    return estimator \n",
        "\n",
        "\n",
        "estimators = []\n",
        "for idx in range(0,len(pipelines)):    \n",
        "    estimators.append(model(pipelines[idx], params[idx], names[idx], X_resampled, y_resampled))"
      ],
      "execution_count": 0,
      "outputs": [
        {
          "output_type": "stream",
          "text": [
            "/usr/local/lib/python3.6/dist-packages/sklearn/linear_model/_logistic.py:940: ConvergenceWarning: lbfgs failed to converge (status=1):\n",
            "STOP: TOTAL NO. of ITERATIONS REACHED LIMIT.\n",
            "\n",
            "Increase the number of iterations (max_iter) or scale the data as shown in:\n",
            "    https://scikit-learn.org/stable/modules/preprocessing.html\n",
            "Please also refer to the documentation for alternative solver options:\n",
            "    https://scikit-learn.org/stable/modules/linear_model.html#logistic-regression\n",
            "  extra_warning_msg=_LOGISTIC_SOLVER_CONVERGENCE_MSG)\n"
          ],
          "name": "stderr"
        },
        {
          "output_type": "stream",
          "text": [
            "LogisticRegression F1-measure: 0.4980720554624118\n"
          ],
          "name": "stdout"
        },
        {
          "output_type": "stream",
          "text": [
            "/usr/local/lib/python3.6/dist-packages/sklearn/linear_model/_logistic.py:940: ConvergenceWarning: lbfgs failed to converge (status=1):\n",
            "STOP: TOTAL NO. of ITERATIONS REACHED LIMIT.\n",
            "\n",
            "Increase the number of iterations (max_iter) or scale the data as shown in:\n",
            "    https://scikit-learn.org/stable/modules/preprocessing.html\n",
            "Please also refer to the documentation for alternative solver options:\n",
            "    https://scikit-learn.org/stable/modules/linear_model.html#logistic-regression\n",
            "  extra_warning_msg=_LOGISTIC_SOLVER_CONVERGENCE_MSG)\n"
          ],
          "name": "stderr"
        },
        {
          "output_type": "stream",
          "text": [
            "KNeighborsClassifier F1-measure: 0.8480877589088236\n",
            "DecisionTreeClassifier F1-measure: 0.921520401261321\n",
            "RandomForestClassifier F1-measure: 0.9572871628226869\n",
            "GradientBoostingClassifier F1-measure: 0.9266149639425156\n"
          ],
          "name": "stdout"
        },
        {
          "output_type": "stream",
          "text": [
            "/usr/local/lib/python3.6/dist-packages/joblib/externals/loky/process_executor.py:691: UserWarning: A worker stopped while some jobs were given to the executor. This can be caused by a too short worker timeout or by a memory leak.\n",
            "  \"timeout or by a memory leak.\", UserWarning\n"
          ],
          "name": "stderr"
        },
        {
          "output_type": "stream",
          "text": [
            "XGBClassifier F1-measure: 0.9585468151469293\n"
          ],
          "name": "stdout"
        }
      ]
    },
    {
      "cell_type": "code",
      "metadata": {
        "id": "0Aa1J5_j1PPr",
        "colab_type": "code",
        "outputId": "eb16bd1e-1d70-4882-fc57-cc1404a9b426",
        "colab": {
          "base_uri": "https://localhost:8080/",
          "height": 1000
        }
      },
      "source": [
        "#Evaluate the model on unseen data\n",
        "\n",
        "from sklearn.metrics import confusion_matrix, f1_score, precision_recall_curve, auc\n",
        "\n",
        "def evaluate_models(estimators, names, X_test, y_test):\n",
        "    # Plot PR curve for all my models\n",
        "    fig, ax = plt.subplots(figsize=(20,18))    \n",
        "    for idx, estimator in enumerate(estimators):\n",
        "        print('\\nPerformance of', names[idx])\n",
        "        y_pred = estimator.predict(X_test)       \n",
        "        print('\\nConfusion matrix\\n', confusion_matrix(y_test, y_pred), '\\n')    \n",
        "        print('F1-measure', f1_score(y_test, y_pred), '\\n')    \n",
        " \n",
        "        # calculate precision-recall curve\n",
        "        precision, recall, thresholds = precision_recall_curve(y_test, estimator.predict_proba(X_test)[:,1]) \n",
        "        pr_auc = auc(recall, precision)\n",
        "        print('PR-AUC', pr_auc)\n",
        "        \n",
        "        plt.plot(recall, precision, label = (names[idx] + ' AUC = %0.4f' % pr_auc),linewidth=2.0)\n",
        "    \n",
        "    #plot the results\n",
        "    ax.grid(False)\n",
        "    ax.tick_params(length=6, width=2, labelsize = 30, grid_color='r', grid_alpha=0.5)\n",
        "    leg = plt.legend(loc = 'lower right',prop={'size': 25})\n",
        "    leg.get_frame().set_edgecolor('b')\n",
        "    plt.title('Precision Recall (PR)', FontSize=40)\n",
        "    plt.xlim([-.02, 1.02])\n",
        "    plt.ylim([-.02, 1.02])\n",
        "    plt.ylabel('Precision',FontSize=30)\n",
        "    plt.xlabel('Recall',FontSize=30)\n",
        "    plt.show()\n",
        "\n",
        "evaluate_models(estimators, names, X_test.values, y_test.values.reshape(-1,1))"
      ],
      "execution_count": 0,
      "outputs": [
        {
          "output_type": "stream",
          "text": [
            "\n",
            "Performance of LogisticRegression\n",
            "\n",
            "Confusion matrix\n",
            " [[7813 1348]\n",
            " [ 916  345]] \n",
            "\n",
            "F1-measure 0.2335815842924848 \n",
            "\n",
            "PR-AUC 0.19125865714438095\n",
            "\n",
            "Performance of KNeighborsClassifier\n",
            "\n",
            "Confusion matrix\n",
            " [[6566 2595]\n",
            " [ 670  591]] \n",
            "\n",
            "F1-measure 0.26579716662918823 \n",
            "\n",
            "PR-AUC 0.2524695726588515\n",
            "\n",
            "Performance of DecisionTreeClassifier\n",
            "\n",
            "Confusion matrix\n",
            " [[8460  701]\n",
            " [ 569  692]] \n",
            "\n",
            "F1-measure 0.5214770158251696 \n",
            "\n",
            "PR-AUC 0.5504719615574161\n",
            "\n",
            "Performance of RandomForestClassifier\n",
            "\n",
            "Confusion matrix\n",
            " [[8828  333]\n",
            " [ 543  718]] \n",
            "\n",
            "F1-measure 0.6211072664359861 \n",
            "\n",
            "PR-AUC 0.680528198895309\n",
            "\n",
            "Performance of GradientBoostingClassifier\n",
            "\n",
            "Confusion matrix\n",
            " [[8678  483]\n",
            " [ 685  576]] \n",
            "\n",
            "F1-measure 0.4965517241379311 \n",
            "\n",
            "PR-AUC 0.5034476596574485\n",
            "\n",
            "Performance of XGBClassifier\n",
            "\n",
            "Confusion matrix\n",
            " [[8943  218]\n",
            " [ 538  723]] \n",
            "\n",
            "F1-measure 0.656675749318801 \n",
            "\n",
            "PR-AUC 0.743321482747505\n"
          ],
          "name": "stdout"
        },
        {
          "output_type": "display_data",
          "data": {
            "image/png": "[encoded data removed]",
            "text/plain": [
              "<Figure size 1440x1296 with 1 Axes>"
            ]
          },
          "metadata": {
            "tags": [],
            "needs_background": "light"
          }
        }
      ]
    },
    {
      "cell_type": "markdown",
      "metadata": {
        "id": "AIagXvKyO1Nt",
        "colab_type": "text"
      },
      "source": [
        "From the plot and from the resutls we can notice that the XGBClassifier has the best performance for the supervised approach using machine learning methods."
      ]
    },
    {
      "cell_type": "markdown",
      "metadata": {
        "id": "mzxiWtvzPcB_",
        "colab_type": "text"
      },
      "source": [
        "##Deep Learning Approach"
      ]
    },
    {
      "cell_type": "code",
      "metadata": {
        "id": "ZiJGZ6uzPbYo",
        "colab_type": "code",
        "outputId": "cc495f95-7a00-4f03-9ecc-d3e59ed53664",
        "colab": {
          "base_uri": "https://localhost:8080/",
          "height": 319
        }
      },
      "source": [
        "import tensorflow as tf\n",
        "#define metrics\n",
        "METRICS = [\n",
        "    tf.keras.metrics.TruePositives(name='TP'),\n",
        "    tf.keras.metrics.FalsePositives(name='FP'),\n",
        "    tf.keras.metrics.TrueNegatives(name='TN'),\n",
        "    tf.keras.metrics.FalseNegatives(name='FN'), \n",
        "    tf.keras.metrics.Precision(name='precision'),\n",
        "    tf.keras.metrics.Recall(name='recall'), \n",
        "    tf.keras.metrics.AUC(curve='PR', name='PR-AUC'),\n",
        "    ]\n",
        "\n",
        "# define model architecture\n",
        "model = tf.keras.Sequential([\n",
        "    tf.keras.layers.Dense(128, activation='relu', input_shape=(X_train.shape[-1],), kernel_initializer='he_normal',bias_initializer='zeros'),\n",
        "    tf.keras.layers.Dropout(0.5),\n",
        "    tf.keras.layers.Dense(64, activation='relu', kernel_initializer='he_normal', bias_initializer='zeros'),\n",
        "    tf.keras.layers.Dropout(0.5),\n",
        "    tf.keras.layers.Dense(1, activation='sigmoid', kernel_initializer='he_normal', bias_initializer='zeros')])\n",
        "\n",
        "# define model compilation  \n",
        "model.compile(optimizer=tf.keras.optimizers.Adam(lr=1e-3),\n",
        "              loss=tf.keras.losses.BinaryCrossentropy(),\n",
        "              metrics=METRICS)\n",
        "\n",
        "model.summary()"
      ],
      "execution_count": 0,
      "outputs": [
        {
          "output_type": "stream",
          "text": [
            "Model: \"sequential_3\"\n",
            "_________________________________________________________________\n",
            "Layer (type)                 Output Shape              Param #   \n",
            "=================================================================\n",
            "dense_10 (Dense)             (None, 128)               9216      \n",
            "_________________________________________________________________\n",
            "dropout_2 (Dropout)          (None, 128)               0         \n",
            "_________________________________________________________________\n",
            "dense_11 (Dense)             (None, 64)                8256      \n",
            "_________________________________________________________________\n",
            "dropout_3 (Dropout)          (None, 64)                0         \n",
            "_________________________________________________________________\n",
            "dense_12 (Dense)             (None, 1)                 65        \n",
            "=================================================================\n",
            "Total params: 17,537\n",
            "Trainable params: 17,537\n",
            "Non-trainable params: 0\n",
            "_________________________________________________________________\n"
          ],
          "name": "stdout"
        }
      ]
    },
    {
      "cell_type": "code",
      "metadata": {
        "id": "KliEM6MsQrkJ",
        "colab_type": "code",
        "outputId": "2eb59aae-0075-4c80-e51c-9af21ba8ae11",
        "colab": {
          "base_uri": "https://localhost:8080/",
          "height": 138
        }
      },
      "source": [
        "#Stop training when a monitored metric has stopped improving.\n",
        "early_stopping = tf.keras.callbacks.EarlyStopping(\n",
        "    monitor='val_precision', \n",
        "    verbose=0,\n",
        "    patience=2,\n",
        "    mode='max',\n",
        "    restore_best_weights=True)\n",
        "\n",
        "BATCH_SIZE = 64\n",
        "\n",
        "# Train the model\n",
        "hist1 = model.fit(X_resampled, y_resampled, batch_size=BATCH_SIZE, epochs=10, verbose=1,callbacks=[early_stopping],\n",
        "          validation_data=(X_test, y_test))"
      ],
      "execution_count": 0,
      "outputs": [
        {
          "output_type": "stream",
          "text": [
            "Epoch 1/10\n",
            "1109/1109 [==============================] - 11s 10ms/step - loss: 128226.7500 - TP: 21484.0000 - FP: 19860.0000 - TN: 15600.0000 - FN: 13976.0000 - precision: 0.5196 - recall: 0.6059 - PR-AUC: 0.5151 - val_loss: 2710.8840 - val_TP: 755.0000 - val_FP: 5677.0000 - val_TN: 3484.0000 - val_FN: 506.0000 - val_precision: 0.1174 - val_recall: 0.5987 - val_PR-AUC: 0.1214\n",
            "Epoch 2/10\n",
            "1109/1109 [==============================] - 11s 10ms/step - loss: 20882.7441 - TP: 13122.0000 - FP: 12240.0000 - TN: 23220.0000 - FN: 22338.0000 - precision: 0.5174 - recall: 0.3701 - PR-AUC: 0.5121 - val_loss: 0.5103 - val_TP: 0.0000e+00 - val_FP: 0.0000e+00 - val_TN: 9161.0000 - val_FN: 1261.0000 - val_precision: 0.0000e+00 - val_recall: 0.0000e+00 - val_PR-AUC: 0.1210\n",
            "Epoch 3/10\n",
            "1109/1109 [==============================] - 11s 10ms/step - loss: 1786.7653 - TP: 3474.0000 - FP: 2863.0000 - TN: 32597.0000 - FN: 31986.0000 - precision: 0.5482 - recall: 0.0980 - PR-AUC: 0.5130 - val_loss: 0.6394 - val_TP: 0.0000e+00 - val_FP: 0.0000e+00 - val_TN: 9161.0000 - val_FN: 1261.0000 - val_precision: 0.0000e+00 - val_recall: 0.0000e+00 - val_PR-AUC: 0.1210\n"
          ],
          "name": "stdout"
        }
      ]
    },
    {
      "cell_type": "markdown",
      "metadata": {
        "id": "bDwxllPoQYQq",
        "colab_type": "text"
      },
      "source": [
        "As we can see here, thanks to early_stopping the model stopped at the 3 epochs and this helps avoiding the overfitting. We got a val_PR_AUC around 12% for the training."
      ]
    },
    {
      "cell_type": "code",
      "metadata": {
        "id": "wF_NPALDW_a6",
        "colab_type": "code",
        "outputId": "acf739c4-3f5b-4b91-ff40-23ed986c9b88",
        "colab": {
          "base_uri": "https://localhost:8080/",
          "height": 295
        }
      },
      "source": [
        "# summarize history for loss\n",
        "plt.plot(hist1.history['loss'])\n",
        "plt.plot(hist1.history['val_loss'])\n",
        "plt.title('model loss')\n",
        "plt.ylabel('loss')\n",
        "plt.xlabel('epoch')\n",
        "plt.legend(['train', 'val'], loc='upper left')\n",
        "plt.show()"
      ],
      "execution_count": 0,
      "outputs": [
        {
          "output_type": "display_data",
          "data": {
            "image/png": "[encoded data removed]",
            "text/plain": [
              "<Figure size 432x288 with 1 Axes>"
            ]
          },
          "metadata": {
            "tags": [],
            "needs_background": "light"
          }
        }
      ]
    },
    {
      "cell_type": "markdown",
      "metadata": {
        "id": "UTSIcwrOQ6xT",
        "colab_type": "text"
      },
      "source": [
        "We see here the evolution of the loss function with epochs, it's clear that the value of the loss decreases a lot in just 3 epochs to reach a value of 1786."
      ]
    },
    {
      "cell_type": "code",
      "metadata": {
        "id": "6fJV6Db1XBQ1",
        "colab_type": "code",
        "outputId": "a006cd10-3993-4efd-e9a5-40052f186b8a",
        "colab": {
          "base_uri": "https://localhost:8080/",
          "height": 446
        }
      },
      "source": [
        "pred_probs_test = model.predict(X_test, batch_size=BATCH_SIZE)\n",
        "\n",
        "#plot confusion matrix\n",
        "def plot_cm(labels, predictions, p=0.5):\n",
        "  cm = confusion_matrix(labels, predictions > p)\n",
        "  plt.figure(figsize=(4,4))\n",
        "  sns.heatmap(cm, annot=True, fmt=\"d\")\n",
        "  plt.title('Confusion matrix: th={:.2f}'.format(p))\n",
        "  plt.ylabel('Actual label')\n",
        "  plt.xlabel('Predicted label')\n",
        "    \n",
        "results = model.evaluate(X_test, y_test, batch_size=BATCH_SIZE, verbose=0)\n",
        "\n",
        "for name, value in zip(model.metrics_names, results):\n",
        "    print(name, ': ', value)\n",
        "print('F1-measure', f1_score(y_test, pred_probs_test>0.5)) \n",
        "plot_cm(y_test, pred_probs_test)"
      ],
      "execution_count": 0,
      "outputs": [
        {
          "output_type": "stream",
          "text": [
            "loss :  2710.884033203125\n",
            "TP :  755.0\n",
            "FP :  5677.0\n",
            "TN :  3484.0\n",
            "FN :  506.0\n",
            "precision :  0.11738184094429016\n",
            "recall :  0.5987311601638794\n",
            "PR-AUC :  0.12143225967884064\n",
            "F1-measure 0.1962823345898869\n"
          ],
          "name": "stdout"
        },
        {
          "output_type": "display_data",
          "data": {
            "image/png": "[encoded data removed]",
            "text/plain": [
              "<Figure size 288x288 with 2 Axes>"
            ]
          },
          "metadata": {
            "tags": [],
            "needs_background": "light"
          }
        }
      ]
    },
    {
      "cell_type": "markdown",
      "metadata": {
        "id": "Ib-W0hPTTq2r",
        "colab_type": "text"
      },
      "source": [
        "So after evalution the model we see that scores are 20% for the F1_score and 12% for the PR_AUC.\n",
        "So compared to the machine learning approach it's clear that this approach performs poorly."
      ]
    },
    {
      "cell_type": "code",
      "metadata": {
        "id": "h_ko303qXOGY",
        "colab_type": "code",
        "outputId": "fd54e618-e660-4b47-85a6-0b953eb8ba31",
        "colab": {
          "base_uri": "https://localhost:8080/",
          "height": 283
        }
      },
      "source": [
        "#plot PR curve\n",
        "def plot_PR_curve(labels, predictions):\n",
        "    precisions, recalls, _ = precision_recall_curve(labels, predictions)\n",
        "    plt.plot(recalls, precisions, label='PR Curve', linewidth=2)\n",
        "    plt.xlabel('Recall')\n",
        "    plt.ylabel('Precision')\n",
        "    plt.xlim([0,1.0])\n",
        "    plt.ylim([0,1.0])\n",
        "    \n",
        "plot_PR_curve(y_test, pred_probs_test)"
      ],
      "execution_count": 0,
      "outputs": [
        {
          "output_type": "display_data",
          "data": {
            "image/png": "[encoded data removed]",
            "text/plain": [
              "<Figure size 432x288 with 1 Axes>"
            ]
          },
          "metadata": {
            "tags": [],
            "needs_background": "light"
          }
        }
      ]
    },
    {
      "cell_type": "markdown",
      "metadata": {
        "id": "vHXExBn0UVNM",
        "colab_type": "text"
      },
      "source": [
        "so it's clear that the PR_AUC is under the 50% from the shape of the curve. Indeed, the curve is under the line with slope -1."
      ]
    },
    {
      "cell_type": "markdown",
      "metadata": {
        "id": "yvQljjmm-SLh",
        "colab_type": "text"
      },
      "source": [
        "#Unsupervised Approach"
      ]
    },
    {
      "cell_type": "markdown",
      "metadata": {
        "id": "pUX25thgPlhJ",
        "colab_type": "text"
      },
      "source": [
        "###Machine Learning Approach"
      ]
    },
    {
      "cell_type": "code",
      "metadata": {
        "id": "rmPpKAdQt10j",
        "colab_type": "code",
        "colab": {}
      },
      "source": [
        "#Scaling the data\n",
        "from sklearn.preprocessing import StandardScaler\n",
        "train = StandardScaler().fit_transform(train)\n",
        "train = pd.DataFrame(train)"
      ],
      "execution_count": 0,
      "outputs": []
    },
    {
      "cell_type": "code",
      "metadata": {
        "id": "AIaGRsRn7qLC",
        "colab_type": "code",
        "outputId": "e0440d4c-8002-4051-ab81-e6c6fbb95eb2",
        "colab": {
          "base_uri": "https://localhost:8080/",
          "height": 269
        }
      },
      "source": [
        "from sklearn.ensemble import IsolationForest\n",
        "from sklearn.neighbors import LocalOutlierFactor\n",
        "from sklearn.cluster import DBSCAN\n",
        "from sklearn.metrics import confusion_matrix, f1_score\n",
        "\n",
        "\n",
        "\n",
        "\n",
        "# outlier detectors to be compared\n",
        "classifiers = {'Isolation Forest':IsolationForest(n_estimators=100, max_samples='auto', \n",
        "                                                  contamination='auto', max_features=1.0,\n",
        "                                                  bootstrap=False, n_jobs=-1, behaviour='deprecated',\n",
        "                                                  random_state=None, verbose=0, warm_start=False),     \n",
        "             'Local Outlier Factor': LocalOutlierFactor(n_neighbors=20, algorithm='auto', leaf_size=30,\n",
        "                                                        metric='minkowski', p=2, metric_params=None,\n",
        "                                                        contamination='auto', novelty=False, n_jobs=-1),\n",
        "             'DBSCAN':DBSCAN(eps=1.5, min_samples=5, metric='euclidean', \n",
        "                             metric_params=None, algorithm='auto', leaf_size=30,\n",
        "                             p=None, n_jobs=-1)}\n",
        "             \n",
        "for (clf_name, clf) in classifiers.items():\n",
        "    \n",
        "    # fit and predict labels \n",
        "    y_pred = clf.fit_predict(train)   \n",
        "      \n",
        "    # Reshape the prediction values to 0 for valid, 1 for fraud. \n",
        "    y_pred[y_pred != -1] = 0\n",
        "    y_pred[y_pred == -1] = 1 \n",
        "        \n",
        "    # classification metrics\n",
        "    print(clf_name)\n",
        "    print('Confusion Matrix\\n', confusion_matrix(y, y_pred))  \n",
        "    print('F1-score', f1_score(y, y_pred)) "
      ],
      "execution_count": 0,
      "outputs": [
        {
          "output_type": "stream",
          "text": [
            "Isolation Forest\n",
            "Confusion Matrix\n",
            " [[44162  1639]\n",
            " [ 5555   752]]\n",
            "F1-score 0.17291331340538055\n",
            "Local Outlier Factor\n",
            "Confusion Matrix\n",
            " [[43094  2707]\n",
            " [ 5841   466]]\n",
            "F1-score 0.09831223628691983\n",
            "DBSCAN\n",
            "Confusion Matrix\n",
            " [[33860 11941]\n",
            " [ 3918  2389]]\n",
            "F1-score 0.23152590008237633\n"
          ],
          "name": "stdout"
        }
      ]
    },
    {
      "cell_type": "markdown",
      "metadata": {
        "id": "8wmcPhAkU5sY",
        "colab_type": "text"
      },
      "source": [
        "With the unsupervised approach using machine learning algorithms we got an f1_score more than 23% which is pretty good for a unsupervised algorithm."
      ]
    },
    {
      "cell_type": "markdown",
      "metadata": {
        "id": "zT58VrXLPqRg",
        "colab_type": "text"
      },
      "source": [
        "###Deep Learning Approach : Auto Encoder"
      ]
    },
    {
      "cell_type": "markdown",
      "metadata": {
        "id": "D9L4jkTMW1DT",
        "colab_type": "text"
      },
      "source": [
        "![picture](https://drive.google.com/uc?id=1tc37iTOAmA6pdL66cA32EkLZ57J74KDN)"
      ]
    },
    {
      "cell_type": "code",
      "metadata": {
        "id": "TdCEZTTOWGQl",
        "colab_type": "code",
        "colab": {}
      },
      "source": [
        "df_train = X_train.join(y_train, rsuffix='target')\n",
        "df_valid = X_test.join(y_test, rsuffix='target')\n",
        "df = train.join(y, rsuffix='target')\n",
        "\n",
        "df_train_0 = df_train.loc[df_train.target == 0]\n",
        "df_train_1 = df_train.loc[df_train.target == 1]\n",
        "df_train_0_x = df_train_0.drop(['target'], axis=1)\n",
        "df_train_1_x = df_train_1.drop(['target'], axis=1)\n",
        "\n",
        "\n",
        "df_valid_0 = df_valid.loc[df_valid.target == 0]\n",
        "df_valid_1 = df_valid.loc[df_valid.target == 1]\n",
        "df_valid_0_x = df_valid_0.drop(['target'], axis=1)\n",
        "df_valid_1_x = df_valid_1.drop(['target'], axis=1)"
      ],
      "execution_count": 0,
      "outputs": []
    },
    {
      "cell_type": "markdown",
      "metadata": {
        "id": "yMuaWR2lVnPd",
        "colab_type": "text"
      },
      "source": [
        "We split the data as it needs to be to train the autoEncoder : we got 4 datasets two for the training and two for the validation."
      ]
    },
    {
      "cell_type": "code",
      "metadata": {
        "id": "y6eq0Dg3bBO6",
        "colab_type": "code",
        "colab": {}
      },
      "source": [
        "from sklearn.preprocessing import StandardScaler\n",
        "scaler = StandardScaler().fit(df_train_0_x)\n",
        "df_train_0_x_rescaled = scaler.transform(df_train_0_x)\n",
        "df_valid_0_x_rescaled = scaler.transform(df_valid_0_x)\n",
        "df_valid_x_rescaled = scaler.transform(df_valid.drop(['target'], axis = 1))\n",
        "#Scaling the data"
      ],
      "execution_count": 0,
      "outputs": []
    },
    {
      "cell_type": "code",
      "metadata": {
        "id": "PkPOptEeQ-Oq",
        "colab_type": "code",
        "outputId": "963dc1ef-9ad8-4d67-a280-1b82e1e623f5",
        "colab": {
          "base_uri": "https://localhost:8080/",
          "height": 353
        }
      },
      "source": [
        "from keras.models import Model, load_model\n",
        "from keras.layers import Input, Dense\n",
        "from keras.callbacks import ModelCheckpoint, TensorBoard\n",
        "from keras import regularizers\n",
        "\n",
        "nb_epoch = 10\n",
        "batch_size = 64\n",
        "input_dim = X_train.shape[1] #num of predictor variables, \n",
        "encoding_dim = 32\n",
        "hidden_dim = int(encoding_dim / 2)\n",
        "learning_rate = 1e-3\n",
        "\n",
        "input_layer = Input(shape=(input_dim, ))\n",
        "encoder = Dense(encoding_dim, activation=\"relu\", activity_regularizer=regularizers.l1(learning_rate))(input_layer)\n",
        "encoder = Dense(hidden_dim, activation=\"relu\")(encoder)\n",
        "decoder = Dense(hidden_dim, activation=\"relu\")(encoder)\n",
        "decoder = Dense(encoding_dim, activation=\"relu\")(decoder)\n",
        "decoder = Dense(input_dim, activation=\"linear\")(decoder)\n",
        "autoencoder = Model(inputs=input_layer, outputs=decoder)\n",
        "autoencoder.summary()"
      ],
      "execution_count": 0,
      "outputs": [
        {
          "output_type": "stream",
          "text": [
            "Model: \"model_2\"\n",
            "_________________________________________________________________\n",
            "Layer (type)                 Output Shape              Param #   \n",
            "=================================================================\n",
            "input_2 (InputLayer)         (None, 71)                0         \n",
            "_________________________________________________________________\n",
            "dense_6 (Dense)              (None, 32)                2304      \n",
            "_________________________________________________________________\n",
            "dense_7 (Dense)              (None, 16)                528       \n",
            "_________________________________________________________________\n",
            "dense_8 (Dense)              (None, 16)                272       \n",
            "_________________________________________________________________\n",
            "dense_9 (Dense)              (None, 32)                544       \n",
            "_________________________________________________________________\n",
            "dense_10 (Dense)             (None, 71)                2343      \n",
            "=================================================================\n",
            "Total params: 5,991\n",
            "Trainable params: 5,991\n",
            "Non-trainable params: 0\n",
            "_________________________________________________________________\n"
          ],
          "name": "stdout"
        }
      ]
    },
    {
      "cell_type": "code",
      "metadata": {
        "id": "PwlUoLzORkY4",
        "colab_type": "code",
        "outputId": "7c3cd6c6-4b6b-4d15-d7a3-09f440425417",
        "colab": {
          "base_uri": "https://localhost:8080/",
          "height": 370
        }
      },
      "source": [
        "autoencoder.compile(metrics=[tf.keras.metrics.AUC(curve='PR', name='PR-AUC')],\n",
        "                    loss='mean_squared_error',\n",
        "                    optimizer='adam')\n",
        "cp = ModelCheckpoint(filepath=\"autoencoder_classifier.h5\",\n",
        "                               save_best_only=True,\n",
        "                               verbose=0)\n",
        "\n",
        "history = autoencoder.fit(df_train_0_x_rescaled, df_train_0_x_rescaled,\n",
        "                    epochs=nb_epoch,\n",
        "                    batch_size=batch_size,\n",
        "                    shuffle=True,\n",
        "                    validation_data=(df_valid_0_x_rescaled, df_valid_0_x_rescaled),\n",
        "                    verbose=1,\n",
        "                    callbacks=[cp]).history"
      ],
      "execution_count": 0,
      "outputs": [
        {
          "output_type": "stream",
          "text": [
            "Train on 46294 samples, validate on 9787 samples\n",
            "Epoch 1/10\n",
            "46294/46294 [==============================] - 7s 152us/step - loss: 0.9030 - PR-AUC: 0.4470 - val_loss: 0.5735 - val_PR-AUC: 0.4014\n",
            "Epoch 2/10\n",
            "46294/46294 [==============================] - 5s 113us/step - loss: 0.6149 - PR-AUC: 0.3791 - val_loss: 0.4898 - val_PR-AUC: 0.3613\n",
            "Epoch 3/10\n",
            "46294/46294 [==============================] - 5s 112us/step - loss: 0.5438 - PR-AUC: 0.3494 - val_loss: 0.4575 - val_PR-AUC: 0.3410\n",
            "Epoch 4/10\n",
            "46294/46294 [==============================] - 5s 114us/step - loss: 0.4949 - PR-AUC: 0.3350 - val_loss: 0.4253 - val_PR-AUC: 0.3294\n",
            "Epoch 5/10\n",
            "46294/46294 [==============================] - 5s 116us/step - loss: 0.4600 - PR-AUC: 0.3246 - val_loss: 0.3899 - val_PR-AUC: 0.3203\n",
            "Epoch 6/10\n",
            "46294/46294 [==============================] - 5s 115us/step - loss: 0.4373 - PR-AUC: 0.3170 - val_loss: 0.3631 - val_PR-AUC: 0.3139\n",
            "Epoch 7/10\n",
            "46294/46294 [==============================] - 5s 115us/step - loss: 0.4187 - PR-AUC: 0.3113 - val_loss: 0.3794 - val_PR-AUC: 0.3096\n",
            "Epoch 8/10\n",
            "46294/46294 [==============================] - 5s 117us/step - loss: 0.4007 - PR-AUC: 0.3080 - val_loss: 0.3256 - val_PR-AUC: 0.3066\n",
            "Epoch 9/10\n",
            "46294/46294 [==============================] - 5s 115us/step - loss: 0.3843 - PR-AUC: 0.3053 - val_loss: 0.3240 - val_PR-AUC: 0.3044\n",
            "Epoch 10/10\n",
            "46294/46294 [==============================] - 5s 117us/step - loss: 0.3830 - PR-AUC: 0.3036 - val_loss: 0.3127 - val_PR-AUC: 0.3028\n"
          ],
          "name": "stdout"
        }
      ]
    },
    {
      "cell_type": "markdown",
      "metadata": {
        "id": "fbV3ErgDZlAG",
        "colab_type": "text"
      },
      "source": [
        "So the training shows that the validation PR_AUC is not bad and we will see the performance of the model later."
      ]
    },
    {
      "cell_type": "code",
      "metadata": {
        "id": "GZvtFJLab1Av",
        "colab_type": "code",
        "colab": {}
      },
      "source": [
        "valid_x_predictions = autoencoder.predict(df_valid_x_rescaled)\n",
        "mse = np.mean(np.power(df_valid_x_rescaled - valid_x_predictions, 2), axis=1)\n",
        "error_df = pd.DataFrame({'Reconstruction_error': mse,\n",
        "                        'True_class': df_valid['target']})\n"
      ],
      "execution_count": 0,
      "outputs": []
    },
    {
      "cell_type": "markdown",
      "metadata": {
        "id": "bwhPUg-4Z9Ea",
        "colab_type": "text"
      },
      "source": [
        "So here we measure the mse between the validation data and the predicted data."
      ]
    },
    {
      "cell_type": "code",
      "metadata": {
        "id": "mfGihVWxsBCF",
        "colab_type": "code",
        "outputId": "dd25f39d-560a-45cf-c951-500fee4e13d7",
        "colab": {
          "base_uri": "https://localhost:8080/",
          "height": 282
        }
      },
      "source": [
        "T = np.linspace(0,130,130)\n",
        "plt.plot(T,mse[:130])"
      ],
      "execution_count": 0,
      "outputs": [
        {
          "output_type": "execute_result",
          "data": {
            "text/plain": [
              "[<matplotlib.lines.Line2D at 0x7f441e3086a0>]"
            ]
          },
          "metadata": {
            "tags": []
          },
          "execution_count": 103
        },
        {
          "output_type": "display_data",
          "data": {
            "image/png": "[encoded data removed]",
            "text/plain": [
              "<Figure size 432x288 with 1 Axes>"
            ]
          },
          "metadata": {
            "tags": [],
            "needs_background": "light"
          }
        }
      ]
    },
    {
      "cell_type": "code",
      "metadata": {
        "id": "xd2CbSoccO8l",
        "colab_type": "code",
        "outputId": "ae32a3a9-0a57-4378-a885-47a0ae47f301",
        "colab": {
          "base_uri": "https://localhost:8080/",
          "height": 350
        }
      },
      "source": [
        "LABELS = [\"Valid\",\"Fraudulent\"]\n",
        "\n",
        "pred_y = [1 if e > 70 else 0 for e in error_df.Reconstruction_error.values]\n",
        "#Using the mse values we classifie samples with high mse as fraudulent and samples with low mse as valid\n",
        "conf_matrix = confusion_matrix(error_df.True_class, pred_y)\n",
        "plt.figure(figsize=(5, 5))\n",
        "sns.heatmap(conf_matrix, xticklabels=LABELS, yticklabels=LABELS, annot=True, fmt=\"d\");\n",
        "plt.title(\"Confusion matrix\")\n",
        "plt.ylabel('True class')\n",
        "plt.xlabel('Predicted class')\n",
        "plt.show()"
      ],
      "execution_count": 0,
      "outputs": [
        {
          "output_type": "display_data",
          "data": {
            "image/png": "[encoded data removed]",
            "text/plain": [
              "<Figure size 360x360 with 2 Axes>"
            ]
          },
          "metadata": {
            "tags": [],
            "needs_background": "light"
          }
        }
      ]
    },
    {
      "cell_type": "code",
      "metadata": {
        "id": "6ccQBupqJ5Oz",
        "colab_type": "code",
        "outputId": "ae4995f1-ca47-4da6-e7ab-225cee528383",
        "colab": {
          "base_uri": "https://localhost:8080/",
          "height": 34
        }
      },
      "source": [
        "print('f1_score = ', f1_score(error_df.True_class, pred_y))"
      ],
      "execution_count": 0,
      "outputs": [
        {
          "output_type": "stream",
          "text": [
            "f1_score =  0.14809873248832556\n"
          ],
          "name": "stdout"
        }
      ]
    },
    {
      "cell_type": "code",
      "metadata": {
        "id": "Ol_U09vHVF6q",
        "colab_type": "code",
        "outputId": "e24107ff-7532-4966-a083-01e4ca355a7c",
        "colab": {
          "base_uri": "https://localhost:8080/",
          "height": 34
        }
      },
      "source": [
        "# calculate precision-recall curve\n",
        "\n",
        "precision, recall, thresholds = precision_recall_curve(error_df.True_class, pred_y) \n",
        "pr_auc = auc(recall, precision)\n",
        "print('PR-AUC', pr_auc)\n"
      ],
      "execution_count": 0,
      "outputs": [
        {
          "output_type": "stream",
          "text": [
            "PR-AUC 0.583931851288872\n"
          ],
          "name": "stdout"
        }
      ]
    },
    {
      "cell_type": "markdown",
      "metadata": {
        "id": "lfIPBpF8a1Uc",
        "colab_type": "text"
      },
      "source": [
        "We got an f1_score = 15% and PR_AUC = 58% which is pretty good compared to the unsupervised machine learning approach. This shows the effeciency of the autoEncoders."
      ]
    },
    {
      "cell_type": "code",
      "metadata": {
        "id": "mXJn2XeBYA6C",
        "colab_type": "code",
        "outputId": "d2dd2730-5a6e-4985-a50f-48dfc822266e",
        "colab": {
          "base_uri": "https://localhost:8080/",
          "height": 283
        }
      },
      "source": [
        "plot_PR_curve(error_df.True_class, pred_y)"
      ],
      "execution_count": 0,
      "outputs": [
        {
          "output_type": "display_data",
          "data": {
            "image/png": "[encoded data removed]",
            "text/plain": [
              "<Figure size 432x288 with 1 Axes>"
            ]
          },
          "metadata": {
            "tags": [],
            "needs_background": "light"
          }
        }
      ]
    },
    {
      "cell_type": "markdown",
      "metadata": {
        "id": "Mfv1NgvBbIU7",
        "colab_type": "text"
      },
      "source": [
        "The curve of the PR shows that the PR_AUC is over the 50% but it is pretty good."
      ]
    },
    {
      "cell_type": "markdown",
      "metadata": {
        "id": "UFFwMDT5v5Fv",
        "colab_type": "text"
      },
      "source": [
        "###Adversarial AutoEncoder"
      ]
    },
    {
      "cell_type": "code",
      "metadata": {
        "id": "laqLw2YuvI-o",
        "colab_type": "code",
        "colab": {}
      },
      "source": [
        "#Scaling the data\n",
        "from sklearn.preprocessing import StandardScaler\n",
        "train = StandardScaler().fit_transform(train)\n",
        "train = pd.DataFrame(train)"
      ],
      "execution_count": 0,
      "outputs": []
    },
    {
      "cell_type": "code",
      "metadata": {
        "id": "HVaVPF9cwmkY",
        "colab_type": "code",
        "colab": {}
      },
      "source": [
        "encoder_net = tf.keras.Sequential(\n",
        "    [\n",
        "        tf.keras.layers.Input(shape=(X_train.shape[1], )),\n",
        "        tf.keras.layers.Dense(64, activation=\"tanh\"),\n",
        "        tf.keras.layers.Dense(32, activation=\"tanh\"),\n",
        "        tf.keras.layers.Dense(16)\n",
        "    ]\n",
        ")\n",
        "\n",
        "decoder_net = tf.keras.Sequential(\n",
        "[       tf.keras.layers.Input(shape=(16, )),\n",
        "        tf.keras.layers.Dense(32, activation=\"tanh\"),\n",
        "        tf.keras.layers.Dense(64, activation=\"tanh\"),\n",
        "        tf.keras.layers.Dense(X_train.shape[1], activation=\"linear\")\n",
        "    ]\n",
        ")\n",
        "\n",
        "inputs = tf.keras.Input(shape=(X_train.shape[1],))\n",
        "outputs = tf.keras.layers.Dense(2, activation=tf.nn.sigmoid)(inputs)\n",
        "model = tf.keras.Model(inputs=inputs, outputs=outputs)\n",
        "\n"
      ],
      "execution_count": 0,
      "outputs": []
    },
    {
      "cell_type": "code",
      "metadata": {
        "id": "R7ZmRok0yYC9",
        "colab_type": "code",
        "colab": {}
      },
      "source": [
        "!pip install alibi_detect"
      ],
      "execution_count": 0,
      "outputs": []
    },
    {
      "cell_type": "code",
      "metadata": {
        "id": "rl9Uvx54yba2",
        "colab_type": "code",
        "colab": {}
      },
      "source": [
        "from alibi_detect.ad import AdversarialAE\n",
        "\n",
        "ad = AdversarialAE(\n",
        "    encoder_net=encoder_net,\n",
        "    decoder_net=decoder_net,\n",
        "    model=model,\n",
        "    ae = autoencoder,\n",
        "    threshold = 0.90)"
      ],
      "execution_count": 0,
      "outputs": []
    },
    {
      "cell_type": "code",
      "metadata": {
        "id": "B6OeoyX77qiO",
        "colab_type": "code",
        "outputId": "236840dc-d7aa-477b-ce18-6f7909a953fa",
        "colab": {
          "base_uri": "https://localhost:8080/",
          "height": 306
        }
      },
      "source": [
        "ad.fit(X_train, epochs=10)"
      ],
      "execution_count": 0,
      "outputs": [
        {
          "output_type": "stream",
          "text": [
            "WARNING:tensorflow:Layer ae is casting an input tensor from dtype float64 to the layer's dtype of float32, which is new behavior in TensorFlow 2.  The layer has dtype float32 because it's dtype defaults to floatx.\n",
            "\n",
            "If you intended to run this layer in float32, you can safely ignore this warning. If in doubt, this warning is likely only an issue if you are porting a TensorFlow 1.X model to TensorFlow 2.\n",
            "\n",
            "To change all layers to have dtype float64 by default, call `tf.keras.backend.set_floatx('float64')`. To change just this layer, pass dtype='float64' to the layer constructor. If you are the author of this layer, you can disable autocasting by passing autocast=False to the base Layer constructor.\n",
            "\n",
            "326/326 [=] - 6s 19ms/step - loss: 0.0048\n",
            "326/326 [=] - 6s 19ms/step - loss: -7.4949e-05\n",
            "326/326 [=] - 6s 19ms/step - loss: -7.5110e-05\n",
            "326/326 [=] - 6s 19ms/step - loss: -7.5250e-05\n",
            "326/326 [=] - 6s 19ms/step - loss: -7.5338e-05\n",
            "326/326 [=] - 6s 19ms/step - loss: -7.5422e-05\n",
            "326/326 [=] - 6s 19ms/step - loss: -7.5509e-05\n",
            "326/326 [=] - 6s 19ms/step - loss: -7.5576e-05\n",
            "326/326 [=] - 6s 19ms/step - loss: -7.5630e-05\n",
            "326/326 [=] - 6s 19ms/step - loss: -7.5678e-05\n"
          ],
          "name": "stdout"
        }
      ]
    },
    {
      "cell_type": "code",
      "metadata": {
        "id": "PYrRLu4979yQ",
        "colab_type": "code",
        "colab": {}
      },
      "source": [
        "ad.infer_threshold(X_test, threshold_perc=90, batch_size=64)"
      ],
      "execution_count": 0,
      "outputs": []
    },
    {
      "cell_type": "code",
      "metadata": {
        "id": "ODQIdKZX8CUM",
        "colab_type": "code",
        "colab": {}
      },
      "source": [
        "preds_detect = ad.predict(X_test, batch_size=64, return_instance_score=True)"
      ],
      "execution_count": 0,
      "outputs": []
    },
    {
      "cell_type": "code",
      "metadata": {
        "id": "STVVSy9HMjxL",
        "colab_type": "code",
        "outputId": "9afa697e-be7b-4fac-8021-3d61afa04963",
        "colab": {
          "base_uri": "https://localhost:8080/",
          "height": 34
        }
      },
      "source": [
        "print('f1_score = ', f1_score(preds_detect['data']['is_adversarial'], y_test))"
      ],
      "execution_count": 0,
      "outputs": [
        {
          "output_type": "stream",
          "text": [
            "f1_score =  0.14716781365802012\n"
          ],
          "name": "stdout"
        }
      ]
    },
    {
      "cell_type": "markdown",
      "metadata": {
        "id": "9JQXmUtBGGTq",
        "colab_type": "text"
      },
      "source": [
        "#Modeling with PyCaret"
      ]
    },
    {
      "cell_type": "markdown",
      "metadata": {
        "id": "WxlRRiey46mF",
        "colab_type": "text"
      },
      "source": [
        "PyCaret is an open source, low-code machine learning library that allows you to go from preparing your data to deploying your model within seconds. It's fast and easy to use."
      ]
    },
    {
      "cell_type": "code",
      "metadata": {
        "id": "CtDnfs1dH3Vq",
        "colab_type": "code",
        "colab": {}
      },
      "source": [
        "#install the library\n",
        "!pip install pycaret"
      ],
      "execution_count": 0,
      "outputs": []
    },
    {
      "cell_type": "code",
      "metadata": {
        "id": "4H2ALlmqILKQ",
        "colab_type": "code",
        "colab": {}
      },
      "source": [
        "# join the data with target \n",
        "df = train.join(y, rsuffix='target')"
      ],
      "execution_count": 0,
      "outputs": []
    },
    {
      "cell_type": "code",
      "metadata": {
        "id": "r_3ahDdcTtGQ",
        "colab_type": "code",
        "outputId": "a6ab58a1-7b2c-4e71-cd0a-f69ed6e2807e",
        "colab": {
          "base_uri": "https://localhost:8080/",
          "height": 245
        }
      },
      "source": [
        "df.head()"
      ],
      "execution_count": 0,
      "outputs": [
        {
          "output_type": "execute_result",
          "data": {
            "text/html": [
              "<div>\n",
              "<style scoped>\n",
              "    .dataframe tbody tr th:only-of-type {\n",
              "        vertical-align: middle;\n",
              "    }\n",
              "\n",
              "    .dataframe tbody tr th {\n",
              "        vertical-align: top;\n",
              "    }\n",
              "\n",
              "    .dataframe thead th {\n",
              "        text-align: right;\n",
              "    }\n",
              "</style>\n",
              "<table border=\"1\" class=\"dataframe\">\n",
              "  <thead>\n",
              "    <tr style=\"text-align: right;\">\n",
              "      <th></th>\n",
              "      <th>client_catg</th>\n",
              "      <th>counter_statue_min</th>\n",
              "      <th>counter_statue_mean</th>\n",
              "      <th>counter_statue_median</th>\n",
              "      <th>counter_statue_max</th>\n",
              "      <th>counter_statue_std</th>\n",
              "      <th>counter_statue_var</th>\n",
              "      <th>counter_statue_sum</th>\n",
              "      <th>consommation_level_1_min</th>\n",
              "      <th>consommation_level_1_mean</th>\n",
              "      <th>consommation_level_1_median</th>\n",
              "      <th>consommation_level_1_max</th>\n",
              "      <th>consommation_level_1_std</th>\n",
              "      <th>cconsommation_level_1_var</th>\n",
              "      <th>consommation_level_1_sum</th>\n",
              "      <th>consommation_level_2_min</th>\n",
              "      <th>consommation_level_2_mean</th>\n",
              "      <th>consommation_level_2_median</th>\n",
              "      <th>cconsommation_level_2_max</th>\n",
              "      <th>consommation_level_2_std</th>\n",
              "      <th>consommation_level_2_var</th>\n",
              "      <th>consommation_level_2_sum</th>\n",
              "      <th>consommation_level_3_min</th>\n",
              "      <th>consommation_level_3_mean</th>\n",
              "      <th>consommation_level_3_median</th>\n",
              "      <th>consommation_level_3_max</th>\n",
              "      <th>consommation_level_3_std</th>\n",
              "      <th>consommation_level_3_var</th>\n",
              "      <th>consommation_level_3_sum</th>\n",
              "      <th>consommation_level_4_min</th>\n",
              "      <th>consommation_level_4_mean</th>\n",
              "      <th>consommation_level_4_median</th>\n",
              "      <th>consommation_level_4_max</th>\n",
              "      <th>consommation_level_4_std</th>\n",
              "      <th>consommation_level_4_var</th>\n",
              "      <th>consommation_level_4_sum</th>\n",
              "      <th>cmonths_number_min</th>\n",
              "      <th>months_number_mean</th>\n",
              "      <th>months_number_median</th>\n",
              "      <th>months_number_max</th>\n",
              "      <th>months_number_std</th>\n",
              "      <th>months_number_var</th>\n",
              "      <th>months_number_sum</th>\n",
              "      <th>counter_type_min</th>\n",
              "      <th>counter_type_mean</th>\n",
              "      <th>counter_type_median</th>\n",
              "      <th>counter_type_max</th>\n",
              "      <th>counter_type_std</th>\n",
              "      <th>counter_type_var</th>\n",
              "      <th>counter_type_sum</th>\n",
              "      <th>consumption_min</th>\n",
              "      <th>consumption_mean</th>\n",
              "      <th>consumption_median</th>\n",
              "      <th>consumption_max</th>\n",
              "      <th>consumption_std</th>\n",
              "      <th>consumption_var</th>\n",
              "      <th>consumption_sum</th>\n",
              "      <th>year_min</th>\n",
              "      <th>year_mean</th>\n",
              "      <th>year_median</th>\n",
              "      <th>year_max</th>\n",
              "      <th>year_std</th>\n",
              "      <th>year_var</th>\n",
              "      <th>year_sum</th>\n",
              "      <th>month_min</th>\n",
              "      <th>month_mean</th>\n",
              "      <th>month_median</th>\n",
              "      <th>month_max</th>\n",
              "      <th>month_std</th>\n",
              "      <th>month_var</th>\n",
              "      <th>month_sum</th>\n",
              "      <th>target</th>\n",
              "    </tr>\n",
              "    <tr>\n",
              "      <th>counter_number</th>\n",
              "      <th></th>\n",
              "      <th></th>\n",
              "      <th></th>\n",
              "      <th></th>\n",
              "      <th></th>\n",
              "      <th></th>\n",
              "      <th></th>\n",
              "      <th></th>\n",
              "      <th></th>\n",
              "      <th></th>\n",
              "      <th></th>\n",
              "      <th></th>\n",
              "      <th></th>\n",
              "      <th></th>\n",
              "      <th></th>\n",
              "      <th></th>\n",
              "      <th></th>\n",
              "      <th></th>\n",
              "      <th></th>\n",
              "      <th></th>\n",
              "      <th></th>\n",
              "      <th></th>\n",
              "      <th></th>\n",
              "      <th></th>\n",
              "      <th></th>\n",
              "      <th></th>\n",
              "      <th></th>\n",
              "      <th></th>\n",
              "      <th></th>\n",
              "      <th></th>\n",
              "      <th></th>\n",
              "      <th></th>\n",
              "      <th></th>\n",
              "      <th></th>\n",
              "      <th></th>\n",
              "      <th></th>\n",
              "      <th></th>\n",
              "      <th></th>\n",
              "      <th></th>\n",
              "      <th></th>\n",
              "      <th></th>\n",
              "      <th></th>\n",
              "      <th></th>\n",
              "      <th></th>\n",
              "      <th></th>\n",
              "      <th></th>\n",
              "      <th></th>\n",
              "      <th></th>\n",
              "      <th></th>\n",
              "      <th></th>\n",
              "      <th></th>\n",
              "      <th></th>\n",
              "      <th></th>\n",
              "      <th></th>\n",
              "      <th></th>\n",
              "      <th></th>\n",
              "      <th></th>\n",
              "      <th></th>\n",
              "      <th></th>\n",
              "      <th></th>\n",
              "      <th></th>\n",
              "      <th></th>\n",
              "      <th></th>\n",
              "      <th></th>\n",
              "      <th></th>\n",
              "      <th></th>\n",
              "      <th></th>\n",
              "      <th></th>\n",
              "      <th></th>\n",
              "      <th></th>\n",
              "      <th></th>\n",
              "      <th></th>\n",
              "    </tr>\n",
              "  </thead>\n",
              "  <tbody>\n",
              "    <tr>\n",
              "      <th>-1229176</th>\n",
              "      <td>11</td>\n",
              "      <td>0</td>\n",
              "      <td>0.000000</td>\n",
              "      <td>0.0</td>\n",
              "      <td>0</td>\n",
              "      <td>0.000000</td>\n",
              "      <td>0.000000</td>\n",
              "      <td>0</td>\n",
              "      <td>31</td>\n",
              "      <td>52.500000</td>\n",
              "      <td>51.0</td>\n",
              "      <td>106</td>\n",
              "      <td>11.054119</td>\n",
              "      <td>122.193548</td>\n",
              "      <td>1680</td>\n",
              "      <td>0</td>\n",
              "      <td>0.0</td>\n",
              "      <td>0.0</td>\n",
              "      <td>0</td>\n",
              "      <td>0.0</td>\n",
              "      <td>0.0</td>\n",
              "      <td>0</td>\n",
              "      <td>0</td>\n",
              "      <td>0.0</td>\n",
              "      <td>0.0</td>\n",
              "      <td>0</td>\n",
              "      <td>0.0</td>\n",
              "      <td>0.0</td>\n",
              "      <td>0</td>\n",
              "      <td>0</td>\n",
              "      <td>0.0</td>\n",
              "      <td>0.0</td>\n",
              "      <td>0</td>\n",
              "      <td>0.0</td>\n",
              "      <td>0.0</td>\n",
              "      <td>0</td>\n",
              "      <td>4</td>\n",
              "      <td>4.125000</td>\n",
              "      <td>4.0</td>\n",
              "      <td>8</td>\n",
              "      <td>0.707107</td>\n",
              "      <td>0.500000</td>\n",
              "      <td>132</td>\n",
              "      <td>0</td>\n",
              "      <td>0.0</td>\n",
              "      <td>0.0</td>\n",
              "      <td>0</td>\n",
              "      <td>0.0</td>\n",
              "      <td>0.0</td>\n",
              "      <td>0</td>\n",
              "      <td>31</td>\n",
              "      <td>52.500000</td>\n",
              "      <td>51.0</td>\n",
              "      <td>106</td>\n",
              "      <td>11.054119</td>\n",
              "      <td>122.193548</td>\n",
              "      <td>1680</td>\n",
              "      <td>2008</td>\n",
              "      <td>2013.593750</td>\n",
              "      <td>2013.5</td>\n",
              "      <td>2019</td>\n",
              "      <td>3.271178</td>\n",
              "      <td>10.700605</td>\n",
              "      <td>64435</td>\n",
              "      <td>3</td>\n",
              "      <td>7.000000</td>\n",
              "      <td>7.0</td>\n",
              "      <td>11</td>\n",
              "      <td>3.369694</td>\n",
              "      <td>11.354839</td>\n",
              "      <td>224</td>\n",
              "      <td>0</td>\n",
              "    </tr>\n",
              "    <tr>\n",
              "      <th>.171032</th>\n",
              "      <td>11</td>\n",
              "      <td>0</td>\n",
              "      <td>0.026316</td>\n",
              "      <td>0.0</td>\n",
              "      <td>1</td>\n",
              "      <td>0.162221</td>\n",
              "      <td>0.026316</td>\n",
              "      <td>1</td>\n",
              "      <td>27</td>\n",
              "      <td>108.394737</td>\n",
              "      <td>105.5</td>\n",
              "      <td>185</td>\n",
              "      <td>33.434518</td>\n",
              "      <td>1117.866999</td>\n",
              "      <td>4119</td>\n",
              "      <td>0</td>\n",
              "      <td>0.0</td>\n",
              "      <td>0.0</td>\n",
              "      <td>0</td>\n",
              "      <td>0.0</td>\n",
              "      <td>0.0</td>\n",
              "      <td>0</td>\n",
              "      <td>0</td>\n",
              "      <td>0.0</td>\n",
              "      <td>0.0</td>\n",
              "      <td>0</td>\n",
              "      <td>0.0</td>\n",
              "      <td>0.0</td>\n",
              "      <td>0</td>\n",
              "      <td>0</td>\n",
              "      <td>0.0</td>\n",
              "      <td>0.0</td>\n",
              "      <td>0</td>\n",
              "      <td>0.0</td>\n",
              "      <td>0.0</td>\n",
              "      <td>0</td>\n",
              "      <td>2</td>\n",
              "      <td>3.947368</td>\n",
              "      <td>4.0</td>\n",
              "      <td>4</td>\n",
              "      <td>0.324443</td>\n",
              "      <td>0.105263</td>\n",
              "      <td>150</td>\n",
              "      <td>1</td>\n",
              "      <td>1.0</td>\n",
              "      <td>1.0</td>\n",
              "      <td>1</td>\n",
              "      <td>0.0</td>\n",
              "      <td>0.0</td>\n",
              "      <td>38</td>\n",
              "      <td>27</td>\n",
              "      <td>108.394737</td>\n",
              "      <td>105.5</td>\n",
              "      <td>185</td>\n",
              "      <td>33.434518</td>\n",
              "      <td>1117.866999</td>\n",
              "      <td>4119</td>\n",
              "      <td>2007</td>\n",
              "      <td>2012.842105</td>\n",
              "      <td>2013.0</td>\n",
              "      <td>2019</td>\n",
              "      <td>3.709202</td>\n",
              "      <td>13.758179</td>\n",
              "      <td>76488</td>\n",
              "      <td>1</td>\n",
              "      <td>6.000000</td>\n",
              "      <td>6.0</td>\n",
              "      <td>12</td>\n",
              "      <td>3.479671</td>\n",
              "      <td>12.108108</td>\n",
              "      <td>228</td>\n",
              "      <td>0</td>\n",
              "    </tr>\n",
              "    <tr>\n",
              "      <th>.6849735</th>\n",
              "      <td>11</td>\n",
              "      <td>5</td>\n",
              "      <td>5.000000</td>\n",
              "      <td>5.0</td>\n",
              "      <td>5</td>\n",
              "      <td>0.000000</td>\n",
              "      <td>0.000000</td>\n",
              "      <td>5</td>\n",
              "      <td>0</td>\n",
              "      <td>0.000000</td>\n",
              "      <td>0.0</td>\n",
              "      <td>0</td>\n",
              "      <td>0.000000</td>\n",
              "      <td>0.000000</td>\n",
              "      <td>0</td>\n",
              "      <td>0</td>\n",
              "      <td>0.0</td>\n",
              "      <td>0.0</td>\n",
              "      <td>0</td>\n",
              "      <td>0.0</td>\n",
              "      <td>0.0</td>\n",
              "      <td>0</td>\n",
              "      <td>0</td>\n",
              "      <td>0.0</td>\n",
              "      <td>0.0</td>\n",
              "      <td>0</td>\n",
              "      <td>0.0</td>\n",
              "      <td>0.0</td>\n",
              "      <td>0</td>\n",
              "      <td>0</td>\n",
              "      <td>0.0</td>\n",
              "      <td>0.0</td>\n",
              "      <td>0</td>\n",
              "      <td>0.0</td>\n",
              "      <td>0.0</td>\n",
              "      <td>0</td>\n",
              "      <td>2</td>\n",
              "      <td>2.000000</td>\n",
              "      <td>2.0</td>\n",
              "      <td>2</td>\n",
              "      <td>0.000000</td>\n",
              "      <td>0.000000</td>\n",
              "      <td>2</td>\n",
              "      <td>1</td>\n",
              "      <td>1.0</td>\n",
              "      <td>1.0</td>\n",
              "      <td>1</td>\n",
              "      <td>0.0</td>\n",
              "      <td>0.0</td>\n",
              "      <td>1</td>\n",
              "      <td>0</td>\n",
              "      <td>0.000000</td>\n",
              "      <td>0.0</td>\n",
              "      <td>0</td>\n",
              "      <td>0.000000</td>\n",
              "      <td>0.000000</td>\n",
              "      <td>0</td>\n",
              "      <td>2007</td>\n",
              "      <td>2007.000000</td>\n",
              "      <td>2007.0</td>\n",
              "      <td>2007</td>\n",
              "      <td>0.000000</td>\n",
              "      <td>0.000000</td>\n",
              "      <td>2007</td>\n",
              "      <td>3</td>\n",
              "      <td>3.000000</td>\n",
              "      <td>3.0</td>\n",
              "      <td>3</td>\n",
              "      <td>0.000000</td>\n",
              "      <td>0.000000</td>\n",
              "      <td>3</td>\n",
              "      <td>0</td>\n",
              "    </tr>\n",
              "    <tr>\n",
              "      <th>.6849788</th>\n",
              "      <td>11</td>\n",
              "      <td>0</td>\n",
              "      <td>0.032258</td>\n",
              "      <td>0.0</td>\n",
              "      <td>1</td>\n",
              "      <td>0.179605</td>\n",
              "      <td>0.032258</td>\n",
              "      <td>1</td>\n",
              "      <td>0</td>\n",
              "      <td>176.709677</td>\n",
              "      <td>69.0</td>\n",
              "      <td>835</td>\n",
              "      <td>231.790594</td>\n",
              "      <td>53726.879570</td>\n",
              "      <td>5478</td>\n",
              "      <td>0</td>\n",
              "      <td>0.0</td>\n",
              "      <td>0.0</td>\n",
              "      <td>0</td>\n",
              "      <td>0.0</td>\n",
              "      <td>0.0</td>\n",
              "      <td>0</td>\n",
              "      <td>0</td>\n",
              "      <td>0.0</td>\n",
              "      <td>0.0</td>\n",
              "      <td>0</td>\n",
              "      <td>0.0</td>\n",
              "      <td>0.0</td>\n",
              "      <td>0</td>\n",
              "      <td>0</td>\n",
              "      <td>0.0</td>\n",
              "      <td>0.0</td>\n",
              "      <td>0</td>\n",
              "      <td>0.0</td>\n",
              "      <td>0.0</td>\n",
              "      <td>0</td>\n",
              "      <td>2</td>\n",
              "      <td>4.000000</td>\n",
              "      <td>4.0</td>\n",
              "      <td>8</td>\n",
              "      <td>1.549193</td>\n",
              "      <td>2.400000</td>\n",
              "      <td>124</td>\n",
              "      <td>1</td>\n",
              "      <td>1.0</td>\n",
              "      <td>1.0</td>\n",
              "      <td>1</td>\n",
              "      <td>0.0</td>\n",
              "      <td>0.0</td>\n",
              "      <td>31</td>\n",
              "      <td>0</td>\n",
              "      <td>176.709677</td>\n",
              "      <td>69.0</td>\n",
              "      <td>835</td>\n",
              "      <td>231.790594</td>\n",
              "      <td>53726.879570</td>\n",
              "      <td>5478</td>\n",
              "      <td>2007</td>\n",
              "      <td>2012.064516</td>\n",
              "      <td>2012.0</td>\n",
              "      <td>2019</td>\n",
              "      <td>3.577108</td>\n",
              "      <td>12.795699</td>\n",
              "      <td>62374</td>\n",
              "      <td>1</td>\n",
              "      <td>4.806452</td>\n",
              "      <td>3.0</td>\n",
              "      <td>11</td>\n",
              "      <td>3.380526</td>\n",
              "      <td>11.427957</td>\n",
              "      <td>149</td>\n",
              "      <td>0</td>\n",
              "    </tr>\n",
              "    <tr>\n",
              "      <th>.6849788</th>\n",
              "      <td>11</td>\n",
              "      <td>0</td>\n",
              "      <td>0.032258</td>\n",
              "      <td>0.0</td>\n",
              "      <td>1</td>\n",
              "      <td>0.179605</td>\n",
              "      <td>0.032258</td>\n",
              "      <td>1</td>\n",
              "      <td>0</td>\n",
              "      <td>176.709677</td>\n",
              "      <td>69.0</td>\n",
              "      <td>835</td>\n",
              "      <td>231.790594</td>\n",
              "      <td>53726.879570</td>\n",
              "      <td>5478</td>\n",
              "      <td>0</td>\n",
              "      <td>0.0</td>\n",
              "      <td>0.0</td>\n",
              "      <td>0</td>\n",
              "      <td>0.0</td>\n",
              "      <td>0.0</td>\n",
              "      <td>0</td>\n",
              "      <td>0</td>\n",
              "      <td>0.0</td>\n",
              "      <td>0.0</td>\n",
              "      <td>0</td>\n",
              "      <td>0.0</td>\n",
              "      <td>0.0</td>\n",
              "      <td>0</td>\n",
              "      <td>0</td>\n",
              "      <td>0.0</td>\n",
              "      <td>0.0</td>\n",
              "      <td>0</td>\n",
              "      <td>0.0</td>\n",
              "      <td>0.0</td>\n",
              "      <td>0</td>\n",
              "      <td>2</td>\n",
              "      <td>4.000000</td>\n",
              "      <td>4.0</td>\n",
              "      <td>8</td>\n",
              "      <td>1.549193</td>\n",
              "      <td>2.400000</td>\n",
              "      <td>124</td>\n",
              "      <td>1</td>\n",
              "      <td>1.0</td>\n",
              "      <td>1.0</td>\n",
              "      <td>1</td>\n",
              "      <td>0.0</td>\n",
              "      <td>0.0</td>\n",
              "      <td>31</td>\n",
              "      <td>0</td>\n",
              "      <td>176.709677</td>\n",
              "      <td>69.0</td>\n",
              "      <td>835</td>\n",
              "      <td>231.790594</td>\n",
              "      <td>53726.879570</td>\n",
              "      <td>5478</td>\n",
              "      <td>2007</td>\n",
              "      <td>2012.064516</td>\n",
              "      <td>2012.0</td>\n",
              "      <td>2019</td>\n",
              "      <td>3.577108</td>\n",
              "      <td>12.795699</td>\n",
              "      <td>62374</td>\n",
              "      <td>1</td>\n",
              "      <td>4.806452</td>\n",
              "      <td>3.0</td>\n",
              "      <td>11</td>\n",
              "      <td>3.380526</td>\n",
              "      <td>11.427957</td>\n",
              "      <td>149</td>\n",
              "      <td>0</td>\n",
              "    </tr>\n",
              "  </tbody>\n",
              "</table>\n",
              "</div>"
            ],
            "text/plain": [
              "                client_catg  counter_statue_min  counter_statue_mean  \\\n",
              "counter_number                                                         \n",
              "-1229176                 11                   0             0.000000   \n",
              ".171032                  11                   0             0.026316   \n",
              ".6849735                 11                   5             5.000000   \n",
              ".6849788                 11                   0             0.032258   \n",
              ".6849788                 11                   0             0.032258   \n",
              "\n",
              "                counter_statue_median  counter_statue_max  counter_statue_std  \\\n",
              "counter_number                                                                  \n",
              "-1229176                          0.0                   0            0.000000   \n",
              ".171032                           0.0                   1            0.162221   \n",
              ".6849735                          5.0                   5            0.000000   \n",
              ".6849788                          0.0                   1            0.179605   \n",
              ".6849788                          0.0                   1            0.179605   \n",
              "\n",
              "                counter_statue_var  counter_statue_sum  \\\n",
              "counter_number                                           \n",
              "-1229176                  0.000000                   0   \n",
              ".171032                   0.026316                   1   \n",
              ".6849735                  0.000000                   5   \n",
              ".6849788                  0.032258                   1   \n",
              ".6849788                  0.032258                   1   \n",
              "\n",
              "                consommation_level_1_min  consommation_level_1_mean  \\\n",
              "counter_number                                                        \n",
              "-1229176                              31                  52.500000   \n",
              ".171032                               27                 108.394737   \n",
              ".6849735                               0                   0.000000   \n",
              ".6849788                               0                 176.709677   \n",
              ".6849788                               0                 176.709677   \n",
              "\n",
              "                consommation_level_1_median  consommation_level_1_max  \\\n",
              "counter_number                                                          \n",
              "-1229176                               51.0                       106   \n",
              ".171032                               105.5                       185   \n",
              ".6849735                                0.0                         0   \n",
              ".6849788                               69.0                       835   \n",
              ".6849788                               69.0                       835   \n",
              "\n",
              "                consommation_level_1_std  cconsommation_level_1_var  \\\n",
              "counter_number                                                        \n",
              "-1229176                       11.054119                 122.193548   \n",
              ".171032                        33.434518                1117.866999   \n",
              ".6849735                        0.000000                   0.000000   \n",
              ".6849788                      231.790594               53726.879570   \n",
              ".6849788                      231.790594               53726.879570   \n",
              "\n",
              "                consommation_level_1_sum  consommation_level_2_min  \\\n",
              "counter_number                                                       \n",
              "-1229176                            1680                         0   \n",
              ".171032                             4119                         0   \n",
              ".6849735                               0                         0   \n",
              ".6849788                            5478                         0   \n",
              ".6849788                            5478                         0   \n",
              "\n",
              "                consommation_level_2_mean  consommation_level_2_median  \\\n",
              "counter_number                                                           \n",
              "-1229176                              0.0                          0.0   \n",
              ".171032                               0.0                          0.0   \n",
              ".6849735                              0.0                          0.0   \n",
              ".6849788                              0.0                          0.0   \n",
              ".6849788                              0.0                          0.0   \n",
              "\n",
              "                cconsommation_level_2_max  consommation_level_2_std  \\\n",
              "counter_number                                                        \n",
              "-1229176                                0                       0.0   \n",
              ".171032                                 0                       0.0   \n",
              ".6849735                                0                       0.0   \n",
              ".6849788                                0                       0.0   \n",
              ".6849788                                0                       0.0   \n",
              "\n",
              "                consommation_level_2_var  consommation_level_2_sum  \\\n",
              "counter_number                                                       \n",
              "-1229176                             0.0                         0   \n",
              ".171032                              0.0                         0   \n",
              ".6849735                             0.0                         0   \n",
              ".6849788                             0.0                         0   \n",
              ".6849788                             0.0                         0   \n",
              "\n",
              "                consommation_level_3_min  consommation_level_3_mean  \\\n",
              "counter_number                                                        \n",
              "-1229176                               0                        0.0   \n",
              ".171032                                0                        0.0   \n",
              ".6849735                               0                        0.0   \n",
              ".6849788                               0                        0.0   \n",
              ".6849788                               0                        0.0   \n",
              "\n",
              "                consommation_level_3_median  consommation_level_3_max  \\\n",
              "counter_number                                                          \n",
              "-1229176                                0.0                         0   \n",
              ".171032                                 0.0                         0   \n",
              ".6849735                                0.0                         0   \n",
              ".6849788                                0.0                         0   \n",
              ".6849788                                0.0                         0   \n",
              "\n",
              "                consommation_level_3_std  consommation_level_3_var  \\\n",
              "counter_number                                                       \n",
              "-1229176                             0.0                       0.0   \n",
              ".171032                              0.0                       0.0   \n",
              ".6849735                             0.0                       0.0   \n",
              ".6849788                             0.0                       0.0   \n",
              ".6849788                             0.0                       0.0   \n",
              "\n",
              "                consommation_level_3_sum  consommation_level_4_min  \\\n",
              "counter_number                                                       \n",
              "-1229176                               0                         0   \n",
              ".171032                                0                         0   \n",
              ".6849735                               0                         0   \n",
              ".6849788                               0                         0   \n",
              ".6849788                               0                         0   \n",
              "\n",
              "                consommation_level_4_mean  consommation_level_4_median  \\\n",
              "counter_number                                                           \n",
              "-1229176                              0.0                          0.0   \n",
              ".171032                               0.0                          0.0   \n",
              ".6849735                              0.0                          0.0   \n",
              ".6849788                              0.0                          0.0   \n",
              ".6849788                              0.0                          0.0   \n",
              "\n",
              "                consommation_level_4_max  consommation_level_4_std  \\\n",
              "counter_number                                                       \n",
              "-1229176                               0                       0.0   \n",
              ".171032                                0                       0.0   \n",
              ".6849735                               0                       0.0   \n",
              ".6849788                               0                       0.0   \n",
              ".6849788                               0                       0.0   \n",
              "\n",
              "                consommation_level_4_var  consommation_level_4_sum  \\\n",
              "counter_number                                                       \n",
              "-1229176                             0.0                         0   \n",
              ".171032                              0.0                         0   \n",
              ".6849735                             0.0                         0   \n",
              ".6849788                             0.0                         0   \n",
              ".6849788                             0.0                         0   \n",
              "\n",
              "                cmonths_number_min  months_number_mean  months_number_median  \\\n",
              "counter_number                                                                 \n",
              "-1229176                         4            4.125000                   4.0   \n",
              ".171032                          2            3.947368                   4.0   \n",
              ".6849735                         2            2.000000                   2.0   \n",
              ".6849788                         2            4.000000                   4.0   \n",
              ".6849788                         2            4.000000                   4.0   \n",
              "\n",
              "                months_number_max  months_number_std  months_number_var  \\\n",
              "counter_number                                                            \n",
              "-1229176                        8           0.707107           0.500000   \n",
              ".171032                         4           0.324443           0.105263   \n",
              ".6849735                        2           0.000000           0.000000   \n",
              ".6849788                        8           1.549193           2.400000   \n",
              ".6849788                        8           1.549193           2.400000   \n",
              "\n",
              "                months_number_sum  counter_type_min  counter_type_mean  \\\n",
              "counter_number                                                           \n",
              "-1229176                      132                 0                0.0   \n",
              ".171032                       150                 1                1.0   \n",
              ".6849735                        2                 1                1.0   \n",
              ".6849788                      124                 1                1.0   \n",
              ".6849788                      124                 1                1.0   \n",
              "\n",
              "                counter_type_median  counter_type_max  counter_type_std  \\\n",
              "counter_number                                                            \n",
              "-1229176                        0.0                 0               0.0   \n",
              ".171032                         1.0                 1               0.0   \n",
              ".6849735                        1.0                 1               0.0   \n",
              ".6849788                        1.0                 1               0.0   \n",
              ".6849788                        1.0                 1               0.0   \n",
              "\n",
              "                counter_type_var  counter_type_sum  consumption_min  \\\n",
              "counter_number                                                        \n",
              "-1229176                     0.0                 0               31   \n",
              ".171032                      0.0                38               27   \n",
              ".6849735                     0.0                 1                0   \n",
              ".6849788                     0.0                31                0   \n",
              ".6849788                     0.0                31                0   \n",
              "\n",
              "                consumption_mean  consumption_median  consumption_max  \\\n",
              "counter_number                                                          \n",
              "-1229176               52.500000                51.0              106   \n",
              ".171032               108.394737               105.5              185   \n",
              ".6849735                0.000000                 0.0                0   \n",
              ".6849788              176.709677                69.0              835   \n",
              ".6849788              176.709677                69.0              835   \n",
              "\n",
              "                consumption_std  consumption_var  consumption_sum  year_min  \\\n",
              "counter_number                                                                \n",
              "-1229176              11.054119       122.193548             1680      2008   \n",
              ".171032               33.434518      1117.866999             4119      2007   \n",
              ".6849735               0.000000         0.000000                0      2007   \n",
              ".6849788             231.790594     53726.879570             5478      2007   \n",
              ".6849788             231.790594     53726.879570             5478      2007   \n",
              "\n",
              "                  year_mean  year_median  year_max  year_std   year_var  \\\n",
              "counter_number                                                            \n",
              "-1229176        2013.593750       2013.5      2019  3.271178  10.700605   \n",
              ".171032         2012.842105       2013.0      2019  3.709202  13.758179   \n",
              ".6849735        2007.000000       2007.0      2007  0.000000   0.000000   \n",
              ".6849788        2012.064516       2012.0      2019  3.577108  12.795699   \n",
              ".6849788        2012.064516       2012.0      2019  3.577108  12.795699   \n",
              "\n",
              "                year_sum  month_min  month_mean  month_median  month_max  \\\n",
              "counter_number                                                             \n",
              "-1229176           64435          3    7.000000           7.0         11   \n",
              ".171032            76488          1    6.000000           6.0         12   \n",
              ".6849735            2007          3    3.000000           3.0          3   \n",
              ".6849788           62374          1    4.806452           3.0         11   \n",
              ".6849788           62374          1    4.806452           3.0         11   \n",
              "\n",
              "                month_std  month_var  month_sum  target  \n",
              "counter_number                                           \n",
              "-1229176         3.369694  11.354839        224       0  \n",
              ".171032          3.479671  12.108108        228       0  \n",
              ".6849735         0.000000   0.000000          3       0  \n",
              ".6849788         3.380526  11.427957        149       0  \n",
              ".6849788         3.380526  11.427957        149       0  "
            ]
          },
          "metadata": {
            "tags": []
          },
          "execution_count": 158
        }
      ]
    },
    {
      "cell_type": "code",
      "metadata": {
        "id": "IV1n6hPuTS1d",
        "colab_type": "code",
        "outputId": "57d6234b-a6a9-4925-bda6-79075e9b2f15",
        "colab": {
          "base_uri": "https://localhost:8080/",
          "height": 912,
          "referenced_widgets": [
            "67b2c6b745464ba0b00f9eb657eaf800",
            "4cd93f457d414e90aba9def878a00e97",
            "2147109eddea48968564fb4c3c350574",
            "11d5f498d03d42e3878410fe3e76d3e1",
            "ee0bc513d5364cb99f727f2486f21686",
            "f3867845615d4919818203d74cd43a01"
          ]
        }
      },
      "source": [
        "#import classification module\n",
        "from pycaret.classification import *\n",
        "#intialize the setup\n",
        "exp_clf = setup(df, target = 'target')"
      ],
      "execution_count": 0,
      "outputs": [
        {
          "output_type": "stream",
          "text": [
            " \n",
            "Setup Succesfully Completed!\n"
          ],
          "name": "stdout"
        },
        {
          "output_type": "display_data",
          "data": {
            "text/html": [
              "<style  type=\"text/css\" >\n",
              "</style><table id=\"T_e0eaddf8_a8d2_11ea_8f9e_0242ac1c0002\" ><thead>    <tr>        <th class=\"blank level0\" ></th>        <th class=\"col_heading level0 col0\" >Description</th>        <th class=\"col_heading level0 col1\" >Value</th>    </tr></thead><tbody>\n",
              "                <tr>\n",
              "                        <th id=\"T_e0eaddf8_a8d2_11ea_8f9e_0242ac1c0002level0_row0\" class=\"row_heading level0 row0\" >0</th>\n",
              "                        <td id=\"T_e0eaddf8_a8d2_11ea_8f9e_0242ac1c0002row0_col0\" class=\"data row0 col0\" >session_id</td>\n",
              "                        <td id=\"T_e0eaddf8_a8d2_11ea_8f9e_0242ac1c0002row0_col1\" class=\"data row0 col1\" >2978</td>\n",
              "            </tr>\n",
              "            <tr>\n",
              "                        <th id=\"T_e0eaddf8_a8d2_11ea_8f9e_0242ac1c0002level0_row1\" class=\"row_heading level0 row1\" >1</th>\n",
              "                        <td id=\"T_e0eaddf8_a8d2_11ea_8f9e_0242ac1c0002row1_col0\" class=\"data row1 col0\" >Target Type</td>\n",
              "                        <td id=\"T_e0eaddf8_a8d2_11ea_8f9e_0242ac1c0002row1_col1\" class=\"data row1 col1\" >Binary</td>\n",
              "            </tr>\n",
              "            <tr>\n",
              "                        <th id=\"T_e0eaddf8_a8d2_11ea_8f9e_0242ac1c0002level0_row2\" class=\"row_heading level0 row2\" >2</th>\n",
              "                        <td id=\"T_e0eaddf8_a8d2_11ea_8f9e_0242ac1c0002row2_col0\" class=\"data row2 col0\" >Label Encoded</td>\n",
              "                        <td id=\"T_e0eaddf8_a8d2_11ea_8f9e_0242ac1c0002row2_col1\" class=\"data row2 col1\" >None</td>\n",
              "            </tr>\n",
              "            <tr>\n",
              "                        <th id=\"T_e0eaddf8_a8d2_11ea_8f9e_0242ac1c0002level0_row3\" class=\"row_heading level0 row3\" >3</th>\n",
              "                        <td id=\"T_e0eaddf8_a8d2_11ea_8f9e_0242ac1c0002row3_col0\" class=\"data row3 col0\" >Original Data</td>\n",
              "                        <td id=\"T_e0eaddf8_a8d2_11ea_8f9e_0242ac1c0002row3_col1\" class=\"data row3 col1\" >(71500, 72)</td>\n",
              "            </tr>\n",
              "            <tr>\n",
              "                        <th id=\"T_e0eaddf8_a8d2_11ea_8f9e_0242ac1c0002level0_row4\" class=\"row_heading level0 row4\" >4</th>\n",
              "                        <td id=\"T_e0eaddf8_a8d2_11ea_8f9e_0242ac1c0002row4_col0\" class=\"data row4 col0\" >Missing Values </td>\n",
              "                        <td id=\"T_e0eaddf8_a8d2_11ea_8f9e_0242ac1c0002row4_col1\" class=\"data row4 col1\" >False</td>\n",
              "            </tr>\n",
              "            <tr>\n",
              "                        <th id=\"T_e0eaddf8_a8d2_11ea_8f9e_0242ac1c0002level0_row5\" class=\"row_heading level0 row5\" >5</th>\n",
              "                        <td id=\"T_e0eaddf8_a8d2_11ea_8f9e_0242ac1c0002row5_col0\" class=\"data row5 col0\" >Numeric Features </td>\n",
              "                        <td id=\"T_e0eaddf8_a8d2_11ea_8f9e_0242ac1c0002row5_col1\" class=\"data row5 col1\" >63</td>\n",
              "            </tr>\n",
              "            <tr>\n",
              "                        <th id=\"T_e0eaddf8_a8d2_11ea_8f9e_0242ac1c0002level0_row6\" class=\"row_heading level0 row6\" >6</th>\n",
              "                        <td id=\"T_e0eaddf8_a8d2_11ea_8f9e_0242ac1c0002row6_col0\" class=\"data row6 col0\" >Categorical Features </td>\n",
              "                        <td id=\"T_e0eaddf8_a8d2_11ea_8f9e_0242ac1c0002row6_col1\" class=\"data row6 col1\" >8</td>\n",
              "            </tr>\n",
              "            <tr>\n",
              "                        <th id=\"T_e0eaddf8_a8d2_11ea_8f9e_0242ac1c0002level0_row7\" class=\"row_heading level0 row7\" >7</th>\n",
              "                        <td id=\"T_e0eaddf8_a8d2_11ea_8f9e_0242ac1c0002row7_col0\" class=\"data row7 col0\" >Ordinal Features </td>\n",
              "                        <td id=\"T_e0eaddf8_a8d2_11ea_8f9e_0242ac1c0002row7_col1\" class=\"data row7 col1\" >False</td>\n",
              "            </tr>\n",
              "            <tr>\n",
              "                        <th id=\"T_e0eaddf8_a8d2_11ea_8f9e_0242ac1c0002level0_row8\" class=\"row_heading level0 row8\" >8</th>\n",
              "                        <td id=\"T_e0eaddf8_a8d2_11ea_8f9e_0242ac1c0002row8_col0\" class=\"data row8 col0\" >High Cardinality Features </td>\n",
              "                        <td id=\"T_e0eaddf8_a8d2_11ea_8f9e_0242ac1c0002row8_col1\" class=\"data row8 col1\" >False</td>\n",
              "            </tr>\n",
              "            <tr>\n",
              "                        <th id=\"T_e0eaddf8_a8d2_11ea_8f9e_0242ac1c0002level0_row9\" class=\"row_heading level0 row9\" >9</th>\n",
              "                        <td id=\"T_e0eaddf8_a8d2_11ea_8f9e_0242ac1c0002row9_col0\" class=\"data row9 col0\" >High Cardinality Method </td>\n",
              "                        <td id=\"T_e0eaddf8_a8d2_11ea_8f9e_0242ac1c0002row9_col1\" class=\"data row9 col1\" >None</td>\n",
              "            </tr>\n",
              "            <tr>\n",
              "                        <th id=\"T_e0eaddf8_a8d2_11ea_8f9e_0242ac1c0002level0_row10\" class=\"row_heading level0 row10\" >10</th>\n",
              "                        <td id=\"T_e0eaddf8_a8d2_11ea_8f9e_0242ac1c0002row10_col0\" class=\"data row10 col0\" >Sampled Data</td>\n",
              "                        <td id=\"T_e0eaddf8_a8d2_11ea_8f9e_0242ac1c0002row10_col1\" class=\"data row10 col1\" >(71500, 72)</td>\n",
              "            </tr>\n",
              "            <tr>\n",
              "                        <th id=\"T_e0eaddf8_a8d2_11ea_8f9e_0242ac1c0002level0_row11\" class=\"row_heading level0 row11\" >11</th>\n",
              "                        <td id=\"T_e0eaddf8_a8d2_11ea_8f9e_0242ac1c0002row11_col0\" class=\"data row11 col0\" >Transformed Train Set</td>\n",
              "                        <td id=\"T_e0eaddf8_a8d2_11ea_8f9e_0242ac1c0002row11_col1\" class=\"data row11 col1\" >(50049, 115)</td>\n",
              "            </tr>\n",
              "            <tr>\n",
              "                        <th id=\"T_e0eaddf8_a8d2_11ea_8f9e_0242ac1c0002level0_row12\" class=\"row_heading level0 row12\" >12</th>\n",
              "                        <td id=\"T_e0eaddf8_a8d2_11ea_8f9e_0242ac1c0002row12_col0\" class=\"data row12 col0\" >Transformed Test Set</td>\n",
              "                        <td id=\"T_e0eaddf8_a8d2_11ea_8f9e_0242ac1c0002row12_col1\" class=\"data row12 col1\" >(21451, 115)</td>\n",
              "            </tr>\n",
              "            <tr>\n",
              "                        <th id=\"T_e0eaddf8_a8d2_11ea_8f9e_0242ac1c0002level0_row13\" class=\"row_heading level0 row13\" >13</th>\n",
              "                        <td id=\"T_e0eaddf8_a8d2_11ea_8f9e_0242ac1c0002row13_col0\" class=\"data row13 col0\" >Numeric Imputer </td>\n",
              "                        <td id=\"T_e0eaddf8_a8d2_11ea_8f9e_0242ac1c0002row13_col1\" class=\"data row13 col1\" >mean</td>\n",
              "            </tr>\n",
              "            <tr>\n",
              "                        <th id=\"T_e0eaddf8_a8d2_11ea_8f9e_0242ac1c0002level0_row14\" class=\"row_heading level0 row14\" >14</th>\n",
              "                        <td id=\"T_e0eaddf8_a8d2_11ea_8f9e_0242ac1c0002row14_col0\" class=\"data row14 col0\" >Categorical Imputer </td>\n",
              "                        <td id=\"T_e0eaddf8_a8d2_11ea_8f9e_0242ac1c0002row14_col1\" class=\"data row14 col1\" >constant</td>\n",
              "            </tr>\n",
              "            <tr>\n",
              "                        <th id=\"T_e0eaddf8_a8d2_11ea_8f9e_0242ac1c0002level0_row15\" class=\"row_heading level0 row15\" >15</th>\n",
              "                        <td id=\"T_e0eaddf8_a8d2_11ea_8f9e_0242ac1c0002row15_col0\" class=\"data row15 col0\" >Normalize </td>\n",
              "                        <td id=\"T_e0eaddf8_a8d2_11ea_8f9e_0242ac1c0002row15_col1\" class=\"data row15 col1\" >False</td>\n",
              "            </tr>\n",
              "            <tr>\n",
              "                        <th id=\"T_e0eaddf8_a8d2_11ea_8f9e_0242ac1c0002level0_row16\" class=\"row_heading level0 row16\" >16</th>\n",
              "                        <td id=\"T_e0eaddf8_a8d2_11ea_8f9e_0242ac1c0002row16_col0\" class=\"data row16 col0\" >Normalize Method </td>\n",
              "                        <td id=\"T_e0eaddf8_a8d2_11ea_8f9e_0242ac1c0002row16_col1\" class=\"data row16 col1\" >None</td>\n",
              "            </tr>\n",
              "            <tr>\n",
              "                        <th id=\"T_e0eaddf8_a8d2_11ea_8f9e_0242ac1c0002level0_row17\" class=\"row_heading level0 row17\" >17</th>\n",
              "                        <td id=\"T_e0eaddf8_a8d2_11ea_8f9e_0242ac1c0002row17_col0\" class=\"data row17 col0\" >Transformation </td>\n",
              "                        <td id=\"T_e0eaddf8_a8d2_11ea_8f9e_0242ac1c0002row17_col1\" class=\"data row17 col1\" >False</td>\n",
              "            </tr>\n",
              "            <tr>\n",
              "                        <th id=\"T_e0eaddf8_a8d2_11ea_8f9e_0242ac1c0002level0_row18\" class=\"row_heading level0 row18\" >18</th>\n",
              "                        <td id=\"T_e0eaddf8_a8d2_11ea_8f9e_0242ac1c0002row18_col0\" class=\"data row18 col0\" >Transformation Method </td>\n",
              "                        <td id=\"T_e0eaddf8_a8d2_11ea_8f9e_0242ac1c0002row18_col1\" class=\"data row18 col1\" >None</td>\n",
              "            </tr>\n",
              "            <tr>\n",
              "                        <th id=\"T_e0eaddf8_a8d2_11ea_8f9e_0242ac1c0002level0_row19\" class=\"row_heading level0 row19\" >19</th>\n",
              "                        <td id=\"T_e0eaddf8_a8d2_11ea_8f9e_0242ac1c0002row19_col0\" class=\"data row19 col0\" >PCA </td>\n",
              "                        <td id=\"T_e0eaddf8_a8d2_11ea_8f9e_0242ac1c0002row19_col1\" class=\"data row19 col1\" >False</td>\n",
              "            </tr>\n",
              "            <tr>\n",
              "                        <th id=\"T_e0eaddf8_a8d2_11ea_8f9e_0242ac1c0002level0_row20\" class=\"row_heading level0 row20\" >20</th>\n",
              "                        <td id=\"T_e0eaddf8_a8d2_11ea_8f9e_0242ac1c0002row20_col0\" class=\"data row20 col0\" >PCA Method </td>\n",
              "                        <td id=\"T_e0eaddf8_a8d2_11ea_8f9e_0242ac1c0002row20_col1\" class=\"data row20 col1\" >None</td>\n",
              "            </tr>\n",
              "            <tr>\n",
              "                        <th id=\"T_e0eaddf8_a8d2_11ea_8f9e_0242ac1c0002level0_row21\" class=\"row_heading level0 row21\" >21</th>\n",
              "                        <td id=\"T_e0eaddf8_a8d2_11ea_8f9e_0242ac1c0002row21_col0\" class=\"data row21 col0\" >PCA Components </td>\n",
              "                        <td id=\"T_e0eaddf8_a8d2_11ea_8f9e_0242ac1c0002row21_col1\" class=\"data row21 col1\" >None</td>\n",
              "            </tr>\n",
              "            <tr>\n",
              "                        <th id=\"T_e0eaddf8_a8d2_11ea_8f9e_0242ac1c0002level0_row22\" class=\"row_heading level0 row22\" >22</th>\n",
              "                        <td id=\"T_e0eaddf8_a8d2_11ea_8f9e_0242ac1c0002row22_col0\" class=\"data row22 col0\" >Ignore Low Variance </td>\n",
              "                        <td id=\"T_e0eaddf8_a8d2_11ea_8f9e_0242ac1c0002row22_col1\" class=\"data row22 col1\" >False</td>\n",
              "            </tr>\n",
              "            <tr>\n",
              "                        <th id=\"T_e0eaddf8_a8d2_11ea_8f9e_0242ac1c0002level0_row23\" class=\"row_heading level0 row23\" >23</th>\n",
              "                        <td id=\"T_e0eaddf8_a8d2_11ea_8f9e_0242ac1c0002row23_col0\" class=\"data row23 col0\" >Combine Rare Levels </td>\n",
              "                        <td id=\"T_e0eaddf8_a8d2_11ea_8f9e_0242ac1c0002row23_col1\" class=\"data row23 col1\" >False</td>\n",
              "            </tr>\n",
              "            <tr>\n",
              "                        <th id=\"T_e0eaddf8_a8d2_11ea_8f9e_0242ac1c0002level0_row24\" class=\"row_heading level0 row24\" >24</th>\n",
              "                        <td id=\"T_e0eaddf8_a8d2_11ea_8f9e_0242ac1c0002row24_col0\" class=\"data row24 col0\" >Rare Level Threshold </td>\n",
              "                        <td id=\"T_e0eaddf8_a8d2_11ea_8f9e_0242ac1c0002row24_col1\" class=\"data row24 col1\" >None</td>\n",
              "            </tr>\n",
              "            <tr>\n",
              "                        <th id=\"T_e0eaddf8_a8d2_11ea_8f9e_0242ac1c0002level0_row25\" class=\"row_heading level0 row25\" >25</th>\n",
              "                        <td id=\"T_e0eaddf8_a8d2_11ea_8f9e_0242ac1c0002row25_col0\" class=\"data row25 col0\" >Numeric Binning </td>\n",
              "                        <td id=\"T_e0eaddf8_a8d2_11ea_8f9e_0242ac1c0002row25_col1\" class=\"data row25 col1\" >False</td>\n",
              "            </tr>\n",
              "            <tr>\n",
              "                        <th id=\"T_e0eaddf8_a8d2_11ea_8f9e_0242ac1c0002level0_row26\" class=\"row_heading level0 row26\" >26</th>\n",
              "                        <td id=\"T_e0eaddf8_a8d2_11ea_8f9e_0242ac1c0002row26_col0\" class=\"data row26 col0\" >Remove Outliers </td>\n",
              "                        <td id=\"T_e0eaddf8_a8d2_11ea_8f9e_0242ac1c0002row26_col1\" class=\"data row26 col1\" >False</td>\n",
              "            </tr>\n",
              "            <tr>\n",
              "                        <th id=\"T_e0eaddf8_a8d2_11ea_8f9e_0242ac1c0002level0_row27\" class=\"row_heading level0 row27\" >27</th>\n",
              "                        <td id=\"T_e0eaddf8_a8d2_11ea_8f9e_0242ac1c0002row27_col0\" class=\"data row27 col0\" >Outliers Threshold </td>\n",
              "                        <td id=\"T_e0eaddf8_a8d2_11ea_8f9e_0242ac1c0002row27_col1\" class=\"data row27 col1\" >None</td>\n",
              "            </tr>\n",
              "            <tr>\n",
              "                        <th id=\"T_e0eaddf8_a8d2_11ea_8f9e_0242ac1c0002level0_row28\" class=\"row_heading level0 row28\" >28</th>\n",
              "                        <td id=\"T_e0eaddf8_a8d2_11ea_8f9e_0242ac1c0002row28_col0\" class=\"data row28 col0\" >Remove Multicollinearity </td>\n",
              "                        <td id=\"T_e0eaddf8_a8d2_11ea_8f9e_0242ac1c0002row28_col1\" class=\"data row28 col1\" >False</td>\n",
              "            </tr>\n",
              "            <tr>\n",
              "                        <th id=\"T_e0eaddf8_a8d2_11ea_8f9e_0242ac1c0002level0_row29\" class=\"row_heading level0 row29\" >29</th>\n",
              "                        <td id=\"T_e0eaddf8_a8d2_11ea_8f9e_0242ac1c0002row29_col0\" class=\"data row29 col0\" >Multicollinearity Threshold </td>\n",
              "                        <td id=\"T_e0eaddf8_a8d2_11ea_8f9e_0242ac1c0002row29_col1\" class=\"data row29 col1\" >None</td>\n",
              "            </tr>\n",
              "            <tr>\n",
              "                        <th id=\"T_e0eaddf8_a8d2_11ea_8f9e_0242ac1c0002level0_row30\" class=\"row_heading level0 row30\" >30</th>\n",
              "                        <td id=\"T_e0eaddf8_a8d2_11ea_8f9e_0242ac1c0002row30_col0\" class=\"data row30 col0\" >Clustering </td>\n",
              "                        <td id=\"T_e0eaddf8_a8d2_11ea_8f9e_0242ac1c0002row30_col1\" class=\"data row30 col1\" >False</td>\n",
              "            </tr>\n",
              "            <tr>\n",
              "                        <th id=\"T_e0eaddf8_a8d2_11ea_8f9e_0242ac1c0002level0_row31\" class=\"row_heading level0 row31\" >31</th>\n",
              "                        <td id=\"T_e0eaddf8_a8d2_11ea_8f9e_0242ac1c0002row31_col0\" class=\"data row31 col0\" >Clustering Iteration </td>\n",
              "                        <td id=\"T_e0eaddf8_a8d2_11ea_8f9e_0242ac1c0002row31_col1\" class=\"data row31 col1\" >None</td>\n",
              "            </tr>\n",
              "            <tr>\n",
              "                        <th id=\"T_e0eaddf8_a8d2_11ea_8f9e_0242ac1c0002level0_row32\" class=\"row_heading level0 row32\" >32</th>\n",
              "                        <td id=\"T_e0eaddf8_a8d2_11ea_8f9e_0242ac1c0002row32_col0\" class=\"data row32 col0\" >Polynomial Features </td>\n",
              "                        <td id=\"T_e0eaddf8_a8d2_11ea_8f9e_0242ac1c0002row32_col1\" class=\"data row32 col1\" >False</td>\n",
              "            </tr>\n",
              "            <tr>\n",
              "                        <th id=\"T_e0eaddf8_a8d2_11ea_8f9e_0242ac1c0002level0_row33\" class=\"row_heading level0 row33\" >33</th>\n",
              "                        <td id=\"T_e0eaddf8_a8d2_11ea_8f9e_0242ac1c0002row33_col0\" class=\"data row33 col0\" >Polynomial Degree </td>\n",
              "                        <td id=\"T_e0eaddf8_a8d2_11ea_8f9e_0242ac1c0002row33_col1\" class=\"data row33 col1\" >None</td>\n",
              "            </tr>\n",
              "            <tr>\n",
              "                        <th id=\"T_e0eaddf8_a8d2_11ea_8f9e_0242ac1c0002level0_row34\" class=\"row_heading level0 row34\" >34</th>\n",
              "                        <td id=\"T_e0eaddf8_a8d2_11ea_8f9e_0242ac1c0002row34_col0\" class=\"data row34 col0\" >Trignometry Features </td>\n",
              "                        <td id=\"T_e0eaddf8_a8d2_11ea_8f9e_0242ac1c0002row34_col1\" class=\"data row34 col1\" >False</td>\n",
              "            </tr>\n",
              "            <tr>\n",
              "                        <th id=\"T_e0eaddf8_a8d2_11ea_8f9e_0242ac1c0002level0_row35\" class=\"row_heading level0 row35\" >35</th>\n",
              "                        <td id=\"T_e0eaddf8_a8d2_11ea_8f9e_0242ac1c0002row35_col0\" class=\"data row35 col0\" >Polynomial Threshold </td>\n",
              "                        <td id=\"T_e0eaddf8_a8d2_11ea_8f9e_0242ac1c0002row35_col1\" class=\"data row35 col1\" >None</td>\n",
              "            </tr>\n",
              "            <tr>\n",
              "                        <th id=\"T_e0eaddf8_a8d2_11ea_8f9e_0242ac1c0002level0_row36\" class=\"row_heading level0 row36\" >36</th>\n",
              "                        <td id=\"T_e0eaddf8_a8d2_11ea_8f9e_0242ac1c0002row36_col0\" class=\"data row36 col0\" >Group Features </td>\n",
              "                        <td id=\"T_e0eaddf8_a8d2_11ea_8f9e_0242ac1c0002row36_col1\" class=\"data row36 col1\" >False</td>\n",
              "            </tr>\n",
              "            <tr>\n",
              "                        <th id=\"T_e0eaddf8_a8d2_11ea_8f9e_0242ac1c0002level0_row37\" class=\"row_heading level0 row37\" >37</th>\n",
              "                        <td id=\"T_e0eaddf8_a8d2_11ea_8f9e_0242ac1c0002row37_col0\" class=\"data row37 col0\" >Feature Selection </td>\n",
              "                        <td id=\"T_e0eaddf8_a8d2_11ea_8f9e_0242ac1c0002row37_col1\" class=\"data row37 col1\" >False</td>\n",
              "            </tr>\n",
              "            <tr>\n",
              "                        <th id=\"T_e0eaddf8_a8d2_11ea_8f9e_0242ac1c0002level0_row38\" class=\"row_heading level0 row38\" >38</th>\n",
              "                        <td id=\"T_e0eaddf8_a8d2_11ea_8f9e_0242ac1c0002row38_col0\" class=\"data row38 col0\" >Features Selection Threshold </td>\n",
              "                        <td id=\"T_e0eaddf8_a8d2_11ea_8f9e_0242ac1c0002row38_col1\" class=\"data row38 col1\" >None</td>\n",
              "            </tr>\n",
              "            <tr>\n",
              "                        <th id=\"T_e0eaddf8_a8d2_11ea_8f9e_0242ac1c0002level0_row39\" class=\"row_heading level0 row39\" >39</th>\n",
              "                        <td id=\"T_e0eaddf8_a8d2_11ea_8f9e_0242ac1c0002row39_col0\" class=\"data row39 col0\" >Feature Interaction </td>\n",
              "                        <td id=\"T_e0eaddf8_a8d2_11ea_8f9e_0242ac1c0002row39_col1\" class=\"data row39 col1\" >False</td>\n",
              "            </tr>\n",
              "            <tr>\n",
              "                        <th id=\"T_e0eaddf8_a8d2_11ea_8f9e_0242ac1c0002level0_row40\" class=\"row_heading level0 row40\" >40</th>\n",
              "                        <td id=\"T_e0eaddf8_a8d2_11ea_8f9e_0242ac1c0002row40_col0\" class=\"data row40 col0\" >Feature Ratio </td>\n",
              "                        <td id=\"T_e0eaddf8_a8d2_11ea_8f9e_0242ac1c0002row40_col1\" class=\"data row40 col1\" >False</td>\n",
              "            </tr>\n",
              "            <tr>\n",
              "                        <th id=\"T_e0eaddf8_a8d2_11ea_8f9e_0242ac1c0002level0_row41\" class=\"row_heading level0 row41\" >41</th>\n",
              "                        <td id=\"T_e0eaddf8_a8d2_11ea_8f9e_0242ac1c0002row41_col0\" class=\"data row41 col0\" >Interaction Threshold </td>\n",
              "                        <td id=\"T_e0eaddf8_a8d2_11ea_8f9e_0242ac1c0002row41_col1\" class=\"data row41 col1\" >None</td>\n",
              "            </tr>\n",
              "    </tbody></table>"
            ],
            "text/plain": [
              "<pandas.io.formats.style.Styler at 0x7f436671ec50>"
            ]
          },
          "metadata": {
            "tags": []
          }
        }
      ]
    },
    {
      "cell_type": "markdown",
      "metadata": {
        "id": "gXRO_z7ooJFB",
        "colab_type": "text"
      },
      "source": [
        "We used default parameters of the setup function"
      ]
    },
    {
      "cell_type": "code",
      "metadata": {
        "id": "JD4AH4i7ItY3",
        "colab_type": "code",
        "outputId": "ad5b28ad-18ac-453d-cd49-d006d8568747",
        "colab": {
          "base_uri": "https://localhost:8080/",
          "height": 338,
          "referenced_widgets": [
            "9a44089beb42497ab6a92c123e33478f",
            "912c077381544e47a353ec6fe824cf0d",
            "0ff4b1b70d43446285769a8e9d3eee19"
          ]
        }
      },
      "source": [
        "#Compare Models\n",
        "compare_models()"
      ],
      "execution_count": 0,
      "outputs": [
        {
          "output_type": "execute_result",
          "data": {
            "text/html": [
              "<style  type=\"text/css\" >\n",
              "    #T_cfe1a642_a8d5_11ea_8f9e_0242ac1c0002 th {\n",
              "          text-align: left;\n",
              "    }    #T_cfe1a642_a8d5_11ea_8f9e_0242ac1c0002row0_col0 {\n",
              "            text-align:  left;\n",
              "        }    #T_cfe1a642_a8d5_11ea_8f9e_0242ac1c0002row0_col1 {\n",
              "            background-color:  yellow;\n",
              "            text-align:  left;\n",
              "        }    #T_cfe1a642_a8d5_11ea_8f9e_0242ac1c0002row0_col2 {\n",
              "            : ;\n",
              "            text-align:  left;\n",
              "        }    #T_cfe1a642_a8d5_11ea_8f9e_0242ac1c0002row0_col3 {\n",
              "            : ;\n",
              "            text-align:  left;\n",
              "        }    #T_cfe1a642_a8d5_11ea_8f9e_0242ac1c0002row0_col4 {\n",
              "            : ;\n",
              "            text-align:  left;\n",
              "        }    #T_cfe1a642_a8d5_11ea_8f9e_0242ac1c0002row0_col5 {\n",
              "            background-color:  yellow;\n",
              "            text-align:  left;\n",
              "        }    #T_cfe1a642_a8d5_11ea_8f9e_0242ac1c0002row0_col6 {\n",
              "            background-color:  yellow;\n",
              "            text-align:  left;\n",
              "        }    #T_cfe1a642_a8d5_11ea_8f9e_0242ac1c0002row1_col0 {\n",
              "            text-align:  left;\n",
              "        }    #T_cfe1a642_a8d5_11ea_8f9e_0242ac1c0002row1_col1 {\n",
              "            : ;\n",
              "            text-align:  left;\n",
              "        }    #T_cfe1a642_a8d5_11ea_8f9e_0242ac1c0002row1_col2 {\n",
              "            : ;\n",
              "            text-align:  left;\n",
              "        }    #T_cfe1a642_a8d5_11ea_8f9e_0242ac1c0002row1_col3 {\n",
              "            : ;\n",
              "            text-align:  left;\n",
              "        }    #T_cfe1a642_a8d5_11ea_8f9e_0242ac1c0002row1_col4 {\n",
              "            : ;\n",
              "            text-align:  left;\n",
              "        }    #T_cfe1a642_a8d5_11ea_8f9e_0242ac1c0002row1_col5 {\n",
              "            : ;\n",
              "            text-align:  left;\n",
              "        }    #T_cfe1a642_a8d5_11ea_8f9e_0242ac1c0002row1_col6 {\n",
              "            : ;\n",
              "            text-align:  left;\n",
              "        }    #T_cfe1a642_a8d5_11ea_8f9e_0242ac1c0002row2_col0 {\n",
              "            text-align:  left;\n",
              "        }    #T_cfe1a642_a8d5_11ea_8f9e_0242ac1c0002row2_col1 {\n",
              "            : ;\n",
              "            text-align:  left;\n",
              "        }    #T_cfe1a642_a8d5_11ea_8f9e_0242ac1c0002row2_col2 {\n",
              "            background-color:  yellow;\n",
              "            text-align:  left;\n",
              "        }    #T_cfe1a642_a8d5_11ea_8f9e_0242ac1c0002row2_col3 {\n",
              "            : ;\n",
              "            text-align:  left;\n",
              "        }    #T_cfe1a642_a8d5_11ea_8f9e_0242ac1c0002row2_col4 {\n",
              "            : ;\n",
              "            text-align:  left;\n",
              "        }    #T_cfe1a642_a8d5_11ea_8f9e_0242ac1c0002row2_col5 {\n",
              "            : ;\n",
              "            text-align:  left;\n",
              "        }    #T_cfe1a642_a8d5_11ea_8f9e_0242ac1c0002row2_col6 {\n",
              "            : ;\n",
              "            text-align:  left;\n",
              "        }    #T_cfe1a642_a8d5_11ea_8f9e_0242ac1c0002row3_col0 {\n",
              "            text-align:  left;\n",
              "        }    #T_cfe1a642_a8d5_11ea_8f9e_0242ac1c0002row3_col1 {\n",
              "            : ;\n",
              "            text-align:  left;\n",
              "        }    #T_cfe1a642_a8d5_11ea_8f9e_0242ac1c0002row3_col2 {\n",
              "            : ;\n",
              "            text-align:  left;\n",
              "        }    #T_cfe1a642_a8d5_11ea_8f9e_0242ac1c0002row3_col3 {\n",
              "            : ;\n",
              "            text-align:  left;\n",
              "        }    #T_cfe1a642_a8d5_11ea_8f9e_0242ac1c0002row3_col4 {\n",
              "            : ;\n",
              "            text-align:  left;\n",
              "        }    #T_cfe1a642_a8d5_11ea_8f9e_0242ac1c0002row3_col5 {\n",
              "            : ;\n",
              "            text-align:  left;\n",
              "        }    #T_cfe1a642_a8d5_11ea_8f9e_0242ac1c0002row3_col6 {\n",
              "            : ;\n",
              "            text-align:  left;\n",
              "        }    #T_cfe1a642_a8d5_11ea_8f9e_0242ac1c0002row4_col0 {\n",
              "            text-align:  left;\n",
              "        }    #T_cfe1a642_a8d5_11ea_8f9e_0242ac1c0002row4_col1 {\n",
              "            : ;\n",
              "            text-align:  left;\n",
              "        }    #T_cfe1a642_a8d5_11ea_8f9e_0242ac1c0002row4_col2 {\n",
              "            : ;\n",
              "            text-align:  left;\n",
              "        }    #T_cfe1a642_a8d5_11ea_8f9e_0242ac1c0002row4_col3 {\n",
              "            : ;\n",
              "            text-align:  left;\n",
              "        }    #T_cfe1a642_a8d5_11ea_8f9e_0242ac1c0002row4_col4 {\n",
              "            : ;\n",
              "            text-align:  left;\n",
              "        }    #T_cfe1a642_a8d5_11ea_8f9e_0242ac1c0002row4_col5 {\n",
              "            : ;\n",
              "            text-align:  left;\n",
              "        }    #T_cfe1a642_a8d5_11ea_8f9e_0242ac1c0002row4_col6 {\n",
              "            : ;\n",
              "            text-align:  left;\n",
              "        }    #T_cfe1a642_a8d5_11ea_8f9e_0242ac1c0002row5_col0 {\n",
              "            text-align:  left;\n",
              "        }    #T_cfe1a642_a8d5_11ea_8f9e_0242ac1c0002row5_col1 {\n",
              "            : ;\n",
              "            text-align:  left;\n",
              "        }    #T_cfe1a642_a8d5_11ea_8f9e_0242ac1c0002row5_col2 {\n",
              "            : ;\n",
              "            text-align:  left;\n",
              "        }    #T_cfe1a642_a8d5_11ea_8f9e_0242ac1c0002row5_col3 {\n",
              "            : ;\n",
              "            text-align:  left;\n",
              "        }    #T_cfe1a642_a8d5_11ea_8f9e_0242ac1c0002row5_col4 {\n",
              "            : ;\n",
              "            text-align:  left;\n",
              "        }    #T_cfe1a642_a8d5_11ea_8f9e_0242ac1c0002row5_col5 {\n",
              "            : ;\n",
              "            text-align:  left;\n",
              "        }    #T_cfe1a642_a8d5_11ea_8f9e_0242ac1c0002row5_col6 {\n",
              "            : ;\n",
              "            text-align:  left;\n",
              "        }    #T_cfe1a642_a8d5_11ea_8f9e_0242ac1c0002row6_col0 {\n",
              "            text-align:  left;\n",
              "        }    #T_cfe1a642_a8d5_11ea_8f9e_0242ac1c0002row6_col1 {\n",
              "            : ;\n",
              "            text-align:  left;\n",
              "        }    #T_cfe1a642_a8d5_11ea_8f9e_0242ac1c0002row6_col2 {\n",
              "            : ;\n",
              "            text-align:  left;\n",
              "        }    #T_cfe1a642_a8d5_11ea_8f9e_0242ac1c0002row6_col3 {\n",
              "            : ;\n",
              "            text-align:  left;\n",
              "        }    #T_cfe1a642_a8d5_11ea_8f9e_0242ac1c0002row6_col4 {\n",
              "            : ;\n",
              "            text-align:  left;\n",
              "        }    #T_cfe1a642_a8d5_11ea_8f9e_0242ac1c0002row6_col5 {\n",
              "            : ;\n",
              "            text-align:  left;\n",
              "        }    #T_cfe1a642_a8d5_11ea_8f9e_0242ac1c0002row6_col6 {\n",
              "            : ;\n",
              "            text-align:  left;\n",
              "        }    #T_cfe1a642_a8d5_11ea_8f9e_0242ac1c0002row7_col0 {\n",
              "            text-align:  left;\n",
              "        }    #T_cfe1a642_a8d5_11ea_8f9e_0242ac1c0002row7_col1 {\n",
              "            : ;\n",
              "            text-align:  left;\n",
              "        }    #T_cfe1a642_a8d5_11ea_8f9e_0242ac1c0002row7_col2 {\n",
              "            : ;\n",
              "            text-align:  left;\n",
              "        }    #T_cfe1a642_a8d5_11ea_8f9e_0242ac1c0002row7_col3 {\n",
              "            : ;\n",
              "            text-align:  left;\n",
              "        }    #T_cfe1a642_a8d5_11ea_8f9e_0242ac1c0002row7_col4 {\n",
              "            : ;\n",
              "            text-align:  left;\n",
              "        }    #T_cfe1a642_a8d5_11ea_8f9e_0242ac1c0002row7_col5 {\n",
              "            : ;\n",
              "            text-align:  left;\n",
              "        }    #T_cfe1a642_a8d5_11ea_8f9e_0242ac1c0002row7_col6 {\n",
              "            : ;\n",
              "            text-align:  left;\n",
              "        }    #T_cfe1a642_a8d5_11ea_8f9e_0242ac1c0002row8_col0 {\n",
              "            text-align:  left;\n",
              "        }    #T_cfe1a642_a8d5_11ea_8f9e_0242ac1c0002row8_col1 {\n",
              "            : ;\n",
              "            text-align:  left;\n",
              "        }    #T_cfe1a642_a8d5_11ea_8f9e_0242ac1c0002row8_col2 {\n",
              "            : ;\n",
              "            text-align:  left;\n",
              "        }    #T_cfe1a642_a8d5_11ea_8f9e_0242ac1c0002row8_col3 {\n",
              "            : ;\n",
              "            text-align:  left;\n",
              "        }    #T_cfe1a642_a8d5_11ea_8f9e_0242ac1c0002row8_col4 {\n",
              "            background-color:  yellow;\n",
              "            text-align:  left;\n",
              "        }    #T_cfe1a642_a8d5_11ea_8f9e_0242ac1c0002row8_col5 {\n",
              "            : ;\n",
              "            text-align:  left;\n",
              "        }    #T_cfe1a642_a8d5_11ea_8f9e_0242ac1c0002row8_col6 {\n",
              "            : ;\n",
              "            text-align:  left;\n",
              "        }    #T_cfe1a642_a8d5_11ea_8f9e_0242ac1c0002row9_col0 {\n",
              "            text-align:  left;\n",
              "        }    #T_cfe1a642_a8d5_11ea_8f9e_0242ac1c0002row9_col1 {\n",
              "            : ;\n",
              "            text-align:  left;\n",
              "        }    #T_cfe1a642_a8d5_11ea_8f9e_0242ac1c0002row9_col2 {\n",
              "            : ;\n",
              "            text-align:  left;\n",
              "        }    #T_cfe1a642_a8d5_11ea_8f9e_0242ac1c0002row9_col3 {\n",
              "            : ;\n",
              "            text-align:  left;\n",
              "        }    #T_cfe1a642_a8d5_11ea_8f9e_0242ac1c0002row9_col4 {\n",
              "            : ;\n",
              "            text-align:  left;\n",
              "        }    #T_cfe1a642_a8d5_11ea_8f9e_0242ac1c0002row9_col5 {\n",
              "            : ;\n",
              "            text-align:  left;\n",
              "        }    #T_cfe1a642_a8d5_11ea_8f9e_0242ac1c0002row9_col6 {\n",
              "            : ;\n",
              "            text-align:  left;\n",
              "        }    #T_cfe1a642_a8d5_11ea_8f9e_0242ac1c0002row10_col0 {\n",
              "            text-align:  left;\n",
              "        }    #T_cfe1a642_a8d5_11ea_8f9e_0242ac1c0002row10_col1 {\n",
              "            : ;\n",
              "            text-align:  left;\n",
              "        }    #T_cfe1a642_a8d5_11ea_8f9e_0242ac1c0002row10_col2 {\n",
              "            : ;\n",
              "            text-align:  left;\n",
              "        }    #T_cfe1a642_a8d5_11ea_8f9e_0242ac1c0002row10_col3 {\n",
              "            : ;\n",
              "            text-align:  left;\n",
              "        }    #T_cfe1a642_a8d5_11ea_8f9e_0242ac1c0002row10_col4 {\n",
              "            : ;\n",
              "            text-align:  left;\n",
              "        }    #T_cfe1a642_a8d5_11ea_8f9e_0242ac1c0002row10_col5 {\n",
              "            : ;\n",
              "            text-align:  left;\n",
              "        }    #T_cfe1a642_a8d5_11ea_8f9e_0242ac1c0002row10_col6 {\n",
              "            : ;\n",
              "            text-align:  left;\n",
              "        }    #T_cfe1a642_a8d5_11ea_8f9e_0242ac1c0002row11_col0 {\n",
              "            text-align:  left;\n",
              "        }    #T_cfe1a642_a8d5_11ea_8f9e_0242ac1c0002row11_col1 {\n",
              "            : ;\n",
              "            text-align:  left;\n",
              "        }    #T_cfe1a642_a8d5_11ea_8f9e_0242ac1c0002row11_col2 {\n",
              "            : ;\n",
              "            text-align:  left;\n",
              "        }    #T_cfe1a642_a8d5_11ea_8f9e_0242ac1c0002row11_col3 {\n",
              "            : ;\n",
              "            text-align:  left;\n",
              "        }    #T_cfe1a642_a8d5_11ea_8f9e_0242ac1c0002row11_col4 {\n",
              "            : ;\n",
              "            text-align:  left;\n",
              "        }    #T_cfe1a642_a8d5_11ea_8f9e_0242ac1c0002row11_col5 {\n",
              "            : ;\n",
              "            text-align:  left;\n",
              "        }    #T_cfe1a642_a8d5_11ea_8f9e_0242ac1c0002row11_col6 {\n",
              "            : ;\n",
              "            text-align:  left;\n",
              "        }    #T_cfe1a642_a8d5_11ea_8f9e_0242ac1c0002row12_col0 {\n",
              "            text-align:  left;\n",
              "        }    #T_cfe1a642_a8d5_11ea_8f9e_0242ac1c0002row12_col1 {\n",
              "            : ;\n",
              "            text-align:  left;\n",
              "        }    #T_cfe1a642_a8d5_11ea_8f9e_0242ac1c0002row12_col2 {\n",
              "            : ;\n",
              "            text-align:  left;\n",
              "        }    #T_cfe1a642_a8d5_11ea_8f9e_0242ac1c0002row12_col3 {\n",
              "            : ;\n",
              "            text-align:  left;\n",
              "        }    #T_cfe1a642_a8d5_11ea_8f9e_0242ac1c0002row12_col4 {\n",
              "            : ;\n",
              "            text-align:  left;\n",
              "        }    #T_cfe1a642_a8d5_11ea_8f9e_0242ac1c0002row12_col5 {\n",
              "            : ;\n",
              "            text-align:  left;\n",
              "        }    #T_cfe1a642_a8d5_11ea_8f9e_0242ac1c0002row12_col6 {\n",
              "            : ;\n",
              "            text-align:  left;\n",
              "        }    #T_cfe1a642_a8d5_11ea_8f9e_0242ac1c0002row13_col0 {\n",
              "            text-align:  left;\n",
              "        }    #T_cfe1a642_a8d5_11ea_8f9e_0242ac1c0002row13_col1 {\n",
              "            : ;\n",
              "            text-align:  left;\n",
              "        }    #T_cfe1a642_a8d5_11ea_8f9e_0242ac1c0002row13_col2 {\n",
              "            : ;\n",
              "            text-align:  left;\n",
              "        }    #T_cfe1a642_a8d5_11ea_8f9e_0242ac1c0002row13_col3 {\n",
              "            : ;\n",
              "            text-align:  left;\n",
              "        }    #T_cfe1a642_a8d5_11ea_8f9e_0242ac1c0002row13_col4 {\n",
              "            : ;\n",
              "            text-align:  left;\n",
              "        }    #T_cfe1a642_a8d5_11ea_8f9e_0242ac1c0002row13_col5 {\n",
              "            : ;\n",
              "            text-align:  left;\n",
              "        }    #T_cfe1a642_a8d5_11ea_8f9e_0242ac1c0002row13_col6 {\n",
              "            : ;\n",
              "            text-align:  left;\n",
              "        }    #T_cfe1a642_a8d5_11ea_8f9e_0242ac1c0002row14_col0 {\n",
              "            text-align:  left;\n",
              "        }    #T_cfe1a642_a8d5_11ea_8f9e_0242ac1c0002row14_col1 {\n",
              "            : ;\n",
              "            text-align:  left;\n",
              "        }    #T_cfe1a642_a8d5_11ea_8f9e_0242ac1c0002row14_col2 {\n",
              "            : ;\n",
              "            text-align:  left;\n",
              "        }    #T_cfe1a642_a8d5_11ea_8f9e_0242ac1c0002row14_col3 {\n",
              "            background-color:  yellow;\n",
              "            text-align:  left;\n",
              "        }    #T_cfe1a642_a8d5_11ea_8f9e_0242ac1c0002row14_col4 {\n",
              "            : ;\n",
              "            text-align:  left;\n",
              "        }    #T_cfe1a642_a8d5_11ea_8f9e_0242ac1c0002row14_col5 {\n",
              "            : ;\n",
              "            text-align:  left;\n",
              "        }    #T_cfe1a642_a8d5_11ea_8f9e_0242ac1c0002row14_col6 {\n",
              "            : ;\n",
              "            text-align:  left;\n",
              "        }</style><table id=\"T_cfe1a642_a8d5_11ea_8f9e_0242ac1c0002\" ><thead>    <tr>        <th class=\"blank level0\" ></th>        <th class=\"col_heading level0 col0\" >Model</th>        <th class=\"col_heading level0 col1\" >Accuracy</th>        <th class=\"col_heading level0 col2\" >AUC</th>        <th class=\"col_heading level0 col3\" >Recall</th>        <th class=\"col_heading level0 col4\" >Prec.</th>        <th class=\"col_heading level0 col5\" >F1</th>        <th class=\"col_heading level0 col6\" >Kappa</th>    </tr></thead><tbody>\n",
              "                <tr>\n",
              "                        <th id=\"T_cfe1a642_a8d5_11ea_8f9e_0242ac1c0002level0_row0\" class=\"row_heading level0 row0\" >0</th>\n",
              "                        <td id=\"T_cfe1a642_a8d5_11ea_8f9e_0242ac1c0002row0_col0\" class=\"data row0 col0\" >CatBoost Classifier</td>\n",
              "                        <td id=\"T_cfe1a642_a8d5_11ea_8f9e_0242ac1c0002row0_col1\" class=\"data row0 col1\" >0.935700</td>\n",
              "                        <td id=\"T_cfe1a642_a8d5_11ea_8f9e_0242ac1c0002row0_col2\" class=\"data row0 col2\" >0.946800</td>\n",
              "                        <td id=\"T_cfe1a642_a8d5_11ea_8f9e_0242ac1c0002row0_col3\" class=\"data row0 col3\" >0.644900</td>\n",
              "                        <td id=\"T_cfe1a642_a8d5_11ea_8f9e_0242ac1c0002row0_col4\" class=\"data row0 col4\" >0.902800</td>\n",
              "                        <td id=\"T_cfe1a642_a8d5_11ea_8f9e_0242ac1c0002row0_col5\" class=\"data row0 col5\" >0.752200</td>\n",
              "                        <td id=\"T_cfe1a642_a8d5_11ea_8f9e_0242ac1c0002row0_col6\" class=\"data row0 col6\" >0.716400</td>\n",
              "            </tr>\n",
              "            <tr>\n",
              "                        <th id=\"T_cfe1a642_a8d5_11ea_8f9e_0242ac1c0002level0_row1\" class=\"row_heading level0 row1\" >1</th>\n",
              "                        <td id=\"T_cfe1a642_a8d5_11ea_8f9e_0242ac1c0002row1_col0\" class=\"data row1 col0\" >Light Gradient Boosting Machine</td>\n",
              "                        <td id=\"T_cfe1a642_a8d5_11ea_8f9e_0242ac1c0002row1_col1\" class=\"data row1 col1\" >0.934100</td>\n",
              "                        <td id=\"T_cfe1a642_a8d5_11ea_8f9e_0242ac1c0002row1_col2\" class=\"data row1 col2\" >0.946300</td>\n",
              "                        <td id=\"T_cfe1a642_a8d5_11ea_8f9e_0242ac1c0002row1_col3\" class=\"data row1 col3\" >0.636900</td>\n",
              "                        <td id=\"T_cfe1a642_a8d5_11ea_8f9e_0242ac1c0002row1_col4\" class=\"data row1 col4\" >0.898900</td>\n",
              "                        <td id=\"T_cfe1a642_a8d5_11ea_8f9e_0242ac1c0002row1_col5\" class=\"data row1 col5\" >0.745300</td>\n",
              "                        <td id=\"T_cfe1a642_a8d5_11ea_8f9e_0242ac1c0002row1_col6\" class=\"data row1 col6\" >0.708700</td>\n",
              "            </tr>\n",
              "            <tr>\n",
              "                        <th id=\"T_cfe1a642_a8d5_11ea_8f9e_0242ac1c0002level0_row2\" class=\"row_heading level0 row2\" >2</th>\n",
              "                        <td id=\"T_cfe1a642_a8d5_11ea_8f9e_0242ac1c0002row2_col0\" class=\"data row2 col0\" >Extra Trees Classifier</td>\n",
              "                        <td id=\"T_cfe1a642_a8d5_11ea_8f9e_0242ac1c0002row2_col1\" class=\"data row2 col1\" >0.930000</td>\n",
              "                        <td id=\"T_cfe1a642_a8d5_11ea_8f9e_0242ac1c0002row2_col2\" class=\"data row2 col2\" >0.947300</td>\n",
              "                        <td id=\"T_cfe1a642_a8d5_11ea_8f9e_0242ac1c0002row2_col3\" class=\"data row2 col3\" >0.620000</td>\n",
              "                        <td id=\"T_cfe1a642_a8d5_11ea_8f9e_0242ac1c0002row2_col4\" class=\"data row2 col4\" >0.882600</td>\n",
              "                        <td id=\"T_cfe1a642_a8d5_11ea_8f9e_0242ac1c0002row2_col5\" class=\"data row2 col5\" >0.728200</td>\n",
              "                        <td id=\"T_cfe1a642_a8d5_11ea_8f9e_0242ac1c0002row2_col6\" class=\"data row2 col6\" >0.689400</td>\n",
              "            </tr>\n",
              "            <tr>\n",
              "                        <th id=\"T_cfe1a642_a8d5_11ea_8f9e_0242ac1c0002level0_row3\" class=\"row_heading level0 row3\" >3</th>\n",
              "                        <td id=\"T_cfe1a642_a8d5_11ea_8f9e_0242ac1c0002row3_col0\" class=\"data row3 col0\" >Random Forest Classifier</td>\n",
              "                        <td id=\"T_cfe1a642_a8d5_11ea_8f9e_0242ac1c0002row3_col1\" class=\"data row3 col1\" >0.925800</td>\n",
              "                        <td id=\"T_cfe1a642_a8d5_11ea_8f9e_0242ac1c0002row3_col2\" class=\"data row3 col2\" >0.928400</td>\n",
              "                        <td id=\"T_cfe1a642_a8d5_11ea_8f9e_0242ac1c0002row3_col3\" class=\"data row3 col3\" >0.581700</td>\n",
              "                        <td id=\"T_cfe1a642_a8d5_11ea_8f9e_0242ac1c0002row3_col4\" class=\"data row3 col4\" >0.890500</td>\n",
              "                        <td id=\"T_cfe1a642_a8d5_11ea_8f9e_0242ac1c0002row3_col5\" class=\"data row3 col5\" >0.703500</td>\n",
              "                        <td id=\"T_cfe1a642_a8d5_11ea_8f9e_0242ac1c0002row3_col6\" class=\"data row3 col6\" >0.663200</td>\n",
              "            </tr>\n",
              "            <tr>\n",
              "                        <th id=\"T_cfe1a642_a8d5_11ea_8f9e_0242ac1c0002level0_row4\" class=\"row_heading level0 row4\" >4</th>\n",
              "                        <td id=\"T_cfe1a642_a8d5_11ea_8f9e_0242ac1c0002row4_col0\" class=\"data row4 col0\" >Gradient Boosting Classifier</td>\n",
              "                        <td id=\"T_cfe1a642_a8d5_11ea_8f9e_0242ac1c0002row4_col1\" class=\"data row4 col1\" >0.915800</td>\n",
              "                        <td id=\"T_cfe1a642_a8d5_11ea_8f9e_0242ac1c0002row4_col2\" class=\"data row4 col2\" >0.921800</td>\n",
              "                        <td id=\"T_cfe1a642_a8d5_11ea_8f9e_0242ac1c0002row4_col3\" class=\"data row4 col3\" >0.490600</td>\n",
              "                        <td id=\"T_cfe1a642_a8d5_11ea_8f9e_0242ac1c0002row4_col4\" class=\"data row4 col4\" >0.912900</td>\n",
              "                        <td id=\"T_cfe1a642_a8d5_11ea_8f9e_0242ac1c0002row4_col5\" class=\"data row4 col5\" >0.637900</td>\n",
              "                        <td id=\"T_cfe1a642_a8d5_11ea_8f9e_0242ac1c0002row4_col6\" class=\"data row4 col6\" >0.595100</td>\n",
              "            </tr>\n",
              "            <tr>\n",
              "                        <th id=\"T_cfe1a642_a8d5_11ea_8f9e_0242ac1c0002level0_row5\" class=\"row_heading level0 row5\" >5</th>\n",
              "                        <td id=\"T_cfe1a642_a8d5_11ea_8f9e_0242ac1c0002row5_col0\" class=\"data row5 col0\" >Extreme Gradient Boosting</td>\n",
              "                        <td id=\"T_cfe1a642_a8d5_11ea_8f9e_0242ac1c0002row5_col1\" class=\"data row5 col1\" >0.915300</td>\n",
              "                        <td id=\"T_cfe1a642_a8d5_11ea_8f9e_0242ac1c0002row5_col2\" class=\"data row5 col2\" >0.922400</td>\n",
              "                        <td id=\"T_cfe1a642_a8d5_11ea_8f9e_0242ac1c0002row5_col3\" class=\"data row5 col3\" >0.477000</td>\n",
              "                        <td id=\"T_cfe1a642_a8d5_11ea_8f9e_0242ac1c0002row5_col4\" class=\"data row5 col4\" >0.929100</td>\n",
              "                        <td id=\"T_cfe1a642_a8d5_11ea_8f9e_0242ac1c0002row5_col5\" class=\"data row5 col5\" >0.630100</td>\n",
              "                        <td id=\"T_cfe1a642_a8d5_11ea_8f9e_0242ac1c0002row5_col6\" class=\"data row5 col6\" >0.587800</td>\n",
              "            </tr>\n",
              "            <tr>\n",
              "                        <th id=\"T_cfe1a642_a8d5_11ea_8f9e_0242ac1c0002level0_row6\" class=\"row_heading level0 row6\" >6</th>\n",
              "                        <td id=\"T_cfe1a642_a8d5_11ea_8f9e_0242ac1c0002row6_col0\" class=\"data row6 col0\" >Decision Tree Classifier</td>\n",
              "                        <td id=\"T_cfe1a642_a8d5_11ea_8f9e_0242ac1c0002row6_col1\" class=\"data row6 col1\" >0.909100</td>\n",
              "                        <td id=\"T_cfe1a642_a8d5_11ea_8f9e_0242ac1c0002row6_col2\" class=\"data row6 col2\" >0.827100</td>\n",
              "                        <td id=\"T_cfe1a642_a8d5_11ea_8f9e_0242ac1c0002row6_col3\" class=\"data row6 col3\" >0.681500</td>\n",
              "                        <td id=\"T_cfe1a642_a8d5_11ea_8f9e_0242ac1c0002row6_col4\" class=\"data row6 col4\" >0.707500</td>\n",
              "                        <td id=\"T_cfe1a642_a8d5_11ea_8f9e_0242ac1c0002row6_col5\" class=\"data row6 col5\" >0.694000</td>\n",
              "                        <td id=\"T_cfe1a642_a8d5_11ea_8f9e_0242ac1c0002row6_col6\" class=\"data row6 col6\" >0.640600</td>\n",
              "            </tr>\n",
              "            <tr>\n",
              "                        <th id=\"T_cfe1a642_a8d5_11ea_8f9e_0242ac1c0002level0_row7\" class=\"row_heading level0 row7\" >7</th>\n",
              "                        <td id=\"T_cfe1a642_a8d5_11ea_8f9e_0242ac1c0002row7_col0\" class=\"data row7 col0\" >Ada Boost Classifier</td>\n",
              "                        <td id=\"T_cfe1a642_a8d5_11ea_8f9e_0242ac1c0002row7_col1\" class=\"data row7 col1\" >0.908800</td>\n",
              "                        <td id=\"T_cfe1a642_a8d5_11ea_8f9e_0242ac1c0002row7_col2\" class=\"data row7 col2\" >0.896600</td>\n",
              "                        <td id=\"T_cfe1a642_a8d5_11ea_8f9e_0242ac1c0002row7_col3\" class=\"data row7 col3\" >0.452700</td>\n",
              "                        <td id=\"T_cfe1a642_a8d5_11ea_8f9e_0242ac1c0002row7_col4\" class=\"data row7 col4\" >0.892200</td>\n",
              "                        <td id=\"T_cfe1a642_a8d5_11ea_8f9e_0242ac1c0002row7_col5\" class=\"data row7 col5\" >0.600400</td>\n",
              "                        <td id=\"T_cfe1a642_a8d5_11ea_8f9e_0242ac1c0002row7_col6\" class=\"data row7 col6\" >0.555100</td>\n",
              "            </tr>\n",
              "            <tr>\n",
              "                        <th id=\"T_cfe1a642_a8d5_11ea_8f9e_0242ac1c0002level0_row8\" class=\"row_heading level0 row8\" >8</th>\n",
              "                        <td id=\"T_cfe1a642_a8d5_11ea_8f9e_0242ac1c0002row8_col0\" class=\"data row8 col0\" >Ridge Classifier</td>\n",
              "                        <td id=\"T_cfe1a642_a8d5_11ea_8f9e_0242ac1c0002row8_col1\" class=\"data row8 col1\" >0.906400</td>\n",
              "                        <td id=\"T_cfe1a642_a8d5_11ea_8f9e_0242ac1c0002row8_col2\" class=\"data row8 col2\" >0.000000</td>\n",
              "                        <td id=\"T_cfe1a642_a8d5_11ea_8f9e_0242ac1c0002row8_col3\" class=\"data row8 col3\" >0.391800</td>\n",
              "                        <td id=\"T_cfe1a642_a8d5_11ea_8f9e_0242ac1c0002row8_col4\" class=\"data row8 col4\" >0.975300</td>\n",
              "                        <td id=\"T_cfe1a642_a8d5_11ea_8f9e_0242ac1c0002row8_col5\" class=\"data row8 col5\" >0.558800</td>\n",
              "                        <td id=\"T_cfe1a642_a8d5_11ea_8f9e_0242ac1c0002row8_col6\" class=\"data row8 col6\" >0.517000</td>\n",
              "            </tr>\n",
              "            <tr>\n",
              "                        <th id=\"T_cfe1a642_a8d5_11ea_8f9e_0242ac1c0002level0_row9\" class=\"row_heading level0 row9\" >9</th>\n",
              "                        <td id=\"T_cfe1a642_a8d5_11ea_8f9e_0242ac1c0002row9_col0\" class=\"data row9 col0\" >Linear Discriminant Analysis</td>\n",
              "                        <td id=\"T_cfe1a642_a8d5_11ea_8f9e_0242ac1c0002row9_col1\" class=\"data row9 col1\" >0.906200</td>\n",
              "                        <td id=\"T_cfe1a642_a8d5_11ea_8f9e_0242ac1c0002row9_col2\" class=\"data row9 col2\" >0.866700</td>\n",
              "                        <td id=\"T_cfe1a642_a8d5_11ea_8f9e_0242ac1c0002row9_col3\" class=\"data row9 col3\" >0.404000</td>\n",
              "                        <td id=\"T_cfe1a642_a8d5_11ea_8f9e_0242ac1c0002row9_col4\" class=\"data row9 col4\" >0.945100</td>\n",
              "                        <td id=\"T_cfe1a642_a8d5_11ea_8f9e_0242ac1c0002row9_col5\" class=\"data row9 col5\" >0.565900</td>\n",
              "                        <td id=\"T_cfe1a642_a8d5_11ea_8f9e_0242ac1c0002row9_col6\" class=\"data row9 col6\" >0.522700</td>\n",
              "            </tr>\n",
              "            <tr>\n",
              "                        <th id=\"T_cfe1a642_a8d5_11ea_8f9e_0242ac1c0002level0_row10\" class=\"row_heading level0 row10\" >10</th>\n",
              "                        <td id=\"T_cfe1a642_a8d5_11ea_8f9e_0242ac1c0002row10_col0\" class=\"data row10 col0\" >Logistic Regression</td>\n",
              "                        <td id=\"T_cfe1a642_a8d5_11ea_8f9e_0242ac1c0002row10_col1\" class=\"data row10 col1\" >0.904200</td>\n",
              "                        <td id=\"T_cfe1a642_a8d5_11ea_8f9e_0242ac1c0002row10_col2\" class=\"data row10 col2\" >0.655000</td>\n",
              "                        <td id=\"T_cfe1a642_a8d5_11ea_8f9e_0242ac1c0002row10_col3\" class=\"data row10 col3\" >0.390000</td>\n",
              "                        <td id=\"T_cfe1a642_a8d5_11ea_8f9e_0242ac1c0002row10_col4\" class=\"data row10 col4\" >0.951600</td>\n",
              "                        <td id=\"T_cfe1a642_a8d5_11ea_8f9e_0242ac1c0002row10_col5\" class=\"data row10 col5\" >0.552000</td>\n",
              "                        <td id=\"T_cfe1a642_a8d5_11ea_8f9e_0242ac1c0002row10_col6\" class=\"data row10 col6\" >0.508600</td>\n",
              "            </tr>\n",
              "            <tr>\n",
              "                        <th id=\"T_cfe1a642_a8d5_11ea_8f9e_0242ac1c0002level0_row11\" class=\"row_heading level0 row11\" >11</th>\n",
              "                        <td id=\"T_cfe1a642_a8d5_11ea_8f9e_0242ac1c0002row11_col0\" class=\"data row11 col0\" >K Neighbors Classifier</td>\n",
              "                        <td id=\"T_cfe1a642_a8d5_11ea_8f9e_0242ac1c0002row11_col1\" class=\"data row11 col1\" >0.899300</td>\n",
              "                        <td id=\"T_cfe1a642_a8d5_11ea_8f9e_0242ac1c0002row11_col2\" class=\"data row11 col2\" >0.776900</td>\n",
              "                        <td id=\"T_cfe1a642_a8d5_11ea_8f9e_0242ac1c0002row11_col3\" class=\"data row11 col3\" >0.434500</td>\n",
              "                        <td id=\"T_cfe1a642_a8d5_11ea_8f9e_0242ac1c0002row11_col4\" class=\"data row11 col4\" >0.814200</td>\n",
              "                        <td id=\"T_cfe1a642_a8d5_11ea_8f9e_0242ac1c0002row11_col5\" class=\"data row11 col5\" >0.566200</td>\n",
              "                        <td id=\"T_cfe1a642_a8d5_11ea_8f9e_0242ac1c0002row11_col6\" class=\"data row11 col6\" >0.515100</td>\n",
              "            </tr>\n",
              "            <tr>\n",
              "                        <th id=\"T_cfe1a642_a8d5_11ea_8f9e_0242ac1c0002level0_row12\" class=\"row_heading level0 row12\" >12</th>\n",
              "                        <td id=\"T_cfe1a642_a8d5_11ea_8f9e_0242ac1c0002row12_col0\" class=\"data row12 col0\" >SVM - Linear Kernel</td>\n",
              "                        <td id=\"T_cfe1a642_a8d5_11ea_8f9e_0242ac1c0002row12_col1\" class=\"data row12 col1\" >0.628400</td>\n",
              "                        <td id=\"T_cfe1a642_a8d5_11ea_8f9e_0242ac1c0002row12_col2\" class=\"data row12 col2\" >0.000000</td>\n",
              "                        <td id=\"T_cfe1a642_a8d5_11ea_8f9e_0242ac1c0002row12_col3\" class=\"data row12 col3\" >0.397500</td>\n",
              "                        <td id=\"T_cfe1a642_a8d5_11ea_8f9e_0242ac1c0002row12_col4\" class=\"data row12 col4\" >0.168300</td>\n",
              "                        <td id=\"T_cfe1a642_a8d5_11ea_8f9e_0242ac1c0002row12_col5\" class=\"data row12 col5\" >0.171700</td>\n",
              "                        <td id=\"T_cfe1a642_a8d5_11ea_8f9e_0242ac1c0002row12_col6\" class=\"data row12 col6\" >0.039400</td>\n",
              "            </tr>\n",
              "            <tr>\n",
              "                        <th id=\"T_cfe1a642_a8d5_11ea_8f9e_0242ac1c0002level0_row13\" class=\"row_heading level0 row13\" >13</th>\n",
              "                        <td id=\"T_cfe1a642_a8d5_11ea_8f9e_0242ac1c0002row13_col0\" class=\"data row13 col0\" >Naive Bayes</td>\n",
              "                        <td id=\"T_cfe1a642_a8d5_11ea_8f9e_0242ac1c0002row13_col1\" class=\"data row13 col1\" >0.302000</td>\n",
              "                        <td id=\"T_cfe1a642_a8d5_11ea_8f9e_0242ac1c0002row13_col2\" class=\"data row13 col2\" >0.725400</td>\n",
              "                        <td id=\"T_cfe1a642_a8d5_11ea_8f9e_0242ac1c0002row13_col3\" class=\"data row13 col3\" >0.878400</td>\n",
              "                        <td id=\"T_cfe1a642_a8d5_11ea_8f9e_0242ac1c0002row13_col4\" class=\"data row13 col4\" >0.252600</td>\n",
              "                        <td id=\"T_cfe1a642_a8d5_11ea_8f9e_0242ac1c0002row13_col5\" class=\"data row13 col5\" >0.315200</td>\n",
              "                        <td id=\"T_cfe1a642_a8d5_11ea_8f9e_0242ac1c0002row13_col6\" class=\"data row13 col6\" >0.091500</td>\n",
              "            </tr>\n",
              "            <tr>\n",
              "                        <th id=\"T_cfe1a642_a8d5_11ea_8f9e_0242ac1c0002level0_row14\" class=\"row_heading level0 row14\" >14</th>\n",
              "                        <td id=\"T_cfe1a642_a8d5_11ea_8f9e_0242ac1c0002row14_col0\" class=\"data row14 col0\" >Quadratic Discriminant Analysis</td>\n",
              "                        <td id=\"T_cfe1a642_a8d5_11ea_8f9e_0242ac1c0002row14_col1\" class=\"data row14 col1\" >0.205400</td>\n",
              "                        <td id=\"T_cfe1a642_a8d5_11ea_8f9e_0242ac1c0002row14_col2\" class=\"data row14 col2\" >0.532800</td>\n",
              "                        <td id=\"T_cfe1a642_a8d5_11ea_8f9e_0242ac1c0002row14_col3\" class=\"data row14 col3\" >0.978600</td>\n",
              "                        <td id=\"T_cfe1a642_a8d5_11ea_8f9e_0242ac1c0002row14_col4\" class=\"data row14 col4\" >0.157700</td>\n",
              "                        <td id=\"T_cfe1a642_a8d5_11ea_8f9e_0242ac1c0002row14_col5\" class=\"data row14 col5\" >0.271600</td>\n",
              "                        <td id=\"T_cfe1a642_a8d5_11ea_8f9e_0242ac1c0002row14_col6\" class=\"data row14 col6\" >0.014700</td>\n",
              "            </tr>\n",
              "    </tbody></table>"
            ],
            "text/plain": [
              "<pandas.io.formats.style.Styler at 0x7f436c253908>"
            ]
          },
          "metadata": {
            "tags": []
          },
          "execution_count": 160
        }
      ]
    },
    {
      "cell_type": "markdown",
      "metadata": {
        "id": "k1ah3Z-loaVC",
        "colab_type": "text"
      },
      "source": [
        "After executing the compare_models function we noticed that the CatBoost Classifier is the best for the F1 score (0.75) and the Extra Trees Classifier has the best AUC score(0.947)"
      ]
    },
    {
      "cell_type": "code",
      "metadata": {
        "id": "uH6mGKjMKGPy",
        "colab_type": "code",
        "outputId": "15ff7551-8f09-475e-d85e-f992bfdb8b07",
        "colab": {
          "base_uri": "https://localhost:8080/",
          "height": 402,
          "referenced_widgets": [
            "395eafb9914e4f87a33b49bebb49f8a2",
            "7c40614b19e4442a81ea6da887afc28a",
            "a74eca3a5d2b44be9b87bb61047dbaf0"
          ]
        }
      },
      "source": [
        "#Create Model\n",
        "catboost = create_model('catboost')"
      ],
      "execution_count": 0,
      "outputs": [
        {
          "output_type": "display_data",
          "data": {
            "text/html": [
              "<div>\n",
              "<style scoped>\n",
              "    .dataframe tbody tr th:only-of-type {\n",
              "        vertical-align: middle;\n",
              "    }\n",
              "\n",
              "    .dataframe tbody tr th {\n",
              "        vertical-align: top;\n",
              "    }\n",
              "\n",
              "    .dataframe thead th {\n",
              "        text-align: right;\n",
              "    }\n",
              "</style>\n",
              "<table border=\"1\" class=\"dataframe\">\n",
              "  <thead>\n",
              "    <tr style=\"text-align: right;\">\n",
              "      <th></th>\n",
              "      <th>Accuracy</th>\n",
              "      <th>AUC</th>\n",
              "      <th>Recall</th>\n",
              "      <th>Prec.</th>\n",
              "      <th>F1</th>\n",
              "      <th>Kappa</th>\n",
              "    </tr>\n",
              "  </thead>\n",
              "  <tbody>\n",
              "    <tr>\n",
              "      <th>0</th>\n",
              "      <td>0.9373</td>\n",
              "      <td>0.9364</td>\n",
              "      <td>0.6394</td>\n",
              "      <td>0.9219</td>\n",
              "      <td>0.7551</td>\n",
              "      <td>0.7204</td>\n",
              "    </tr>\n",
              "    <tr>\n",
              "      <th>1</th>\n",
              "      <td>0.9351</td>\n",
              "      <td>0.9409</td>\n",
              "      <td>0.6499</td>\n",
              "      <td>0.8913</td>\n",
              "      <td>0.7517</td>\n",
              "      <td>0.7154</td>\n",
              "    </tr>\n",
              "    <tr>\n",
              "      <th>2</th>\n",
              "      <td>0.9373</td>\n",
              "      <td>0.9508</td>\n",
              "      <td>0.6552</td>\n",
              "      <td>0.9035</td>\n",
              "      <td>0.7596</td>\n",
              "      <td>0.7245</td>\n",
              "    </tr>\n",
              "    <tr>\n",
              "      <th>3</th>\n",
              "      <td>0.9343</td>\n",
              "      <td>0.9541</td>\n",
              "      <td>0.6398</td>\n",
              "      <td>0.8965</td>\n",
              "      <td>0.7467</td>\n",
              "      <td>0.7102</td>\n",
              "    </tr>\n",
              "    <tr>\n",
              "      <th>4</th>\n",
              "      <td>0.9349</td>\n",
              "      <td>0.9463</td>\n",
              "      <td>0.6332</td>\n",
              "      <td>0.9091</td>\n",
              "      <td>0.7465</td>\n",
              "      <td>0.7105</td>\n",
              "    </tr>\n",
              "    <tr>\n",
              "      <th>5</th>\n",
              "      <td>0.9381</td>\n",
              "      <td>0.9480</td>\n",
              "      <td>0.6715</td>\n",
              "      <td>0.8930</td>\n",
              "      <td>0.7666</td>\n",
              "      <td>0.7317</td>\n",
              "    </tr>\n",
              "    <tr>\n",
              "      <th>6</th>\n",
              "      <td>0.9345</td>\n",
              "      <td>0.9517</td>\n",
              "      <td>0.6240</td>\n",
              "      <td>0.9167</td>\n",
              "      <td>0.7425</td>\n",
              "      <td>0.7065</td>\n",
              "    </tr>\n",
              "    <tr>\n",
              "      <th>7</th>\n",
              "      <td>0.9361</td>\n",
              "      <td>0.9476</td>\n",
              "      <td>0.6346</td>\n",
              "      <td>0.9179</td>\n",
              "      <td>0.7504</td>\n",
              "      <td>0.7151</td>\n",
              "    </tr>\n",
              "    <tr>\n",
              "      <th>8</th>\n",
              "      <td>0.9355</td>\n",
              "      <td>0.9454</td>\n",
              "      <td>0.6609</td>\n",
              "      <td>0.8836</td>\n",
              "      <td>0.7562</td>\n",
              "      <td>0.7199</td>\n",
              "    </tr>\n",
              "    <tr>\n",
              "      <th>9</th>\n",
              "      <td>0.9343</td>\n",
              "      <td>0.9472</td>\n",
              "      <td>0.6407</td>\n",
              "      <td>0.8948</td>\n",
              "      <td>0.7467</td>\n",
              "      <td>0.7101</td>\n",
              "    </tr>\n",
              "    <tr>\n",
              "      <th>Mean</th>\n",
              "      <td>0.9357</td>\n",
              "      <td>0.9468</td>\n",
              "      <td>0.6449</td>\n",
              "      <td>0.9028</td>\n",
              "      <td>0.7522</td>\n",
              "      <td>0.7164</td>\n",
              "    </tr>\n",
              "    <tr>\n",
              "      <th>SD</th>\n",
              "      <td>0.0013</td>\n",
              "      <td>0.0049</td>\n",
              "      <td>0.0136</td>\n",
              "      <td>0.0124</td>\n",
              "      <td>0.0069</td>\n",
              "      <td>0.0074</td>\n",
              "    </tr>\n",
              "  </tbody>\n",
              "</table>\n",
              "</div>"
            ],
            "text/plain": [
              "      Accuracy     AUC  Recall   Prec.      F1   Kappa\n",
              "0       0.9373  0.9364  0.6394  0.9219  0.7551  0.7204\n",
              "1       0.9351  0.9409  0.6499  0.8913  0.7517  0.7154\n",
              "2       0.9373  0.9508  0.6552  0.9035  0.7596  0.7245\n",
              "3       0.9343  0.9541  0.6398  0.8965  0.7467  0.7102\n",
              "4       0.9349  0.9463  0.6332  0.9091  0.7465  0.7105\n",
              "5       0.9381  0.9480  0.6715  0.8930  0.7666  0.7317\n",
              "6       0.9345  0.9517  0.6240  0.9167  0.7425  0.7065\n",
              "7       0.9361  0.9476  0.6346  0.9179  0.7504  0.7151\n",
              "8       0.9355  0.9454  0.6609  0.8836  0.7562  0.7199\n",
              "9       0.9343  0.9472  0.6407  0.8948  0.7467  0.7101\n",
              "Mean    0.9357  0.9468  0.6449  0.9028  0.7522  0.7164\n",
              "SD      0.0013  0.0049  0.0136  0.0124  0.0069  0.0074"
            ]
          },
          "metadata": {
            "tags": []
          }
        }
      ]
    },
    {
      "cell_type": "code",
      "metadata": {
        "id": "yELIV4AJKR3E",
        "colab_type": "code",
        "outputId": "f7b1f65b-ee16-4b13-8530-09cafdae815a",
        "colab": {
          "base_uri": "https://localhost:8080/",
          "height": 402,
          "referenced_widgets": [
            "fe640d054ec0427b97c74a037ef989c4",
            "71c582128cb54f349f9951c3c634615c",
            "d31c3db03cfb420bb9ceb3b7636a5396"
          ]
        }
      },
      "source": [
        "#Tune Model\n",
        "tuned_catboost = tune_model('catboost')"
      ],
      "execution_count": 0,
      "outputs": [
        {
          "output_type": "display_data",
          "data": {
            "text/html": [
              "<div>\n",
              "<style scoped>\n",
              "    .dataframe tbody tr th:only-of-type {\n",
              "        vertical-align: middle;\n",
              "    }\n",
              "\n",
              "    .dataframe tbody tr th {\n",
              "        vertical-align: top;\n",
              "    }\n",
              "\n",
              "    .dataframe thead th {\n",
              "        text-align: right;\n",
              "    }\n",
              "</style>\n",
              "<table border=\"1\" class=\"dataframe\">\n",
              "  <thead>\n",
              "    <tr style=\"text-align: right;\">\n",
              "      <th></th>\n",
              "      <th>Accuracy</th>\n",
              "      <th>AUC</th>\n",
              "      <th>Recall</th>\n",
              "      <th>Prec.</th>\n",
              "      <th>F1</th>\n",
              "      <th>Kappa</th>\n",
              "    </tr>\n",
              "  </thead>\n",
              "  <tbody>\n",
              "    <tr>\n",
              "      <th>0</th>\n",
              "      <td>0.9387</td>\n",
              "      <td>0.9446</td>\n",
              "      <td>0.6671</td>\n",
              "      <td>0.9018</td>\n",
              "      <td>0.7669</td>\n",
              "      <td>0.7325</td>\n",
              "    </tr>\n",
              "    <tr>\n",
              "      <th>1</th>\n",
              "      <td>0.9375</td>\n",
              "      <td>0.9484</td>\n",
              "      <td>0.6975</td>\n",
              "      <td>0.8627</td>\n",
              "      <td>0.7714</td>\n",
              "      <td>0.7356</td>\n",
              "    </tr>\n",
              "    <tr>\n",
              "      <th>2</th>\n",
              "      <td>0.9371</td>\n",
              "      <td>0.9532</td>\n",
              "      <td>0.6909</td>\n",
              "      <td>0.8659</td>\n",
              "      <td>0.7686</td>\n",
              "      <td>0.7327</td>\n",
              "    </tr>\n",
              "    <tr>\n",
              "      <th>3</th>\n",
              "      <td>0.9407</td>\n",
              "      <td>0.9651</td>\n",
              "      <td>0.6821</td>\n",
              "      <td>0.9023</td>\n",
              "      <td>0.7769</td>\n",
              "      <td>0.7434</td>\n",
              "    </tr>\n",
              "    <tr>\n",
              "      <th>4</th>\n",
              "      <td>0.9363</td>\n",
              "      <td>0.9553</td>\n",
              "      <td>0.6728</td>\n",
              "      <td>0.8778</td>\n",
              "      <td>0.7618</td>\n",
              "      <td>0.7257</td>\n",
              "    </tr>\n",
              "    <tr>\n",
              "      <th>5</th>\n",
              "      <td>0.9405</td>\n",
              "      <td>0.9603</td>\n",
              "      <td>0.6979</td>\n",
              "      <td>0.8846</td>\n",
              "      <td>0.7802</td>\n",
              "      <td>0.7464</td>\n",
              "    </tr>\n",
              "    <tr>\n",
              "      <th>6</th>\n",
              "      <td>0.9353</td>\n",
              "      <td>0.9585</td>\n",
              "      <td>0.6544</td>\n",
              "      <td>0.8889</td>\n",
              "      <td>0.7538</td>\n",
              "      <td>0.7175</td>\n",
              "    </tr>\n",
              "    <tr>\n",
              "      <th>7</th>\n",
              "      <td>0.9425</td>\n",
              "      <td>0.9570</td>\n",
              "      <td>0.6887</td>\n",
              "      <td>0.9094</td>\n",
              "      <td>0.7838</td>\n",
              "      <td>0.7513</td>\n",
              "    </tr>\n",
              "    <tr>\n",
              "      <th>8</th>\n",
              "      <td>0.9391</td>\n",
              "      <td>0.9510</td>\n",
              "      <td>0.7018</td>\n",
              "      <td>0.8707</td>\n",
              "      <td>0.7772</td>\n",
              "      <td>0.7424</td>\n",
              "    </tr>\n",
              "    <tr>\n",
              "      <th>9</th>\n",
              "      <td>0.9404</td>\n",
              "      <td>0.9503</td>\n",
              "      <td>0.6988</td>\n",
              "      <td>0.8831</td>\n",
              "      <td>0.7802</td>\n",
              "      <td>0.7463</td>\n",
              "    </tr>\n",
              "    <tr>\n",
              "      <th>Mean</th>\n",
              "      <td>0.9388</td>\n",
              "      <td>0.9544</td>\n",
              "      <td>0.6852</td>\n",
              "      <td>0.8847</td>\n",
              "      <td>0.7721</td>\n",
              "      <td>0.7374</td>\n",
              "    </tr>\n",
              "    <tr>\n",
              "      <th>SD</th>\n",
              "      <td>0.0021</td>\n",
              "      <td>0.0058</td>\n",
              "      <td>0.0150</td>\n",
              "      <td>0.0152</td>\n",
              "      <td>0.0089</td>\n",
              "      <td>0.0100</td>\n",
              "    </tr>\n",
              "  </tbody>\n",
              "</table>\n",
              "</div>"
            ],
            "text/plain": [
              "      Accuracy     AUC  Recall   Prec.      F1   Kappa\n",
              "0       0.9387  0.9446  0.6671  0.9018  0.7669  0.7325\n",
              "1       0.9375  0.9484  0.6975  0.8627  0.7714  0.7356\n",
              "2       0.9371  0.9532  0.6909  0.8659  0.7686  0.7327\n",
              "3       0.9407  0.9651  0.6821  0.9023  0.7769  0.7434\n",
              "4       0.9363  0.9553  0.6728  0.8778  0.7618  0.7257\n",
              "5       0.9405  0.9603  0.6979  0.8846  0.7802  0.7464\n",
              "6       0.9353  0.9585  0.6544  0.8889  0.7538  0.7175\n",
              "7       0.9425  0.9570  0.6887  0.9094  0.7838  0.7513\n",
              "8       0.9391  0.9510  0.7018  0.8707  0.7772  0.7424\n",
              "9       0.9404  0.9503  0.6988  0.8831  0.7802  0.7463\n",
              "Mean    0.9388  0.9544  0.6852  0.8847  0.7721  0.7374\n",
              "SD      0.0021  0.0058  0.0150  0.0152  0.0089  0.0100"
            ]
          },
          "metadata": {
            "tags": []
          }
        }
      ]
    },
    {
      "cell_type": "markdown",
      "metadata": {
        "id": "yCI2V-kBp_NT",
        "colab_type": "text"
      },
      "source": [
        "As we can see here, after tuning the model we see the improvement in both the F1 score and the AUC score"
      ]
    },
    {
      "cell_type": "code",
      "metadata": {
        "id": "ziwqU4IYKaqy",
        "colab_type": "code",
        "outputId": "4a3c7265-b9ab-4d9f-9499-0593543fe926",
        "colab": {
          "base_uri": "https://localhost:8080/",
          "height": 77
        }
      },
      "source": [
        "#generate predictions on hold-out set using trained model\n",
        "catboost_predictions_holdout = predict_model(catboost)"
      ],
      "execution_count": 0,
      "outputs": [
        {
          "output_type": "display_data",
          "data": {
            "text/html": [
              "<div>\n",
              "<style scoped>\n",
              "    .dataframe tbody tr th:only-of-type {\n",
              "        vertical-align: middle;\n",
              "    }\n",
              "\n",
              "    .dataframe tbody tr th {\n",
              "        vertical-align: top;\n",
              "    }\n",
              "\n",
              "    .dataframe thead th {\n",
              "        text-align: right;\n",
              "    }\n",
              "</style>\n",
              "<table border=\"1\" class=\"dataframe\">\n",
              "  <thead>\n",
              "    <tr style=\"text-align: right;\">\n",
              "      <th></th>\n",
              "      <th>Model</th>\n",
              "      <th>Accuracy</th>\n",
              "      <th>AUC</th>\n",
              "      <th>Recall</th>\n",
              "      <th>Prec.</th>\n",
              "      <th>F1</th>\n",
              "      <th>Kappa</th>\n",
              "    </tr>\n",
              "  </thead>\n",
              "  <tbody>\n",
              "    <tr>\n",
              "      <th>0</th>\n",
              "      <td>CatBoost Classifier</td>\n",
              "      <td>0.9394</td>\n",
              "      <td>0.9504</td>\n",
              "      <td>0.6671</td>\n",
              "      <td>0.9086</td>\n",
              "      <td>0.7693</td>\n",
              "      <td>0.7354</td>\n",
              "    </tr>\n",
              "  </tbody>\n",
              "</table>\n",
              "</div>"
            ],
            "text/plain": [
              "                 Model  Accuracy     AUC  Recall   Prec.      F1   Kappa\n",
              "0  CatBoost Classifier    0.9394  0.9504  0.6671  0.9086  0.7693  0.7354"
            ]
          },
          "metadata": {
            "tags": []
          }
        }
      ]
    },
    {
      "cell_type": "markdown",
      "metadata": {
        "id": "n-1Hihx3qg1C",
        "colab_type": "text"
      },
      "source": [
        "We see that validation score is pretty good for both metrics. And this proves that the model is efficient."
      ]
    },
    {
      "cell_type": "markdown",
      "metadata": {
        "id": "q8V9PHrK5Ce7",
        "colab_type": "text"
      },
      "source": [
        "#Incremental Learning"
      ]
    },
    {
      "cell_type": "markdown",
      "metadata": {
        "id": "r9Vj1vHN4LFY",
        "colab_type": "text"
      },
      "source": [
        "Incremental learning is a machine learning paradigm where the learning process takes place whenever new example(s) emerge and adjusts what has been learned according to the new example(s)."
      ]
    },
    {
      "cell_type": "code",
      "metadata": {
        "id": "41A7ffr05GgF",
        "colab_type": "code",
        "colab": {}
      },
      "source": [
        "#install the library\n",
        "!pip install -U scikit-multiflow"
      ],
      "execution_count": 0,
      "outputs": []
    },
    {
      "cell_type": "code",
      "metadata": {
        "id": "m0MJVS3f5pNF",
        "colab_type": "code",
        "outputId": "3efbc260-7a67-4643-8b95-d159d5faf9e9",
        "colab": {
          "base_uri": "https://localhost:8080/",
          "height": 34
        }
      },
      "source": [
        "from skmultiflow.trees import HoeffdingTree\n",
        "from skmultiflow.data import DataStream\n",
        "from tqdm import tqdm\n",
        "\n",
        "Stream = DataStream(train, np.array(y))\n",
        "Stream.prepare_for_use()\n",
        "\n",
        "tree = HoeffdingTree(binary_split=False, grace_period=200, leaf_prediction='nba',\n",
        "              max_byte_size=33554432, memory_estimate_period=1000000,\n",
        "              nb_threshold=0, no_preprune=False, nominal_attributes=None,\n",
        "              remove_poor_atts=False, split_confidence=1e-07,\n",
        "              split_criterion='info_gain', stop_mem_management=False,\n",
        "              tie_threshold=0.05)\n",
        "y_pred = []\n",
        "               \n",
        "for i in tqdm(range(len(train))):\n",
        "   X, Y = Stream.next_sample()       # get the next sample\n",
        "   prediction = tree.predict(X)       # predict Y using the tree     \n",
        "   y_pred.append(prediction) \n",
        "   \n",
        "   tree.partial_fit(X, Y)   "
      ],
      "execution_count": 0,
      "outputs": [
        {
          "output_type": "stream",
          "text": [
            "100%|██████████| 52108/52108 [00:58<00:00, 884.25it/s]\n"
          ],
          "name": "stderr"
        }
      ]
    },
    {
      "cell_type": "code",
      "metadata": {
        "id": "VFZisPcbElPz",
        "colab_type": "code",
        "outputId": "06a4e8e7-6c1c-4681-9241-90db97668a60",
        "colab": {
          "base_uri": "https://localhost:8080/",
          "height": 84
        }
      },
      "source": [
        "print('Confusion Matrix\\n', confusion_matrix(y, y_pred))  \n",
        "print('F1-score', f1_score(y, y_pred)) "
      ],
      "execution_count": 0,
      "outputs": [
        {
          "output_type": "stream",
          "text": [
            "Confusion Matrix\n",
            " [[45060   741]\n",
            " [  478  5829]]\n",
            "F1-score 0.12702630879617327\n"
          ],
          "name": "stdout"
        }
      ]
    },
    {
      "cell_type": "markdown",
      "metadata": {
        "id": "m9zIMnmibZpe",
        "colab_type": "text"
      },
      "source": [
        "Using the Incremental Learning, we got an f1_score around 13% which is not too bad."
      ]
    },
    {
      "cell_type": "markdown",
      "metadata": {
        "id": "oOmX4NyWSkOT",
        "colab_type": "text"
      },
      "source": [
        "#Conclusion"
      ]
    },
    {
      "cell_type": "markdown",
      "metadata": {
        "id": "tDWV5Qa29KH7",
        "colab_type": "text"
      },
      "source": [
        "![picture](https://drive.google.com/uc?id=1ZUw8iNOs5Qh8xoR31nJndhAoBwXdHKco)"
      ]
    }
  ]
}